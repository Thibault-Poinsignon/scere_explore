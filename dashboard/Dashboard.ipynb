{
 "cells": [
  {
   "cell_type": "code",
   "execution_count": 1,
   "metadata": {},
   "outputs": [],
   "source": [
    "import tools\n",
    "import visualization_2D as vis2D\n",
    "import visualization_3D as vis3D\n",
    "import pandas as pd\n",
    "import numpy as np\n",
    "import plotly.express as px\n",
    "import plotly.graph_objects as go\n",
    "import plotly.offline as pyo\n",
    "import math\n",
    "import random\n",
    "\n",
    "import networkx as nx\n",
    "import matplotlib.pyplot as plt\n",
    "import ipycytoscape\n",
    "import matplotlib.pyplot as plt\n",
    "import ipywidgets as widgets\n",
    "\n",
    "import dash\n",
    "from jupyter_dash import JupyterDash\n",
    "import dash_core_components as dcc\n",
    "import dash_html_components as html\n",
    "from dash.dependencies import Input, Output, State\n",
    "import dash_table\n",
    "from dash_table.Format import Format, Group\n",
    "import dash_table.FormatTemplate as FormatTemplate"
   ]
  },
  {
   "cell_type": "code",
   "execution_count": null,
   "metadata": {},
   "outputs": [],
   "source": [
    "app = JupyterDash(__name__)\n",
    "\n",
    "app.layout = html.Div([\n",
    "    dcc.Textarea(id='input-1-state',\n",
    "                 placeholder='Enter a SQL request...',\n",
    "                 style={'width': '50%'}),\n",
    "    html.Button(id='submit-button-state', n_clicks=0, children='Submit'),\n",
    "    html.Div(id='output-state'),\n",
    "    dcc.Graph(id='2D-representation')\n",
    "])\n",
    "\n",
    "\n",
    "@app.callback(Output('output-state', 'children'),\n",
    "              Input('submit-button-state', 'n_clicks'),\n",
    "              State('input-1-state', 'value'))\n",
    "def update_verif(n_clicks, input1):\n",
    "    return u'''\n",
    "        The SQL request is \"{}\"\"\n",
    "    '''.format(input1)\n",
    "\n",
    "@app.callback(Output('2D-representation', 'figure'),\n",
    "              Input('submit-button-state', 'n_clicks'),\n",
    "              State('input-1-state', 'value'))\n",
    "def update_graph(n_clicks, input1):\n",
    "    chrom = tools.get_locus_info(\"../SCERE.db\", str(input1))\n",
    "    chrom = vis2D.format_coordinates(chrom, 6)\n",
    "    return vis2D.genome_drawing(chrom, \"discreet\", \"Feature_type\", [\"rRNA_gene\"], [\"mediumblue\"])\n",
    "\n",
    "app.run_server(mode='external', debug=True)"
   ]
  },
  {
   "cell_type": "code",
   "execution_count": 116,
   "metadata": {},
   "outputs": [
    {
     "name": "stdout",
     "output_type": "stream",
     "text": [
      "Dash app running on http://127.0.0.1:8050/\n"
     ]
    },
    {
     "name": "stderr",
     "output_type": "stream",
     "text": [
      "/home/thibault/miniconda3/envs/3Dnetwork/lib/python3.8/site-packages/jupyter_dash/jupyter_app.py:139: UserWarning:\n",
      "\n",
      "The 'environ['werkzeug.server.shutdown']' function is deprecated and will be removed in Werkzeug 2.1.\n",
      "\n"
     ]
    }
   ],
   "source": [
    "colors = {'background': 'lightblue', 'text': 'Black'}\n",
    "\n",
    "sql_query = \\\n",
    "\"\"\"SELECT Primary_SGDID, Start_coordinate, Stop_coordinate, Chromosome, Feature_type, Strand\n",
    "FROM SGD_features\n",
    "ORDER BY Start_coordinate\n",
    "\"\"\"\n",
    "\n",
    "fig = px.line()\n",
    "fig.update_layout(plot_bgcolor=colors['background'],\n",
    "                  paper_bgcolor=colors['background'],\n",
    "                  font_color=colors['text'])\n",
    "\n",
    "external_stylesheets = ['https://codepen.io/chriddyp/pen/bWLwgP.css']\n",
    "\n",
    "app = JupyterDash(__name__, external_stylesheets=external_stylesheets)\n",
    "\n",
    "app.layout = html.Div(style={'backgroundColor': colors['background']}, children=[\n",
    "    \n",
    "    html.H1(\n",
    "        children='S.Cere explore Dashboard',\n",
    "        style={'textAlign': 'center',\n",
    "               'color': colors['text'],\n",
    "               'padding-top' : '1%',}),\n",
    "\n",
    "    html.Div(children='SQL request', \n",
    "             style={'color': colors['text'],\n",
    "                    'padding-left' : '1%'}),\n",
    "    \n",
    "    html.Div([dcc.Textarea(id='input-1-state',\n",
    "                 placeholder='Enter a SQL request...',\n",
    "                 style={'width': '50%'})]),\n",
    "    \n",
    "    dcc.Input(id=\"color\", type=\"text\", value=\"color\"),\n",
    "    \n",
    "    html.Button(id='submit-button-state',\n",
    "                n_clicks=0,\n",
    "                children='Submit request',\n",
    "                style={'textAlign': 'center', 'color': colors['text']}),\n",
    "\n",
    "    dcc.Graph(id='2D-representation', figure = fig, style={'padding-left' : '10%', 'padding-rifht' : '10%'})\n",
    "])\n",
    "\n",
    "@app.callback(Output('2D-representation', 'figure'),\n",
    "              Input('submit-button-state', 'n_clicks'),\n",
    "              State('input-1-state', 'value'),\n",
    "              State('color', 'value'))\n",
    "def update_graph(n_clicks, input1, input2):\n",
    "    chrom = tools.get_locus_info(\"../SCERE.db\", str(input1))\n",
    "    chrom = vis2D.format_coordinates(chrom, 6)\n",
    "    \n",
    "    fig = vis2D.genome_drawing(chrom, \"discreet\", \"Feature_type\", [\"rRNA_gene\"], [input2])\n",
    "    fig.update_layout(plot_bgcolor= 'white',\n",
    "                      paper_bgcolor=colors['background'],\n",
    "                      font_color=colors['text'])\n",
    "    \n",
    "    return fig\n",
    "    \n",
    "\n",
    "app.run_server(mode='external', debug=True)"
   ]
  },
  {
   "cell_type": "code",
   "execution_count": null,
   "metadata": {},
   "outputs": [],
   "source": []
  }
 ],
 "metadata": {
  "kernelspec": {
   "display_name": "Python 3",
   "language": "python",
   "name": "python3"
  },
  "language_info": {
   "codemirror_mode": {
    "name": "ipython",
    "version": 3
   },
   "file_extension": ".py",
   "mimetype": "text/x-python",
   "name": "python",
   "nbconvert_exporter": "python",
   "pygments_lexer": "ipython3",
   "version": "3.8.8"
  }
 },
 "nbformat": 4,
 "nbformat_minor": 4
}
