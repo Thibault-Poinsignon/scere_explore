{
 "cells": [
  {
   "cell_type": "code",
   "execution_count": 1,
   "metadata": {},
   "outputs": [],
   "source": [
    "import tools\n",
    "import visualization_2D as vis2D\n",
    "import visualization_3D as vis3D\n",
    "import pandas as pd\n",
    "import numpy as np\n",
    "import statsmodels.api as sm\n",
    "from statsmodels.graphics.gofplots import qqplot_2samples\n",
    "from scipy.stats import ks_2samp\n",
    "import matplotlib.pyplot as plt\n",
    "import random as rd\n",
    "import plotly.graph_objects as go\n",
    "import plotly.express as px\n",
    "from plotly.subplots import make_subplots\n",
    "import os\n",
    "from intermine.webservice import Service"
   ]
  },
  {
   "cell_type": "markdown",
   "metadata": {},
   "source": [
    "# I- TRN download"
   ]
  },
  {
   "cell_type": "code",
   "execution_count": 2,
   "metadata": {},
   "outputs": [
    {
     "data": {
      "text/html": [
       "<div>\n",
       "<style scoped>\n",
       "    .dataframe tbody tr th:only-of-type {\n",
       "        vertical-align: middle;\n",
       "    }\n",
       "\n",
       "    .dataframe tbody tr th {\n",
       "        vertical-align: top;\n",
       "    }\n",
       "\n",
       "    .dataframe thead th {\n",
       "        text-align: right;\n",
       "    }\n",
       "</style>\n",
       "<table border=\"1\" class=\"dataframe\">\n",
       "  <thead>\n",
       "    <tr style=\"text-align: right;\">\n",
       "      <th></th>\n",
       "      <th>TF</th>\n",
       "      <th>TG</th>\n",
       "      <th>Direction</th>\n",
       "      <th>Distance</th>\n",
       "    </tr>\n",
       "  </thead>\n",
       "  <tbody>\n",
       "    <tr>\n",
       "      <th>0</th>\n",
       "      <td>YLR403W</td>\n",
       "      <td>YLR048W</td>\n",
       "      <td>+</td>\n",
       "      <td>118.474</td>\n",
       "    </tr>\n",
       "    <tr>\n",
       "      <th>1</th>\n",
       "      <td>YDR423C</td>\n",
       "      <td>YKL002W</td>\n",
       "      <td>-</td>\n",
       "      <td>129.335</td>\n",
       "    </tr>\n",
       "    <tr>\n",
       "      <th>2</th>\n",
       "      <td>YMR021C</td>\n",
       "      <td>YDL234C</td>\n",
       "      <td>-</td>\n",
       "      <td>66.365</td>\n",
       "    </tr>\n",
       "    <tr>\n",
       "      <th>3</th>\n",
       "      <td>YLR403W</td>\n",
       "      <td>YDR050C</td>\n",
       "      <td>?</td>\n",
       "      <td>156.673</td>\n",
       "    </tr>\n",
       "    <tr>\n",
       "      <th>4</th>\n",
       "      <td>YDR253C</td>\n",
       "      <td>YLR438W</td>\n",
       "      <td>bound</td>\n",
       "      <td>109.636</td>\n",
       "    </tr>\n",
       "    <tr>\n",
       "      <th>...</th>\n",
       "      <td>...</td>\n",
       "      <td>...</td>\n",
       "      <td>...</td>\n",
       "      <td>...</td>\n",
       "    </tr>\n",
       "    <tr>\n",
       "      <th>28255</th>\n",
       "      <td>YIL101C</td>\n",
       "      <td>YOR070C</td>\n",
       "      <td>binding enriched</td>\n",
       "      <td>62.813</td>\n",
       "    </tr>\n",
       "    <tr>\n",
       "      <th>28256</th>\n",
       "      <td>YER159C</td>\n",
       "      <td>YBR203W</td>\n",
       "      <td>binding enriched</td>\n",
       "      <td>70.405</td>\n",
       "    </tr>\n",
       "    <tr>\n",
       "      <th>28257</th>\n",
       "      <td>YDR392W</td>\n",
       "      <td>YLR258W</td>\n",
       "      <td>binding enriched</td>\n",
       "      <td>124.902</td>\n",
       "    </tr>\n",
       "    <tr>\n",
       "      <th>28258</th>\n",
       "      <td>YML027W</td>\n",
       "      <td>YKR093W</td>\n",
       "      <td>+</td>\n",
       "      <td>46.923</td>\n",
       "    </tr>\n",
       "    <tr>\n",
       "      <th>28259</th>\n",
       "      <td>YBL054W</td>\n",
       "      <td>YNL289W</td>\n",
       "      <td>+</td>\n",
       "      <td>98.435</td>\n",
       "    </tr>\n",
       "  </tbody>\n",
       "</table>\n",
       "<p>28260 rows × 4 columns</p>\n",
       "</div>"
      ],
      "text/plain": [
       "            TF       TG         Direction  Distance\n",
       "0      YLR403W  YLR048W                 +   118.474\n",
       "1      YDR423C  YKL002W                 -   129.335\n",
       "2      YMR021C  YDL234C                 -    66.365\n",
       "3      YLR403W  YDR050C                 ?   156.673\n",
       "4      YDR253C  YLR438W             bound   109.636\n",
       "...        ...      ...               ...       ...\n",
       "28255  YIL101C  YOR070C  binding enriched    62.813\n",
       "28256  YER159C  YBR203W  binding enriched    70.405\n",
       "28257  YDR392W  YLR258W  binding enriched   124.902\n",
       "28258  YML027W  YKR093W                 +    46.923\n",
       "28259  YBL054W  YNL289W                 +    98.435\n",
       "\n",
       "[28260 rows x 4 columns]"
      ]
     },
     "execution_count": 2,
     "metadata": {},
     "output_type": "execute_result"
    }
   ],
   "source": [
    "#Sun et al., 2019\n",
    "#https://wiley.figshare.com/ndownloader/files/14670236\n",
    "Yeast_TRN = pd.read_csv('../results/Yeast_TRN.csv', sep='\\t')\n",
    "Yeast_TRN"
   ]
  },
  {
   "cell_type": "markdown",
   "metadata": {},
   "source": [
    "# II- Targets lists creation"
   ]
  },
  {
   "cell_type": "markdown",
   "metadata": {},
   "source": [
    "## 1) All targets"
   ]
  },
  {
   "cell_type": "code",
   "execution_count": null,
   "metadata": {},
   "outputs": [],
   "source": [
    "list_TF = Yeast_TRN.TF.unique()\n",
    "#len(list_TF) = 186\n",
    "\n",
    "for TF in list_TF :\n",
    "    \n",
    "    TG = Yeast_TRN[Yeast_TRN.TF == TF]\n",
    "    TG = TG.drop([\"TF\", \"Distance\"], axis = 1)\n",
    "    TG.to_csv(\"../results/TF_target_TRN/\" + str(TF) + \"_\" + str(len(TG)) + \"_targets.csv\", \n",
    "              index = False, \n",
    "              columns = [\"TG\", \"Direction\"])"
   ]
  },
  {
   "cell_type": "markdown",
   "metadata": {},
   "source": [
    "## 2) Targets filtered by type of regulation (+/-)"
   ]
  },
  {
   "cell_type": "code",
   "execution_count": null,
   "metadata": {
    "scrolled": true
   },
   "outputs": [],
   "source": [
    "list_TF = Yeast_TRN.TF.unique()\n",
    "#len(list_TF) = 186\n",
    "\n",
    "for TF in list_TF :\n",
    "    \n",
    "    TG = Yeast_TRN[Yeast_TRN.TF == TF]\n",
    "    TG = TG.drop([\"TF\", \"Distance\"], axis = 1)\n",
    "    TG = TG[TG.Direction == \"+\"]\n",
    "    TG.to_csv(\"../results/TF_target_TRN_pos/\" + str(TF) + \"_\" + str(len(TG)) + \"_pos_targets.csv\", \n",
    "              index = False, \n",
    "              columns = [\"TG\", \"Direction\"])\n",
    "\n",
    "for TF in list_TF :\n",
    "    \n",
    "    TG = Yeast_TRN[Yeast_TRN.TF == TF]\n",
    "    TG = TG.drop([\"TF\", \"Distance\"], axis = 1)\n",
    "    TG = TG[TG.Direction == \"-\"]\n",
    "    TG.to_csv(\"../results/TF_target_TRN_neg/\" + str(TF) + \"_\" + str(len(TG)) + \"_neg_targets.csv\", \n",
    "              index = False, \n",
    "              columns = [\"TG\", \"Direction\"])"
   ]
  },
  {
   "cell_type": "markdown",
   "metadata": {},
   "source": [
    "## 3) Activated targets filtered by GO terms"
   ]
  },
  {
   "cell_type": "code",
   "execution_count": null,
   "metadata": {
    "scrolled": true
   },
   "outputs": [],
   "source": [
    "files_names = os.listdir(\"../results/TF_target_TRN_pos\")\n",
    "\n",
    "for genes in files_names:\n",
    "    genes_list = pd.read_csv('../results/TF_target_TRN_pos/' + genes, sep=',', header = [0])\n",
    "        \n",
    "    if len(genes_list.TG) >= 50 :\n",
    "        genes_list.to_csv(\"../results/TF_target_TRN_pos_for_SGD_GOterms/\" + genes, \n",
    "                          index = False, header = False, columns = [\"TG\"])\n"
   ]
  },
  {
   "cell_type": "markdown",
   "metadata": {},
   "source": [
    "# III- Figures generation functions"
   ]
  },
  {
   "cell_type": "markdown",
   "metadata": {},
   "source": [
    "## 1) Targets repartition on the chromosomes"
   ]
  },
  {
   "cell_type": "code",
   "execution_count": 3,
   "metadata": {},
   "outputs": [],
   "source": [
    "def chrom_repartition_hist(genes_list):\n",
    "    \n",
    "    sql_query = \\\n",
    "\"\"\"SELECT Primary_SGDID, Feature_name, Start_coordinate, Stop_coordinate, Chromosome, Strand\n",
    "FROM SGD_features\n",
    "ORDER BY Start_coordinate\n",
    "\"\"\"\n",
    "    \n",
    "    loci = tools.get_locus_info(\"../SCERE.db\", sql_query)\n",
    "    loci = loci.assign(FT_target = loci.Feature_name.isin(genes_list))\n",
    "       \n",
    "    loci = loci[loci.FT_target == True].drop([\"FT_target\"], axis = 1)\n",
    "       \n",
    "    fig = px.histogram(loci, x=\"Chromosome\", nbins=30, range_x=[1, 17], color_discrete_sequence=['#A0E8AF'])\n",
    "    fig.update_layout(plot_bgcolor = \"white\",\n",
    "                      xaxis_showgrid = False,\n",
    "                      yaxis_showgrid = False, \n",
    "                      showlegend = True)\n",
    "       \n",
    "    return fig"
   ]
  },
  {
   "cell_type": "markdown",
   "metadata": {},
   "source": [
    "## 2) 3D distances between targets"
   ]
  },
  {
   "cell_type": "code",
   "execution_count": 4,
   "metadata": {},
   "outputs": [],
   "source": [
    "def distances_hist(genes_list):\n",
    "    \n",
    "    sql_query = \\\n",
    "\"\"\"SELECT Primary_SGDID, Chromosome, Feature_name, Strand, Stop_coordinate, Start_coordinate\n",
    "FROM SGD_features\n",
    "\"\"\"\n",
    "\n",
    "    Feature_name = tools.get_locus_info(\"../SCERE.db\", sql_query)\n",
    "    Feature_name = Feature_name.merge(genes_list, left_on = \"Feature_name\", right_on = genes_list.columns[0])\n",
    "    \n",
    "    adjacency_matrix_select = adjacency_matrix.loc[Feature_name.Primary_SGDID, Feature_name.Primary_SGDID]\n",
    "    adjacency_matrix_select.index.names = [\"Primary_SGDID_bis\"]\n",
    "    \n",
    "    edges_list = adjacency_matrix_select.stack().dropna().reset_index()\n",
    "    edges_list = edges_list.sort_values(by = \"Primary_SGDID_bis\")\n",
    "    edges_list.rename(columns = {0: \"3D_distances\"}, inplace = True)\n",
    "    edges_list = edges_list.sort_values(by = \"3D_distances\")\n",
    "    edges_list.index = range(1, len(edges_list) + 1)\n",
    "    \n",
    "    fig = px.histogram(edges_list, x=\"3D_distances\", range_x=[-10, 210], nbins= 70, color_discrete_sequence=['#A0E8AF'])\n",
    "    fig.update_layout(plot_bgcolor = \"white\", \n",
    "                      xaxis_showgrid = False, \n",
    "                      yaxis_showgrid = False, \n",
    "                      showlegend = True)\n",
    "    \n",
    "    return fig"
   ]
  },
  {
   "cell_type": "markdown",
   "metadata": {},
   "source": [
    "# IV- Results"
   ]
  },
  {
   "cell_type": "markdown",
   "metadata": {},
   "source": [
    "## 1) All targets together"
   ]
  },
  {
   "cell_type": "code",
   "execution_count": null,
   "metadata": {
    "scrolled": true
   },
   "outputs": [],
   "source": [
    "adjacency_matrix = pd.read_parquet(\"../dashboard/static/adjacency_matrix.parquet.gzip\", engine='pyarrow')\n",
    "files_names = os.listdir(\"../results/TF_target_TRN\")\n",
    "\n",
    "#removed mitochondrial targets genes :\n",
    "#Q0050, Q0080 and Q0120 from YIR018W_451_targets\n",
    "#Q0115 and Q0130 from YJL127C_1176_targets\n",
    "#Q0080 and Q0297 from 'YEL009C_303_targets.csv'\n",
    "\n",
    "\n",
    "for genes in files_names:\n",
    "    genes_list = pd.read_csv('../results/TF_target_TRN/' + genes, sep=',', header = [0])\n",
    "        \n",
    "    chrom_repartition = chrom_repartition_hist(genes_list.TG)\n",
    "    distances = distances_hist(genes_list)\n",
    "    \n",
    "    chrom_repartition.write_image(\"../results/chrom_repartition_hist/\" + genes +\".jpeg\")\n",
    "    distances.write_image(\"../results/3Ddistances_hist/\" + genes +\".jpeg\")"
   ]
  },
  {
   "cell_type": "markdown",
   "metadata": {},
   "source": [
    "## 2) Activated targets"
   ]
  },
  {
   "cell_type": "code",
   "execution_count": null,
   "metadata": {},
   "outputs": [],
   "source": [
    "adjacency_matrix = pd.read_parquet(\"../dashboard/static/adjacency_matrix.parquet.gzip\", engine='pyarrow')\n",
    "files_names = os.listdir(\"../results/TF_target_TRN_pos\")\n",
    "\n",
    "for genes in files_names:\n",
    "    genes_list = pd.read_csv('../results/TF_target_TRN_pos/' + genes, sep=',', header = [0])\n",
    "        \n",
    "    if len(genes_list.TG) > 0 :    \n",
    "        chrom_repartition = chrom_repartition_hist(genes_list.TG)\n",
    "        distances = distances_hist(genes_list)\n",
    "        \n",
    "        chrom_repartition.write_image(\"../results/chrom_repartition_hist_pos/\" + genes +\".jpeg\")\n",
    "        distances.write_image(\"../results/3Ddistances_hist_pos/\" + genes +\".jpeg\")"
   ]
  },
  {
   "cell_type": "markdown",
   "metadata": {},
   "source": [
    "# V- Random targets lists creation"
   ]
  },
  {
   "cell_type": "code",
   "execution_count": null,
   "metadata": {},
   "outputs": [],
   "source": [
    "list_all_TG = Yeast_TRN.TG.unique()\n",
    "list_all_TG = list(list_all_TG)\n",
    "for mito_gene in [\"Q0050\", \"Q0080\",\"Q0120\", \"Q0115\", \"Q0130\", \"Q0297\"] :\n",
    "    print(mito_gene)\n",
    "    list_all_TG.remove(mito_gene)\n",
    "\n",
    "list_TF = Yeast_TRN.TF.unique()\n",
    "\n",
    "for TF in list_TF :\n",
    "    \n",
    "    TG = Yeast_TRN[Yeast_TRN.TF == TF]\n",
    "    TG = TG.drop([\"TF\", \"Distance\"], axis = 1)\n",
    "    \n",
    "    random_TG = pd.DataFrame(data = {\"random_TG\": rd.choices(list_all_TG, k=len(TG))})\n",
    "    random_TG.to_csv(\"../results/TF_random_target_TRN/\" + str(TF) + \"_\" + str(len(TG)) + \"_random_targets.csv\", \n",
    "                     index = False, \n",
    "                     columns = [\"random_TG\"])\n"
   ]
  },
  {
   "cell_type": "code",
   "execution_count": null,
   "metadata": {
    "scrolled": true
   },
   "outputs": [],
   "source": [
    "adjacency_matrix = pd.read_parquet(\"../dashboard/static/adjacency_matrix.parquet.gzip\", engine='pyarrow')\n",
    "files_names = os.listdir(\"../results/TF_random_target_TRN\")\n",
    "\n",
    "for genes in files_names:\n",
    "    genes_list = pd.read_csv('../results/TF_random_target_TRN/' + genes, sep=',', header = [0])\n",
    "        \n",
    "    chrom_repartition = chrom_repartition_hist(genes_list.random_TG)\n",
    "    distances = distances_hist(genes_list)\n",
    "        \n",
    "    chrom_repartition.write_image(\"../results/random/\" + genes +\".jpeg\")\n",
    "    distances.write_image(\"../results/random/\" + genes +\".jpeg\")"
   ]
  },
  {
   "cell_type": "markdown",
   "metadata": {},
   "source": [
    "# V- QQ plots"
   ]
  },
  {
   "cell_type": "code",
   "execution_count": 12,
   "metadata": {},
   "outputs": [],
   "source": [
    "def distances_QQplot(genes_list, adjacency_matrix, genes):\n",
    "    \n",
    "    edges_list = get_edges_list(genes_list, adjacency_matrix)\n",
    "    x = np.array(edges_list[\"3D_distances\"])\n",
    "    \n",
    "    y = []\n",
    "    for i in range(1, 5) :\n",
    "        random_genes_list = pd.DataFrame(data = {\"Primary_SGDID\": rd.choices(adjacency_matrix.index, k=len(edges_list))})\n",
    "        random_edges_list = get_random_edges_list(random_genes_list, adjacency_matrix)\n",
    "        y += list(random_edges_list[\"3D_distances\"])\n",
    "    \n",
    "    y = np.array(y)\n",
    "    pp_x = sm.ProbPlot(x)\n",
    "    pp_y = sm.ProbPlot(y)\n",
    "    qqplot_2samples(pp_x, pp_y)\n",
    "    plt.xlabel('genes list 3D distances')\n",
    "    plt.ylabel('random list 3D distances')\n",
    "    \n",
    "    genes = genes[:-4]\n",
    "    plt.savefig(\"../results/QQplots/\" + genes + \".jpeg\")\n",
    "    plt.close()\n",
    "\n",
    "    return\n",
    "\n",
    "def get_edges_list(gene_list, adjacency_matrix):\n",
    "    \n",
    "    sql_query = \\\n",
    "\"\"\"SELECT Primary_SGDID, Chromosome, Feature_name, Strand, Stop_coordinate, Start_coordinate\n",
    "FROM SGD_features\n",
    "\"\"\"\n",
    "\n",
    "    Feature_name = tools.get_locus_info(\"../SCERE.db\", sql_query)\n",
    "    Feature_name = Feature_name.merge(genes_list, left_on = \"Feature_name\", right_on = genes_list.columns[0])\n",
    "    \n",
    "    adjacency_matrix_select = adjacency_matrix.loc[Feature_name.Primary_SGDID, Feature_name.Primary_SGDID]\n",
    "    adjacency_matrix_select.index.names = [\"Primary_SGDID_bis\"]\n",
    "    \n",
    "    edges_list = adjacency_matrix_select.stack().dropna().reset_index()\n",
    "    edges_list = edges_list.sort_values(by = \"Primary_SGDID_bis\")\n",
    "    edges_list.rename(columns = {0: \"3D_distances\"}, inplace = True)\n",
    "    edges_list = edges_list.sort_values(by = \"3D_distances\")\n",
    "    edges_list.index = range(1, len(edges_list) + 1)\n",
    "    \n",
    "    return edges_list\n",
    "\n",
    "def get_random_edges_list(random_gene_list, adjacency_matrix):\n",
    "    \n",
    "    adjacency_matrix_select = adjacency_matrix.loc[random_gene_list.Primary_SGDID, random_gene_list.Primary_SGDID]\n",
    "    adjacency_matrix_select.index.names = [\"Primary_SGDID_bis\"]\n",
    "    \n",
    "    random_edges_list = adjacency_matrix_select.stack().dropna().reset_index()\n",
    "    random_edges_list = random_edges_list.sort_values(by = \"Primary_SGDID_bis\")\n",
    "    random_edges_list.rename(columns = {0: \"3D_distances\"}, inplace = True)\n",
    "    random_edges_list = random_edges_list.sort_values(by = \"3D_distances\")\n",
    "    random_edges_list.index = range(1, len(random_edges_list) + 1)\n",
    "    \n",
    "    return random_edges_list"
   ]
  },
  {
   "cell_type": "code",
   "execution_count": 10,
   "metadata": {
    "scrolled": true
   },
   "outputs": [],
   "source": [
    "adjacency_matrix = pd.read_parquet(\"../dashboard/static/adjacency_matrix.parquet.gzip\", engine='pyarrow')\n",
    "genes_list = pd.read_csv('../results/TF_target_TRN/YBR279W_53_targets.csv', sep=',', header = [0])\n",
    "    \n",
    "distances_QQplot(genes_list, adjacency_matrix, genes)"
   ]
  },
  {
   "cell_type": "code",
   "execution_count": 11,
   "metadata": {
    "scrolled": true
   },
   "outputs": [
    {
     "name": "stdout",
     "output_type": "stream",
     "text": [
      "YDL005C_980_targets.csv\n"
     ]
    },
    {
     "ename": "MemoryError",
     "evalue": "Unable to allocate 32.8 GiB for an array with shape (478796, 9185) and data type float64",
     "output_type": "error",
     "traceback": [
      "\u001b[0;31m---------------------------------------------------------------------------\u001b[0m",
      "\u001b[0;31mMemoryError\u001b[0m                               Traceback (most recent call last)",
      "\u001b[0;32m<timed exec>\u001b[0m in \u001b[0;36m<module>\u001b[0;34m\u001b[0m\n",
      "\u001b[0;32m<ipython-input-9-247130298ab8>\u001b[0m in \u001b[0;36mdistances_QQplot\u001b[0;34m(genes_list, adjacency_matrix, genes)\u001b[0m\n\u001b[1;32m      7\u001b[0m     \u001b[0;32mfor\u001b[0m \u001b[0mi\u001b[0m \u001b[0;32min\u001b[0m \u001b[0mrange\u001b[0m\u001b[0;34m(\u001b[0m\u001b[0;36m1\u001b[0m\u001b[0;34m,\u001b[0m \u001b[0;36m3\u001b[0m\u001b[0;34m)\u001b[0m \u001b[0;34m:\u001b[0m\u001b[0;34m\u001b[0m\u001b[0;34m\u001b[0m\u001b[0m\n\u001b[1;32m      8\u001b[0m         \u001b[0mrandom_genes_list\u001b[0m \u001b[0;34m=\u001b[0m \u001b[0mpd\u001b[0m\u001b[0;34m.\u001b[0m\u001b[0mDataFrame\u001b[0m\u001b[0;34m(\u001b[0m\u001b[0mdata\u001b[0m \u001b[0;34m=\u001b[0m \u001b[0;34m{\u001b[0m\u001b[0;34m\"Primary_SGDID\"\u001b[0m\u001b[0;34m:\u001b[0m \u001b[0mrd\u001b[0m\u001b[0;34m.\u001b[0m\u001b[0mchoices\u001b[0m\u001b[0;34m(\u001b[0m\u001b[0madjacency_matrix\u001b[0m\u001b[0;34m.\u001b[0m\u001b[0mindex\u001b[0m\u001b[0;34m,\u001b[0m \u001b[0mk\u001b[0m\u001b[0;34m=\u001b[0m\u001b[0mlen\u001b[0m\u001b[0;34m(\u001b[0m\u001b[0medges_list\u001b[0m\u001b[0;34m)\u001b[0m\u001b[0;34m)\u001b[0m\u001b[0;34m}\u001b[0m\u001b[0;34m)\u001b[0m\u001b[0;34m\u001b[0m\u001b[0;34m\u001b[0m\u001b[0m\n\u001b[0;32m----> 9\u001b[0;31m         \u001b[0mrandom_edges_list\u001b[0m \u001b[0;34m=\u001b[0m \u001b[0mget_random_edges_list\u001b[0m\u001b[0;34m(\u001b[0m\u001b[0mrandom_genes_list\u001b[0m\u001b[0;34m,\u001b[0m \u001b[0madjacency_matrix\u001b[0m\u001b[0;34m)\u001b[0m\u001b[0;34m\u001b[0m\u001b[0;34m\u001b[0m\u001b[0m\n\u001b[0m\u001b[1;32m     10\u001b[0m         \u001b[0my\u001b[0m \u001b[0;34m+=\u001b[0m \u001b[0mlist\u001b[0m\u001b[0;34m(\u001b[0m\u001b[0mrandom_edges_list\u001b[0m\u001b[0;34m[\u001b[0m\u001b[0;34m\"3D_distances\"\u001b[0m\u001b[0;34m]\u001b[0m\u001b[0;34m)\u001b[0m\u001b[0;34m\u001b[0m\u001b[0;34m\u001b[0m\u001b[0m\n\u001b[1;32m     11\u001b[0m \u001b[0;34m\u001b[0m\u001b[0m\n",
      "\u001b[0;32m<ipython-input-9-247130298ab8>\u001b[0m in \u001b[0;36mget_random_edges_list\u001b[0;34m(random_gene_list, adjacency_matrix)\u001b[0m\n\u001b[1;32m     46\u001b[0m \u001b[0;32mdef\u001b[0m \u001b[0mget_random_edges_list\u001b[0m\u001b[0;34m(\u001b[0m\u001b[0mrandom_gene_list\u001b[0m\u001b[0;34m,\u001b[0m \u001b[0madjacency_matrix\u001b[0m\u001b[0;34m)\u001b[0m\u001b[0;34m:\u001b[0m\u001b[0;34m\u001b[0m\u001b[0;34m\u001b[0m\u001b[0m\n\u001b[1;32m     47\u001b[0m \u001b[0;34m\u001b[0m\u001b[0m\n\u001b[0;32m---> 48\u001b[0;31m     \u001b[0madjacency_matrix_select\u001b[0m \u001b[0;34m=\u001b[0m \u001b[0madjacency_matrix\u001b[0m\u001b[0;34m.\u001b[0m\u001b[0mloc\u001b[0m\u001b[0;34m[\u001b[0m\u001b[0mrandom_gene_list\u001b[0m\u001b[0;34m.\u001b[0m\u001b[0mPrimary_SGDID\u001b[0m\u001b[0;34m,\u001b[0m \u001b[0mrandom_gene_list\u001b[0m\u001b[0;34m.\u001b[0m\u001b[0mPrimary_SGDID\u001b[0m\u001b[0;34m]\u001b[0m\u001b[0;34m\u001b[0m\u001b[0;34m\u001b[0m\u001b[0m\n\u001b[0m\u001b[1;32m     49\u001b[0m     \u001b[0madjacency_matrix_select\u001b[0m\u001b[0;34m.\u001b[0m\u001b[0mindex\u001b[0m\u001b[0;34m.\u001b[0m\u001b[0mnames\u001b[0m \u001b[0;34m=\u001b[0m \u001b[0;34m[\u001b[0m\u001b[0;34m\"Primary_SGDID_bis\"\u001b[0m\u001b[0;34m]\u001b[0m\u001b[0;34m\u001b[0m\u001b[0;34m\u001b[0m\u001b[0m\n\u001b[1;32m     50\u001b[0m \u001b[0;34m\u001b[0m\u001b[0m\n",
      "\u001b[0;32m~/miniconda3/envs/3Dnetwork/lib/python3.8/site-packages/pandas/core/indexing.py\u001b[0m in \u001b[0;36m__getitem__\u001b[0;34m(self, key)\u001b[0m\n\u001b[1;32m    887\u001b[0m                     \u001b[0;31m# AttributeError for IntervalTree get_value\u001b[0m\u001b[0;34m\u001b[0m\u001b[0;34m\u001b[0m\u001b[0;34m\u001b[0m\u001b[0m\n\u001b[1;32m    888\u001b[0m                     \u001b[0;32mreturn\u001b[0m \u001b[0mself\u001b[0m\u001b[0;34m.\u001b[0m\u001b[0mobj\u001b[0m\u001b[0;34m.\u001b[0m\u001b[0m_get_value\u001b[0m\u001b[0;34m(\u001b[0m\u001b[0;34m*\u001b[0m\u001b[0mkey\u001b[0m\u001b[0;34m,\u001b[0m \u001b[0mtakeable\u001b[0m\u001b[0;34m=\u001b[0m\u001b[0mself\u001b[0m\u001b[0;34m.\u001b[0m\u001b[0m_takeable\u001b[0m\u001b[0;34m)\u001b[0m\u001b[0;34m\u001b[0m\u001b[0;34m\u001b[0m\u001b[0m\n\u001b[0;32m--> 889\u001b[0;31m             \u001b[0;32mreturn\u001b[0m \u001b[0mself\u001b[0m\u001b[0;34m.\u001b[0m\u001b[0m_getitem_tuple\u001b[0m\u001b[0;34m(\u001b[0m\u001b[0mkey\u001b[0m\u001b[0;34m)\u001b[0m\u001b[0;34m\u001b[0m\u001b[0;34m\u001b[0m\u001b[0m\n\u001b[0m\u001b[1;32m    890\u001b[0m         \u001b[0;32melse\u001b[0m\u001b[0;34m:\u001b[0m\u001b[0;34m\u001b[0m\u001b[0;34m\u001b[0m\u001b[0m\n\u001b[1;32m    891\u001b[0m             \u001b[0;31m# we by definition only have the 0th axis\u001b[0m\u001b[0;34m\u001b[0m\u001b[0;34m\u001b[0m\u001b[0;34m\u001b[0m\u001b[0m\n",
      "\u001b[0;32m~/miniconda3/envs/3Dnetwork/lib/python3.8/site-packages/pandas/core/indexing.py\u001b[0m in \u001b[0;36m_getitem_tuple\u001b[0;34m(self, tup)\u001b[0m\n\u001b[1;32m   1065\u001b[0m         \u001b[0;31m# ugly hack for GH #836\u001b[0m\u001b[0;34m\u001b[0m\u001b[0;34m\u001b[0m\u001b[0;34m\u001b[0m\u001b[0m\n\u001b[1;32m   1066\u001b[0m         \u001b[0;32mif\u001b[0m \u001b[0mself\u001b[0m\u001b[0;34m.\u001b[0m\u001b[0m_multi_take_opportunity\u001b[0m\u001b[0;34m(\u001b[0m\u001b[0mtup\u001b[0m\u001b[0;34m)\u001b[0m\u001b[0;34m:\u001b[0m\u001b[0;34m\u001b[0m\u001b[0;34m\u001b[0m\u001b[0m\n\u001b[0;32m-> 1067\u001b[0;31m             \u001b[0;32mreturn\u001b[0m \u001b[0mself\u001b[0m\u001b[0;34m.\u001b[0m\u001b[0m_multi_take\u001b[0m\u001b[0;34m(\u001b[0m\u001b[0mtup\u001b[0m\u001b[0;34m)\u001b[0m\u001b[0;34m\u001b[0m\u001b[0;34m\u001b[0m\u001b[0m\n\u001b[0m\u001b[1;32m   1068\u001b[0m \u001b[0;34m\u001b[0m\u001b[0m\n\u001b[1;32m   1069\u001b[0m         \u001b[0;32mreturn\u001b[0m \u001b[0mself\u001b[0m\u001b[0;34m.\u001b[0m\u001b[0m_getitem_tuple_same_dim\u001b[0m\u001b[0;34m(\u001b[0m\u001b[0mtup\u001b[0m\u001b[0;34m)\u001b[0m\u001b[0;34m\u001b[0m\u001b[0;34m\u001b[0m\u001b[0m\n",
      "\u001b[0;32m~/miniconda3/envs/3Dnetwork/lib/python3.8/site-packages/pandas/core/indexing.py\u001b[0m in \u001b[0;36m_multi_take\u001b[0;34m(self, tup)\u001b[0m\n\u001b[1;32m   1021\u001b[0m             \u001b[0;32mfor\u001b[0m \u001b[0;34m(\u001b[0m\u001b[0mkey\u001b[0m\u001b[0;34m,\u001b[0m \u001b[0maxis\u001b[0m\u001b[0;34m)\u001b[0m \u001b[0;32min\u001b[0m \u001b[0mzip\u001b[0m\u001b[0;34m(\u001b[0m\u001b[0mtup\u001b[0m\u001b[0;34m,\u001b[0m \u001b[0mself\u001b[0m\u001b[0;34m.\u001b[0m\u001b[0mobj\u001b[0m\u001b[0;34m.\u001b[0m\u001b[0m_AXIS_ORDERS\u001b[0m\u001b[0;34m)\u001b[0m\u001b[0;34m\u001b[0m\u001b[0;34m\u001b[0m\u001b[0m\n\u001b[1;32m   1022\u001b[0m         }\n\u001b[0;32m-> 1023\u001b[0;31m         \u001b[0;32mreturn\u001b[0m \u001b[0mself\u001b[0m\u001b[0;34m.\u001b[0m\u001b[0mobj\u001b[0m\u001b[0;34m.\u001b[0m\u001b[0m_reindex_with_indexers\u001b[0m\u001b[0;34m(\u001b[0m\u001b[0md\u001b[0m\u001b[0;34m,\u001b[0m \u001b[0mcopy\u001b[0m\u001b[0;34m=\u001b[0m\u001b[0;32mTrue\u001b[0m\u001b[0;34m,\u001b[0m \u001b[0mallow_dups\u001b[0m\u001b[0;34m=\u001b[0m\u001b[0;32mTrue\u001b[0m\u001b[0;34m)\u001b[0m\u001b[0;34m\u001b[0m\u001b[0;34m\u001b[0m\u001b[0m\n\u001b[0m\u001b[1;32m   1024\u001b[0m \u001b[0;34m\u001b[0m\u001b[0m\n\u001b[1;32m   1025\u001b[0m     \u001b[0;31m# -------------------------------------------------------------------\u001b[0m\u001b[0;34m\u001b[0m\u001b[0;34m\u001b[0m\u001b[0;34m\u001b[0m\u001b[0m\n",
      "\u001b[0;32m~/miniconda3/envs/3Dnetwork/lib/python3.8/site-packages/pandas/core/generic.py\u001b[0m in \u001b[0;36m_reindex_with_indexers\u001b[0;34m(self, reindexers, fill_value, copy, allow_dups)\u001b[0m\n\u001b[1;32m   4875\u001b[0m \u001b[0;34m\u001b[0m\u001b[0m\n\u001b[1;32m   4876\u001b[0m             \u001b[0;31m# TODO: speed up on homogeneous DataFrame objects\u001b[0m\u001b[0;34m\u001b[0m\u001b[0;34m\u001b[0m\u001b[0;34m\u001b[0m\u001b[0m\n\u001b[0;32m-> 4877\u001b[0;31m             new_data = new_data.reindex_indexer(\n\u001b[0m\u001b[1;32m   4878\u001b[0m                 \u001b[0mindex\u001b[0m\u001b[0;34m,\u001b[0m\u001b[0;34m\u001b[0m\u001b[0;34m\u001b[0m\u001b[0m\n\u001b[1;32m   4879\u001b[0m                 \u001b[0mindexer\u001b[0m\u001b[0;34m,\u001b[0m\u001b[0;34m\u001b[0m\u001b[0;34m\u001b[0m\u001b[0m\n",
      "\u001b[0;32m~/miniconda3/envs/3Dnetwork/lib/python3.8/site-packages/pandas/core/internals/managers.py\u001b[0m in \u001b[0;36mreindex_indexer\u001b[0;34m(self, new_axis, indexer, axis, fill_value, allow_dups, copy, consolidate, only_slice)\u001b[0m\n\u001b[1;32m   1305\u001b[0m \u001b[0;34m\u001b[0m\u001b[0m\n\u001b[1;32m   1306\u001b[0m         \u001b[0;32mif\u001b[0m \u001b[0maxis\u001b[0m \u001b[0;34m==\u001b[0m \u001b[0;36m0\u001b[0m\u001b[0;34m:\u001b[0m\u001b[0;34m\u001b[0m\u001b[0;34m\u001b[0m\u001b[0m\n\u001b[0;32m-> 1307\u001b[0;31m             new_blocks = self._slice_take_blocks_ax0(\n\u001b[0m\u001b[1;32m   1308\u001b[0m                 \u001b[0mindexer\u001b[0m\u001b[0;34m,\u001b[0m \u001b[0mfill_value\u001b[0m\u001b[0;34m=\u001b[0m\u001b[0mfill_value\u001b[0m\u001b[0;34m,\u001b[0m \u001b[0monly_slice\u001b[0m\u001b[0;34m=\u001b[0m\u001b[0monly_slice\u001b[0m\u001b[0;34m\u001b[0m\u001b[0;34m\u001b[0m\u001b[0m\n\u001b[1;32m   1309\u001b[0m             )\n",
      "\u001b[0;32m~/miniconda3/envs/3Dnetwork/lib/python3.8/site-packages/pandas/core/internals/managers.py\u001b[0m in \u001b[0;36m_slice_take_blocks_ax0\u001b[0;34m(self, slice_or_indexer, fill_value, only_slice)\u001b[0m\n\u001b[1;32m   1435\u001b[0m                             \u001b[0mblocks\u001b[0m\u001b[0;34m.\u001b[0m\u001b[0mappend\u001b[0m\u001b[0;34m(\u001b[0m\u001b[0mnb\u001b[0m\u001b[0;34m)\u001b[0m\u001b[0;34m\u001b[0m\u001b[0;34m\u001b[0m\u001b[0m\n\u001b[1;32m   1436\u001b[0m                     \u001b[0;32melse\u001b[0m\u001b[0;34m:\u001b[0m\u001b[0;34m\u001b[0m\u001b[0;34m\u001b[0m\u001b[0m\n\u001b[0;32m-> 1437\u001b[0;31m                         \u001b[0mnb\u001b[0m \u001b[0;34m=\u001b[0m \u001b[0mblk\u001b[0m\u001b[0;34m.\u001b[0m\u001b[0mtake_nd\u001b[0m\u001b[0;34m(\u001b[0m\u001b[0mtaker\u001b[0m\u001b[0;34m,\u001b[0m \u001b[0maxis\u001b[0m\u001b[0;34m=\u001b[0m\u001b[0;36m0\u001b[0m\u001b[0;34m,\u001b[0m \u001b[0mnew_mgr_locs\u001b[0m\u001b[0;34m=\u001b[0m\u001b[0mmgr_locs\u001b[0m\u001b[0;34m)\u001b[0m\u001b[0;34m\u001b[0m\u001b[0;34m\u001b[0m\u001b[0m\n\u001b[0m\u001b[1;32m   1438\u001b[0m                         \u001b[0mblocks\u001b[0m\u001b[0;34m.\u001b[0m\u001b[0mappend\u001b[0m\u001b[0;34m(\u001b[0m\u001b[0mnb\u001b[0m\u001b[0;34m)\u001b[0m\u001b[0;34m\u001b[0m\u001b[0;34m\u001b[0m\u001b[0m\n\u001b[1;32m   1439\u001b[0m \u001b[0;34m\u001b[0m\u001b[0m\n",
      "\u001b[0;32m~/miniconda3/envs/3Dnetwork/lib/python3.8/site-packages/pandas/core/internals/blocks.py\u001b[0m in \u001b[0;36mtake_nd\u001b[0;34m(self, indexer, axis, new_mgr_locs, fill_value)\u001b[0m\n\u001b[1;32m   1393\u001b[0m             \u001b[0mallow_fill\u001b[0m \u001b[0;34m=\u001b[0m \u001b[0;32mTrue\u001b[0m\u001b[0;34m\u001b[0m\u001b[0;34m\u001b[0m\u001b[0m\n\u001b[1;32m   1394\u001b[0m \u001b[0;34m\u001b[0m\u001b[0m\n\u001b[0;32m-> 1395\u001b[0;31m         new_values = algos.take_nd(\n\u001b[0m\u001b[1;32m   1396\u001b[0m             \u001b[0mvalues\u001b[0m\u001b[0;34m,\u001b[0m \u001b[0mindexer\u001b[0m\u001b[0;34m,\u001b[0m \u001b[0maxis\u001b[0m\u001b[0;34m=\u001b[0m\u001b[0maxis\u001b[0m\u001b[0;34m,\u001b[0m \u001b[0mallow_fill\u001b[0m\u001b[0;34m=\u001b[0m\u001b[0mallow_fill\u001b[0m\u001b[0;34m,\u001b[0m \u001b[0mfill_value\u001b[0m\u001b[0;34m=\u001b[0m\u001b[0mfill_value\u001b[0m\u001b[0;34m\u001b[0m\u001b[0;34m\u001b[0m\u001b[0m\n\u001b[1;32m   1397\u001b[0m         )\n",
      "\u001b[0;32m~/miniconda3/envs/3Dnetwork/lib/python3.8/site-packages/pandas/core/algorithms.py\u001b[0m in \u001b[0;36mtake_nd\u001b[0;34m(arr, indexer, axis, out, fill_value, allow_fill)\u001b[0m\n\u001b[1;32m   1752\u001b[0m             \u001b[0mout\u001b[0m \u001b[0;34m=\u001b[0m \u001b[0mnp\u001b[0m\u001b[0;34m.\u001b[0m\u001b[0mempty\u001b[0m\u001b[0;34m(\u001b[0m\u001b[0mout_shape\u001b[0m\u001b[0;34m,\u001b[0m \u001b[0mdtype\u001b[0m\u001b[0;34m=\u001b[0m\u001b[0mdtype\u001b[0m\u001b[0;34m,\u001b[0m \u001b[0morder\u001b[0m\u001b[0;34m=\u001b[0m\u001b[0;34m\"F\"\u001b[0m\u001b[0;34m)\u001b[0m\u001b[0;34m\u001b[0m\u001b[0;34m\u001b[0m\u001b[0m\n\u001b[1;32m   1753\u001b[0m         \u001b[0;32melse\u001b[0m\u001b[0;34m:\u001b[0m\u001b[0;34m\u001b[0m\u001b[0;34m\u001b[0m\u001b[0m\n\u001b[0;32m-> 1754\u001b[0;31m             \u001b[0mout\u001b[0m \u001b[0;34m=\u001b[0m \u001b[0mnp\u001b[0m\u001b[0;34m.\u001b[0m\u001b[0mempty\u001b[0m\u001b[0;34m(\u001b[0m\u001b[0mout_shape\u001b[0m\u001b[0;34m,\u001b[0m \u001b[0mdtype\u001b[0m\u001b[0;34m=\u001b[0m\u001b[0mdtype\u001b[0m\u001b[0;34m)\u001b[0m\u001b[0;34m\u001b[0m\u001b[0;34m\u001b[0m\u001b[0m\n\u001b[0m\u001b[1;32m   1755\u001b[0m \u001b[0;34m\u001b[0m\u001b[0m\n\u001b[1;32m   1756\u001b[0m     func = _get_take_nd_function(\n",
      "\u001b[0;31mMemoryError\u001b[0m: Unable to allocate 32.8 GiB for an array with shape (478796, 9185) and data type float64"
     ]
    }
   ],
   "source": [
    "%%time\n",
    "\n",
    "adjacency_matrix = pd.read_parquet(\"../dashboard/static/adjacency_matrix.parquet.gzip\", engine='pyarrow')\n",
    "files_names = os.listdir(\"../results/TF_target_TRN\")\n",
    "\n",
    "for genes in files_names:\n",
    "    print(genes)\n",
    "    genes_list = pd.read_csv('../results/TF_target_TRN/' + genes, sep=',', header = [0])\n",
    "    distances_QQplot(genes_list, adjacency_matrix, genes)"
   ]
  },
  {
   "cell_type": "markdown",
   "metadata": {},
   "source": [
    "# VI- Distributions comparaison"
   ]
  },
  {
   "cell_type": "code",
   "execution_count": null,
   "metadata": {},
   "outputs": [],
   "source": [
    "def ks_2samples(sample, random_sample, name):\n",
    "    \n",
    "    sample_chrom_repartition = chrom_repartition(sample.TG)\n",
    "    random_chrom_repartition = chrom_repartition(random_sample.random_TG)\n",
    "    \n",
    "    ks_result = ks_2samp(sample_chrom_repartition, random_chrom_repartition)\n",
    "    \n",
    "    if ks_result.pvalue < 0.05:\n",
    "        print(name)\n",
    "        print(ks_result)\n",
    "    \n",
    "    return\n",
    "\n",
    "\n",
    "\n",
    "def chrom_repartition(genes_list):\n",
    "    \n",
    "    sql_query = \\\n",
    "\"\"\"SELECT Primary_SGDID, Feature_name, Start_coordinate, Stop_coordinate, Chromosome, Strand\n",
    "FROM SGD_features\n",
    "ORDER BY Start_coordinate\n",
    "\"\"\"\n",
    "    \n",
    "    loci = tools.get_locus_info(\"../SCERE.db\", sql_query)\n",
    "    loci = loci.assign(FT_target = loci.Feature_name.isin(genes_list))\n",
    "       \n",
    "    loci = loci[loci.FT_target == True].drop([\"FT_target\"], axis = 1)\n",
    "       \n",
    "    return loci.Chromosome"
   ]
  },
  {
   "cell_type": "code",
   "execution_count": null,
   "metadata": {
    "scrolled": false
   },
   "outputs": [],
   "source": [
    "files_names = os.listdir(\"../results/TF_target_TRN\")\n",
    "files_names_random = os.listdir(\"../results/TF_random_target_TRN\")\n",
    "\n",
    "\n",
    "for genes, random_genes in zip(files_names, files_names_random):\n",
    "    random_genes_list = pd.read_csv('../results/TF_random_target_TRN/' + random_genes, sep=',', header = [0])\n",
    "    genes_list = pd.read_csv('../results/TF_target_TRN/' + genes, sep=',', header = [0])\n",
    "    \n",
    "    ks_2samples(genes_list, random_genes_list, genes)"
   ]
  }
 ],
 "metadata": {
  "kernelspec": {
   "display_name": "Python 3",
   "language": "python",
   "name": "python3"
  },
  "language_info": {
   "codemirror_mode": {
    "name": "ipython",
    "version": 3
   },
   "file_extension": ".py",
   "mimetype": "text/x-python",
   "name": "python",
   "nbconvert_exporter": "python",
   "pygments_lexer": "ipython3",
   "version": "3.8.8"
  }
 },
 "nbformat": 4,
 "nbformat_minor": 4
}
