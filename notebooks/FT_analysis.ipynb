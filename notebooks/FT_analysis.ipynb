{
 "cells": [
  {
   "cell_type": "code",
   "execution_count": null,
   "metadata": {},
   "outputs": [],
   "source": [
    "import tools\n",
    "import visualization_2D as vis2D\n",
    "import visualization_3D as vis3D\n",
    "import pandas as pd\n",
    "import numpy as np\n",
    "import statsmodels.api as sm\n",
    "from statsmodels.graphics.gofplots import qqplot_2samples\n",
    "from scipy.stats import ks_2samp\n",
    "import matplotlib.pyplot as plt\n",
    "import random as rd\n",
    "import plotly.graph_objects as go\n",
    "import plotly.express as px\n",
    "import os"
   ]
  },
  {
   "cell_type": "markdown",
   "metadata": {},
   "source": [
    "# I- TRN download"
   ]
  },
  {
   "cell_type": "code",
   "execution_count": null,
   "metadata": {},
   "outputs": [],
   "source": [
    "#Sun et al., 2019\n",
    "#https://wiley.figshare.com/ndownloader/files/14670236\n",
    "Yeast_TRN = pd.read_csv('../results/Yeast_TRN.csv', sep='\\t')\n",
    "Yeast_TRN"
   ]
  },
  {
   "cell_type": "markdown",
   "metadata": {},
   "source": [
    "# II- Targets lists creation"
   ]
  },
  {
   "cell_type": "markdown",
   "metadata": {},
   "source": [
    "## 1) All targets"
   ]
  },
  {
   "cell_type": "code",
   "execution_count": null,
   "metadata": {},
   "outputs": [],
   "source": [
    "list_TF = Yeast_TRN.TF.unique()\n",
    "#len(list_TF) = 186\n",
    "\n",
    "for TF in list_TF :\n",
    "    \n",
    "    TG = Yeast_TRN[Yeast_TRN.TF == TF]\n",
    "    TG = TG.drop([\"TF\", \"Distance\"], axis = 1)\n",
    "    TG.to_csv(\"../results/TF_target_TRN/\" + str(TF) + \"_\" + str(len(TG)) + \"_targets.csv\", \n",
    "              index = False, \n",
    "              columns = [\"TG\", \"Direction\"])"
   ]
  },
  {
   "cell_type": "markdown",
   "metadata": {},
   "source": [
    "## 2) Targets filtered by type of regulation (+/-)"
   ]
  },
  {
   "cell_type": "code",
   "execution_count": null,
   "metadata": {
    "scrolled": true
   },
   "outputs": [],
   "source": [
    "list_TF = Yeast_TRN.TF.unique()\n",
    "#len(list_TF) = 186\n",
    "\n",
    "for TF in list_TF :\n",
    "    \n",
    "    TG = Yeast_TRN[Yeast_TRN.TF == TF]\n",
    "    TG = TG.drop([\"TF\", \"Distance\"], axis = 1)\n",
    "    TG = TG[TG.Direction == \"+\"]\n",
    "    TG.to_csv(\"../results/TF_target_TRN_pos/\" + str(TF) + \"_\" + str(len(TG)) + \"_pos_targets.csv\", \n",
    "              index = False, \n",
    "              columns = [\"TG\", \"Direction\"])\n",
    "\n",
    "for TF in list_TF :\n",
    "    \n",
    "    TG = Yeast_TRN[Yeast_TRN.TF == TF]\n",
    "    TG = TG.drop([\"TF\", \"Distance\"], axis = 1)\n",
    "    TG = TG[TG.Direction == \"-\"]\n",
    "    TG.to_csv(\"../results/TF_target_TRN_neg/\" + str(TF) + \"_\" + str(len(TG)) + \"_neg_targets.csv\", \n",
    "              index = False, \n",
    "              columns = [\"TG\", \"Direction\"])"
   ]
  },
  {
   "cell_type": "markdown",
   "metadata": {},
   "source": [
    "## 3) Activated targets filtered by GO terms"
   ]
  },
  {
   "cell_type": "code",
   "execution_count": null,
   "metadata": {
    "scrolled": true
   },
   "outputs": [],
   "source": [
    "files_names = os.listdir(\"../results/TF_target_TRN_pos\")\n",
    "\n",
    "for genes in files_names:\n",
    "    genes_list = pd.read_csv('../results/TF_target_TRN_pos/' + genes, sep=',', header = [0])\n",
    "        \n",
    "    if len(genes_list.TG) >= 50 :\n",
    "        genes_list.to_csv(\"../results/TF_target_TRN_pos_for_SGD_GOterms/\" + genes, \n",
    "                          index = False, header = False, columns = [\"TG\"])\n"
   ]
  },
  {
   "cell_type": "markdown",
   "metadata": {},
   "source": [
    "# III- Repartition and 3D distances histograms"
   ]
  },
  {
   "cell_type": "markdown",
   "metadata": {},
   "source": [
    "## 1) Targets repartition on the chromosomes"
   ]
  },
  {
   "cell_type": "code",
   "execution_count": null,
   "metadata": {},
   "outputs": [],
   "source": [
    "def chrom_repartition_hist(genes_list):\n",
    "    \n",
    "    sql_query = \\\n",
    "\"\"\"SELECT Primary_SGDID, Feature_name, Start_coordinate, Stop_coordinate, Chromosome, Strand\n",
    "FROM SGD_features\n",
    "ORDER BY Start_coordinate\n",
    "\"\"\"\n",
    "    \n",
    "    loci = tools.get_locus_info(\"../SCERE.db\", sql_query)\n",
    "    loci = loci.assign(FT_target = loci.Feature_name.isin(genes_list))\n",
    "       \n",
    "    loci = loci[loci.FT_target == True].drop([\"FT_target\"], axis = 1)\n",
    "       \n",
    "    fig = px.histogram(loci, x=\"Chromosome\", nbins=30, range_x=[1, 17], color_discrete_sequence=['#A0E8AF'])\n",
    "    fig.update_layout(plot_bgcolor = \"white\",\n",
    "                      xaxis_showgrid = False,\n",
    "                      yaxis_showgrid = False, \n",
    "                      showlegend = True)\n",
    "       \n",
    "    return fig"
   ]
  },
  {
   "cell_type": "markdown",
   "metadata": {},
   "source": [
    "## 3) Results"
   ]
  },
  {
   "cell_type": "markdown",
   "metadata": {},
   "source": [
    "### a) All targets together"
   ]
  },
  {
   "cell_type": "code",
   "execution_count": null,
   "metadata": {},
   "outputs": [],
   "source": [
    "adjacency_matrix.isnull().sum().sum()"
   ]
  },
  {
   "cell_type": "code",
   "execution_count": null,
   "metadata": {},
   "outputs": [],
   "source": [
    "((9185*9185) - 9185)/2"
   ]
  },
  {
   "cell_type": "code",
   "execution_count": null,
   "metadata": {},
   "outputs": [],
   "source": [
    "42186705-42177520"
   ]
  },
  {
   "cell_type": "code",
   "execution_count": null,
   "metadata": {
    "scrolled": true
   },
   "outputs": [],
   "source": [
    "adjacency_matrix = pd.read_parquet(\"../dashboard/static/adjacency_matrix.parquet.gzip\", engine='pyarrow')\n",
    "files_names = os.listdir(\"../results/TF_target_TRN\")\n",
    "\n",
    "#removed mitochondrial targets genes :\n",
    "#Q0050, Q0080 and Q0120 from YIR018W_451_targets\n",
    "#Q0115 and Q0130 from YJL127C_1176_targets\n",
    "#Q0080 and Q0297 from 'YEL009C_303_targets.csv'\n",
    "\n",
    "\n",
    "for genes in files_names:\n",
    "    genes_list = pd.read_csv('../results/TF_target_TRN/' + genes, sep=',', header = [0])\n",
    "        \n",
    "    chrom_repartition = chrom_repartition_hist(genes_list.TG)\n",
    "    distances = distances_hist(genes_list)\n",
    "    \n",
    "    chrom_repartition.write_image(\"../results/chrom_repartition_hist/\" + genes +\".jpeg\")\n",
    "    distances.write_image(\"../results/3Ddistances_hist/\" + genes +\".jpeg\")"
   ]
  },
  {
   "cell_type": "markdown",
   "metadata": {},
   "source": [
    "### b) Activated targets"
   ]
  },
  {
   "cell_type": "code",
   "execution_count": null,
   "metadata": {},
   "outputs": [],
   "source": [
    "adjacency_matrix = pd.read_parquet(\"../dashboard/static/adjacency_matrix.parquet.gzip\", engine='pyarrow')\n",
    "files_names = os.listdir(\"../results/TF_target_TRN_pos\")\n",
    "\n",
    "for genes in files_names:\n",
    "    genes_list = pd.read_csv('../results/TF_target_TRN_pos/' + genes, sep=',', header = [0])\n",
    "        \n",
    "    if len(genes_list.TG) > 0 :    \n",
    "        chrom_repartition = chrom_repartition_hist(genes_list.TG)\n",
    "        \n",
    "        chrom_repartition.write_image(\"../results/chrom_repartition_hist_pos/\" + genes +\".jpeg\")"
   ]
  },
  {
   "cell_type": "markdown",
   "metadata": {},
   "source": [
    "# IV- QQ plots"
   ]
  },
  {
   "cell_type": "code",
   "execution_count": null,
   "metadata": {},
   "outputs": [],
   "source": [
    "def distances_QQplot(genes_list, adjacency_matrix, genes):\n",
    "    \n",
    "    edges_list = get_edges_list(genes_list, adjacency_matrix)\n",
    "    x = np.array(edges_list[\"3D_distances\"])\n",
    "    \n",
    "    y = []\n",
    "    for i in range(1, 5) :\n",
    "        random_genes_list = pd.DataFrame(data = {\"Primary_SGDID\": rd.choices(adjacency_matrix.index, k=len(edges_list))})\n",
    "        random_edges_list = get_random_edges_list(random_genes_list, adjacency_matrix)\n",
    "        y += list(random_edges_list[\"3D_distances\"])\n",
    "    \n",
    "    y = np.array(y)\n",
    "    pp_x = sm.ProbPlot(x)\n",
    "    pp_y = sm.ProbPlot(y)\n",
    "    qqplot_2samples(pp_x, pp_y)\n",
    "    plt.xlabel('genes list 3D distances')\n",
    "    plt.ylabel('random list 3D distances')\n",
    "    plt.xlim(0, 200)\n",
    "    plt.ylim(0, 200)\n",
    "    plt.plot(x, x, color='k', linestyle='-', linewidth=1)\n",
    "    genes = genes[:-4]\n",
    "    plt.savefig(\"../results/QQplots/\" + genes + \".jpeg\")\n",
    "    plt.close()\n",
    "\n",
    "    return"
   ]
  },
  {
   "cell_type": "code",
   "execution_count": null,
   "metadata": {},
   "outputs": [],
   "source": [
    "adjacency_matrix = pd.read_parquet(\"../dashboard/static/adjacency_matrix_V4.parquet.gzip\", engine='pyarrow')"
   ]
  },
  {
   "cell_type": "code",
   "execution_count": null,
   "metadata": {
    "scrolled": false
   },
   "outputs": [],
   "source": [
    "for i in range(0, 1000):\n",
    "    random_genes_list = pd.DataFrame(data = {\"Primary_SGDID\": rd.sample(list(adjacency_matrix.index), k=10)})\n",
    "    random_genes_list = random_genes_list.sort_values(by = \"Primary_SGDID\")\n",
    "    adjacency_matrix_select = adjacency_matrix.loc[random_genes_list.Primary_SGDID, random_genes_list.Primary_SGDID]\n",
    "    test = get_random_edges_list(random_genes_list, adjacency_matrix)\n",
    "    if len(test) == 44 :\n",
    "        print(len(adjacency_matrix_select.stack().dropna().reset_index()))\n",
    "        print(len(test))\n",
    "        display(adjacency_matrix_select)"
   ]
  },
  {
   "cell_type": "code",
   "execution_count": null,
   "metadata": {},
   "outputs": [],
   "source": [
    "adjacency_matrix"
   ]
  },
  {
   "cell_type": "code",
   "execution_count": null,
   "metadata": {
    "scrolled": true
   },
   "outputs": [],
   "source": [
    "%%time\n",
    "\n",
    "adjacency_matrix = pd.read_parquet(\"../dashboard/static/adjacency_matrix.parquet.gzip\", engine='pyarrow')\n",
    "files_names = os.listdir(\"../results/TF_target_TRN\")\n",
    "\n",
    "for genes in files_names:\n",
    "    print(genes)\n",
    "    genes_list = pd.read_csv('../results/TF_target_TRN/' + genes, sep=',', header = [0])\n",
    "    \n",
    "    if len(genes_list) < 100 :\n",
    "        distances_QQplot(genes_list, adjacency_matrix, genes)"
   ]
  },
  {
   "cell_type": "markdown",
   "metadata": {},
   "source": [
    "# V- 3D distances repartition functions"
   ]
  },
  {
   "cell_type": "code",
   "execution_count": null,
   "metadata": {},
   "outputs": [],
   "source": [
    "def get_edges_list(gene_list, adjacency_matrix):\n",
    "    \n",
    "    sql_query = \\\n",
    "\"\"\"SELECT Primary_SGDID, Chromosome, Feature_name, Strand, Stop_coordinate, Start_coordinate\n",
    "FROM SGD_features\n",
    "\"\"\"\n",
    "\n",
    "    Feature_name = tools.get_locus_info(\"../SCERE.db\", sql_query)\n",
    "    Feature_name = Feature_name.merge(genes_list, left_on = \"Feature_name\", right_on = genes_list.columns[0])\n",
    "    \n",
    "    adjacency_matrix_select = adjacency_matrix.loc[Feature_name.Primary_SGDID, Feature_name.Primary_SGDID]\n",
    "    \n",
    "    edges_list = adjacency_matrix_select.stack().dropna().reset_index()\n",
    "    edges_list = edges_list.sort_values(by = \"Primary_SGDID_bis\")\n",
    "    edges_list.rename(columns = {0: \"3D_distances\"}, inplace = True)\n",
    "    edges_list = edges_list.sort_values(by = \"3D_distances\")\n",
    "    edges_list.index = range(1, len(edges_list) + 1)\n",
    "    \n",
    "    return edges_list\n",
    "\n",
    "def get_random_edges_list(random_gene_list, adjacency_matrix):\n",
    "    \n",
    "    adjacency_matrix_select = adjacency_matrix.loc[random_gene_list.Primary_SGDID, random_gene_list.Primary_SGDID]\n",
    "    random_edges_list = adjacency_matrix_select.stack().dropna().reset_index()\n",
    "    random_edges_list.rename(columns = {0: \"3D_distances\"}, inplace = True)\n",
    "    random_edges_list = random_edges_list.sort_values(by = \"3D_distances\")\n",
    "    random_edges_list.index = range(1, len(random_edges_list) + 1)\n",
    "    \n",
    "    return random_edges_list\n",
    "\n",
    "def distri(genes_list, adjacency_matrix, genes):\n",
    "    #to copy paste from V2"
   ]
  },
  {
   "cell_type": "code",
   "execution_count": null,
   "metadata": {
    "scrolled": true
   },
   "outputs": [],
   "source": [
    "adjacency_matrix = pd.read_parquet(\"../dashboard/static/adjacency_matrix_V4.parquet.gzip\", engine='pyarrow')\n",
    "files_names = os.listdir(\"../results/TF_target_TRN\")\n",
    "\n",
    "for genes in files_names:\n",
    "    print(genes)\n",
    "    genes_list = pd.read_csv('../results/TF_target_TRN/' + genes, sep=',', header = [0])\n",
    "    fig = distri(genes_list, adjacency_matrix, \"YPR104C_287_targets\")\n",
    "    fig.write_image(\"../results/distri/\" + genes + \".jpeg\")"
   ]
  },
  {
   "cell_type": "markdown",
   "metadata": {},
   "source": [
    "# VI- Distributions comparaison"
   ]
  },
  {
   "cell_type": "code",
   "execution_count": null,
   "metadata": {},
   "outputs": [],
   "source": [
    "def ks_2samples(sample, name):\n",
    "    \n",
    "    sample_chrom_repartition = chrom_repartition(sample.TG)\n",
    "    \n",
    "    random_chrom_repartition = chrom_repartition(random_sample.random_TG)\n",
    "    \n",
    "    ks_result = ks_2samp(sample_chrom_repartition, random_chrom_repartition)\n",
    "    \n",
    "    return ks_result\n",
    "\n",
    "\n",
    "\n",
    "def chrom_repartition(genes_list):\n",
    "    \n",
    "    sql_query = \\\n",
    "\"\"\"SELECT Primary_SGDID, Feature_name, Start_coordinate, Stop_coordinate, Chromosome, Strand\n",
    "FROM SGD_features\n",
    "ORDER BY Start_coordinate\n",
    "\"\"\"\n",
    "    \n",
    "    loci = tools.get_locus_info(\"../SCERE.db\", sql_query)\n",
    "    loci = loci.assign(FT_target = loci.Feature_name.isin(genes_list))\n",
    "       \n",
    "    loci = loci[loci.FT_target == True].drop([\"FT_target\"], axis = 1)\n",
    "       \n",
    "    return loci.Chromosome"
   ]
  },
  {
   "cell_type": "code",
   "execution_count": null,
   "metadata": {
    "scrolled": false
   },
   "outputs": [],
   "source": [
    "files_names = os.listdir(\"../results/TF_target_TRN\")\n",
    "files_names_random = os.listdir(\"../results/TF_random_target_TRN\")\n",
    "\n",
    "\n",
    "for genes, random_genes in zip(files_names, files_names_random):\n",
    "    random_genes_list = pd.read_csv('../results/TF_random_target_TRN/' + random_genes, sep=',', header = [0])\n",
    "    genes_list = pd.read_csv('../results/TF_target_TRN/' + genes, sep=',', header = [0])\n",
    "    \n",
    "    ks_2samples(genes_list, random_genes_list, genes)"
   ]
  },
  {
   "cell_type": "code",
   "execution_count": null,
   "metadata": {},
   "outputs": [],
   "source": []
  }
 ],
 "metadata": {
  "kernelspec": {
   "display_name": "Python 3",
   "language": "python",
   "name": "python3"
  },
  "language_info": {
   "codemirror_mode": {
    "name": "ipython",
    "version": 3
   },
   "file_extension": ".py",
   "mimetype": "text/x-python",
   "name": "python",
   "nbconvert_exporter": "python",
   "pygments_lexer": "ipython3",
   "version": "3.8.8"
  }
 },
 "nbformat": 4,
 "nbformat_minor": 4
}
