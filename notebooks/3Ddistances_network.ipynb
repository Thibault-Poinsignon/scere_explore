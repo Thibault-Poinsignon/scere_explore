{
 "cells": [
  {
   "cell_type": "code",
   "execution_count": 1,
   "metadata": {},
   "outputs": [],
   "source": [
    "import tools\n",
    "import visualization_2D as vis2D\n",
    "import visualization_3D as vis3D\n",
    "import pandas as pd\n",
    "import numpy as np\n",
    "import pyarrow as pa\n",
    "import plotly.graph_objects as go\n",
    "import plotly.offline as pyo\n",
    "import plotly.express as px\n",
    "from plotly.tools import mpl_to_plotly\n",
    "import math\n",
    "import random"
   ]
  },
  {
   "cell_type": "code",
   "execution_count": 2,
   "metadata": {},
   "outputs": [],
   "source": [
    "import networkx as nx\n",
    "import matplotlib.pyplot as plt\n",
    "import ipycytoscape\n",
    "import matplotlib.pyplot as plt\n",
    "import ipywidgets as widgets\n",
    "\n",
    "import sqlite3"
   ]
  },
  {
   "cell_type": "markdown",
   "metadata": {},
   "source": [
    "## 3D coordinates"
   ]
  },
  {
   "cell_type": "code",
   "execution_count": 3,
   "metadata": {
    "scrolled": true
   },
   "outputs": [],
   "source": [
    "atoms_coordinates = pd.read_csv('../data/3D_coordinates/3dmodel.csv',\n",
    "                          names = (\"Atom\",\"Atom_nb\", \"O\", \"EDG\",\"chrom\", \"x\", \"y\", \"z\", \"1\", \"75\",\"none\"),\n",
    "                          sep=',')\n",
    "\n",
    "atoms_coordinates = atoms_coordinates.drop([\"O\",\"EDG\",\"1\",\"75\",\"Atom_nb\",\"Atom\",\"none\"],axis = 1)\n",
    "\n",
    "atoms_coordinates = atoms_coordinates.set_index([pd.Index(list(range(1, 26539)))])\n",
    "\n",
    "atoms_coordinates[\"chrom\"] = atoms_coordinates[\"chrom\"].replace([\"A\",\"B\",\"C\",\"D\",\"E\",\"F\",\"G\",\"H\",\n",
    "                                                                 \"J\",\"I\",\"K\",\"L\",\"N\",\"M\",\"O\",\"P\"],\n",
    "                                                                [1,2,3,4,5,6,7,8,\n",
    "                                                                 9,10,11,12,13,14,15,16])\n",
    "\n",
    "atoms_coordinates[\"chrom\"] = pd.to_numeric(atoms_coordinates.chrom)"
   ]
  },
  {
   "cell_type": "markdown",
   "metadata": {},
   "source": [
    "## 3D segments and loci connexion"
   ]
  },
  {
   "cell_type": "code",
   "execution_count": 4,
   "metadata": {},
   "outputs": [
    {
     "name": "stdout",
     "output_type": "stream",
     "text": [
      "CPU times: user 3min 26s, sys: 610 ms, total: 3min 27s\n",
      "Wall time: 3min 27s\n"
     ]
    }
   ],
   "source": [
    "%%time\n",
    "\n",
    "loci_series_list = []\n",
    "\n",
    "for c in range(1, 17):\n",
    "    \n",
    "    chrom_number = str(c)\n",
    "    \n",
    "    loci = vis3D.get_chrom_info('../SCERE.db',\n",
    "                          chrom_number,\n",
    "                          \"\"\"Primary_SGDID, Start_coordinate, Stop_coordinate, Feature_type\"\"\",\n",
    "                          \"SGD_Features\",\n",
    "                          \"\"\"\"\"\",\n",
    "                          \"\"\"\"\"\",\n",
    "                          \"\"\" Start_coordinate\"\"\")\n",
    "    \n",
    "    segments = vis3D.format_segments_dataframe(c, atoms_coordinates)\n",
    "    \n",
    "    loci_series_list = loci_series_list + [vis3D.connect(segments, loci)]\n",
    "\n",
    "segments_loci = pd.concat(loci_series_list)\n",
    "segments_loci.index = range(1, len(segments_loci) + 1)\n"
   ]
  },
  {
   "cell_type": "code",
   "execution_count": 5,
   "metadata": {},
   "outputs": [],
   "source": [
    "list_segments_loci = segments_loci\n",
    "\n",
    "for i in range(1, len(list_segments_loci) + 1):\n",
    "    list_segments_loci.at[i, 1] = list(list_segments_loci.loc[i].dropna())\n",
    "\n",
    "list_segments_loci.index = range(1, len(list_segments_loci) + 1)\n",
    "list_segments_loci = list_segments_loci[1]\n",
    "list_segments_loci = list(list_segments_loci)"
   ]
  },
  {
   "cell_type": "markdown",
   "metadata": {},
   "source": [
    "## 3D segment subdivision"
   ]
  },
  {
   "cell_type": "code",
   "execution_count": 6,
   "metadata": {
    "scrolled": true
   },
   "outputs": [
    {
     "name": "stdout",
     "output_type": "stream",
     "text": [
      "CPU times: user 2min 59s, sys: 418 ms, total: 2min 59s\n",
      "Wall time: 3min\n"
     ]
    }
   ],
   "source": [
    "%%time\n",
    "\n",
    "\n",
    "#Récupération des coordonnées des 26522 segments 3D\n",
    "segments_coordinates = vis3D.calcul_segments_coordinates(1, atoms_coordinates)\n",
    "\n",
    "for c in range(2, 17):\n",
    "    \n",
    "    chrom_segments_coordinates = vis3D.calcul_segments_coordinates(c, atoms_coordinates)\n",
    "    \n",
    "    segments_coordinates = segments_coordinates.append(chrom_segments_coordinates)\n",
    "\n",
    "# segments_coordinates.index = range(0, len(segments_coordinates))\n",
    "segments_coordinates = segments_coordinates.reset_index()\n",
    "\n",
    "#new_segments stocke dans l'ordre les segments, dont ceux qui sont subdivisés\n",
    "new_segments = pd.DataFrame(columns = [\"x_start\", \"y_start\", \"z_start\", \"x_stop\", \"y_stop\", \"z_stop\", \"Primary_SGDID\"])\n",
    "\n",
    "#loci_3Dloc stocke les loci et leur position dans l'espace (le start du segments associé au loci)\n",
    "#loci_3Dloc = pd.DataFrame(columns = [\"Primary_SGDID\", \"x_start\", \"y_start\", \"z_start\"])\n",
    "\n",
    "#on parcourt la liste des segments, avec leurs loci associés\n",
    "for s in range(0, len(list_segments_loci)):\n",
    "    \n",
    "    #liste des loci qui n'ont pas encore été associés à un segment\n",
    "    new_loci = list(set(list_segments_loci[s]) - set(list(new_segments[\"Primary_SGDID\"].values)))\n",
    "    \n",
    "    #dans le cas où il y a plus d'un loci associé au segment, on le subdivise par le nombre de loci.\n",
    "    if len(new_loci) > 0:\n",
    "        segment_vect_x = segments_coordinates.loc[s, \"x_stop\"] - segments_coordinates.loc[s, \"x_start\"]\n",
    "        segment_vect_y = segments_coordinates.loc[s, \"y_stop\"] - segments_coordinates.loc[s, \"y_start\"]\n",
    "        segment_vect_z = segments_coordinates.loc[s, \"z_stop\"] - segments_coordinates.loc[s, \"z_start\"]\n",
    "        for new_loci_idx in range(0, len(new_loci)):\n",
    "            # New start point\n",
    "            x_start = segments_coordinates.loc[s, \"x_start\"] + (new_loci_idx/len(new_loci)) * segment_vect_x\n",
    "            y_start = segments_coordinates.loc[s, \"y_start\"] + (new_loci_idx/len(new_loci)) * segment_vect_y\n",
    "            z_start = segments_coordinates.loc[s, \"z_start\"] + (new_loci_idx/len(new_loci)) * segment_vect_z\n",
    "            # New stop point\n",
    "            x_stop = segments_coordinates.loc[s, \"x_start\"] + ((new_loci_idx+1)/len(new_loci)) * segment_vect_x\n",
    "            y_stop = segments_coordinates.loc[s, \"y_start\"] + ((new_loci_idx+1)/len(new_loci)) * segment_vect_y\n",
    "            z_stop = segments_coordinates.loc[s, \"z_start\"] + ((new_loci_idx+1)/len(new_loci)) * segment_vect_z\n",
    "            # Store new segment\n",
    "            new_segments = new_segments.append({\"Primary_SGDID\": new_loci[new_loci_idx],\n",
    "                                                \"x_start\": x_start,\n",
    "                                                \"y_start\": y_start,\n",
    "                                                \"z_start\": z_start,\n",
    "                                                \"x_stop\": x_stop,\n",
    "                                                \"y_stop\": y_stop,\n",
    "                                                \"z_stop\": z_stop},\n",
    "                                                ignore_index=True)    \n",
    "        \n",
    "    else:\n",
    "        new_segments = new_segments.append({\"Primary_SGDID\": None,\n",
    "                                        \"x_start\": segments_coordinates.loc[s, \"x_start\"],\n",
    "                                        \"y_start\": segments_coordinates.loc[s, \"y_start\"],\n",
    "                                        \"z_start\": segments_coordinates.loc[s, \"z_start\"],\n",
    "                                        \"x_stop\": segments_coordinates.loc[s, \"x_stop\"],\n",
    "                                        \"y_stop\": segments_coordinates.loc[s, \"y_stop\"],\n",
    "                                        \"z_stop\": segments_coordinates.loc[s, \"z_stop\"]},\n",
    "                                        ignore_index=True)"
   ]
  },
  {
   "cell_type": "code",
   "execution_count": 7,
   "metadata": {
    "scrolled": false
   },
   "outputs": [
    {
     "data": {
      "text/plain": [
       "9185"
      ]
     },
     "execution_count": 7,
     "metadata": {},
     "output_type": "execute_result"
    }
   ],
   "source": [
    "#Mettre ces valeurs au propre\n",
    "\n",
    "len(new_segments)\n",
    "len(segments_coordinates)\n",
    "\n",
    "new_segments[\"Primary_SGDID\"].isna().sum()\n",
    "\n",
    "28790-19605"
   ]
  },
  {
   "cell_type": "markdown",
   "metadata": {},
   "source": [
    "## Loci 3D localisation"
   ]
  },
  {
   "cell_type": "code",
   "execution_count": 8,
   "metadata": {
    "scrolled": false
   },
   "outputs": [
    {
     "data": {
      "text/html": [
       "<div>\n",
       "<style scoped>\n",
       "    .dataframe tbody tr th:only-of-type {\n",
       "        vertical-align: middle;\n",
       "    }\n",
       "\n",
       "    .dataframe tbody tr th {\n",
       "        vertical-align: top;\n",
       "    }\n",
       "\n",
       "    .dataframe thead th {\n",
       "        text-align: right;\n",
       "    }\n",
       "</style>\n",
       "<table border=\"1\" class=\"dataframe\">\n",
       "  <thead>\n",
       "    <tr style=\"text-align: right;\">\n",
       "      <th></th>\n",
       "      <th>x_start</th>\n",
       "      <th>y_start</th>\n",
       "      <th>z_start</th>\n",
       "      <th>Primary_SGDID</th>\n",
       "    </tr>\n",
       "  </thead>\n",
       "  <tbody>\n",
       "    <tr>\n",
       "      <th>1</th>\n",
       "      <td>77.365000</td>\n",
       "      <td>61.609000</td>\n",
       "      <td>15.448000</td>\n",
       "      <td>S000028862</td>\n",
       "    </tr>\n",
       "    <tr>\n",
       "      <th>2</th>\n",
       "      <td>77.501714</td>\n",
       "      <td>61.581143</td>\n",
       "      <td>15.478714</td>\n",
       "      <td>S000028594</td>\n",
       "    </tr>\n",
       "    <tr>\n",
       "      <th>3</th>\n",
       "      <td>77.638429</td>\n",
       "      <td>61.553286</td>\n",
       "      <td>15.509429</td>\n",
       "      <td>S000002143</td>\n",
       "    </tr>\n",
       "    <tr>\n",
       "      <th>4</th>\n",
       "      <td>77.775143</td>\n",
       "      <td>61.525429</td>\n",
       "      <td>15.540143</td>\n",
       "      <td>S000028864</td>\n",
       "    </tr>\n",
       "    <tr>\n",
       "      <th>5</th>\n",
       "      <td>77.911857</td>\n",
       "      <td>61.497571</td>\n",
       "      <td>15.570857</td>\n",
       "      <td>S000028865</td>\n",
       "    </tr>\n",
       "    <tr>\n",
       "      <th>...</th>\n",
       "      <td>...</td>\n",
       "      <td>...</td>\n",
       "      <td>...</td>\n",
       "      <td>...</td>\n",
       "    </tr>\n",
       "    <tr>\n",
       "      <th>9181</th>\n",
       "      <td>155.540000</td>\n",
       "      <td>34.061000</td>\n",
       "      <td>75.917000</td>\n",
       "      <td>S000034728</td>\n",
       "    </tr>\n",
       "    <tr>\n",
       "      <th>9182</th>\n",
       "      <td>155.262000</td>\n",
       "      <td>33.940333</td>\n",
       "      <td>75.778333</td>\n",
       "      <td>S000006407</td>\n",
       "    </tr>\n",
       "    <tr>\n",
       "      <th>9183</th>\n",
       "      <td>154.984000</td>\n",
       "      <td>33.819667</td>\n",
       "      <td>75.639667</td>\n",
       "      <td>S000006406</td>\n",
       "    </tr>\n",
       "    <tr>\n",
       "      <th>9184</th>\n",
       "      <td>154.706000</td>\n",
       "      <td>33.699000</td>\n",
       "      <td>75.501000</td>\n",
       "      <td>S000006408</td>\n",
       "    </tr>\n",
       "    <tr>\n",
       "      <th>9185</th>\n",
       "      <td>153.872000</td>\n",
       "      <td>33.336000</td>\n",
       "      <td>75.085000</td>\n",
       "      <td>S000028727</td>\n",
       "    </tr>\n",
       "  </tbody>\n",
       "</table>\n",
       "<p>9185 rows × 4 columns</p>\n",
       "</div>"
      ],
      "text/plain": [
       "         x_start    y_start    z_start Primary_SGDID\n",
       "1      77.365000  61.609000  15.448000    S000028862\n",
       "2      77.501714  61.581143  15.478714    S000028594\n",
       "3      77.638429  61.553286  15.509429    S000002143\n",
       "4      77.775143  61.525429  15.540143    S000028864\n",
       "5      77.911857  61.497571  15.570857    S000028865\n",
       "...          ...        ...        ...           ...\n",
       "9181  155.540000  34.061000  75.917000    S000034728\n",
       "9182  155.262000  33.940333  75.778333    S000006407\n",
       "9183  154.984000  33.819667  75.639667    S000006406\n",
       "9184  154.706000  33.699000  75.501000    S000006408\n",
       "9185  153.872000  33.336000  75.085000    S000028727\n",
       "\n",
       "[9185 rows x 4 columns]"
      ]
     },
     "execution_count": 8,
     "metadata": {},
     "output_type": "execute_result"
    }
   ],
   "source": [
    "loci_3Dloc = new_segments.drop([\"x_stop\", \"y_stop\", \"z_stop\"], axis = 1)\n",
    "loci_3Dloc = loci_3Dloc[- loci_3Dloc[\"Primary_SGDID\"].isna()]\n",
    "loci_3Dloc.index = range(1, len(loci_3Dloc) + 1)\n",
    "\n",
    "loci_3Dloc"
   ]
  },
  {
   "cell_type": "code",
   "execution_count": 9,
   "metadata": {},
   "outputs": [
    {
     "data": {
      "text/html": [
       "<div>\n",
       "<style scoped>\n",
       "    .dataframe tbody tr th:only-of-type {\n",
       "        vertical-align: middle;\n",
       "    }\n",
       "\n",
       "    .dataframe tbody tr th {\n",
       "        vertical-align: top;\n",
       "    }\n",
       "\n",
       "    .dataframe thead th {\n",
       "        text-align: right;\n",
       "    }\n",
       "</style>\n",
       "<table border=\"1\" class=\"dataframe\">\n",
       "  <thead>\n",
       "    <tr style=\"text-align: right;\">\n",
       "      <th></th>\n",
       "      <th>x_start</th>\n",
       "      <th>y_start</th>\n",
       "      <th>z_start</th>\n",
       "      <th>Primary_SGDID</th>\n",
       "    </tr>\n",
       "  </thead>\n",
       "  <tbody>\n",
       "    <tr>\n",
       "      <th>1</th>\n",
       "      <td>113.1850</td>\n",
       "      <td>110.39700</td>\n",
       "      <td>4.1200</td>\n",
       "      <td>S000000001</td>\n",
       "    </tr>\n",
       "    <tr>\n",
       "      <th>2</th>\n",
       "      <td>112.6980</td>\n",
       "      <td>107.26100</td>\n",
       "      <td>9.4060</td>\n",
       "      <td>S000000002</td>\n",
       "    </tr>\n",
       "    <tr>\n",
       "      <th>3</th>\n",
       "      <td>112.5975</td>\n",
       "      <td>106.84375</td>\n",
       "      <td>10.0755</td>\n",
       "      <td>S000000003</td>\n",
       "    </tr>\n",
       "    <tr>\n",
       "      <th>4</th>\n",
       "      <td>112.4600</td>\n",
       "      <td>106.30400</td>\n",
       "      <td>10.9340</td>\n",
       "      <td>S000000004</td>\n",
       "    </tr>\n",
       "    <tr>\n",
       "      <th>5</th>\n",
       "      <td>112.1230</td>\n",
       "      <td>105.09200</td>\n",
       "      <td>12.8280</td>\n",
       "      <td>S000000005</td>\n",
       "    </tr>\n",
       "    <tr>\n",
       "      <th>...</th>\n",
       "      <td>...</td>\n",
       "      <td>...</td>\n",
       "      <td>...</td>\n",
       "      <td>...</td>\n",
       "    </tr>\n",
       "    <tr>\n",
       "      <th>9181</th>\n",
       "      <td>156.3465</td>\n",
       "      <td>54.58450</td>\n",
       "      <td>74.5690</td>\n",
       "      <td>S000178200</td>\n",
       "    </tr>\n",
       "    <tr>\n",
       "      <th>9182</th>\n",
       "      <td>152.2950</td>\n",
       "      <td>39.11200</td>\n",
       "      <td>65.2220</td>\n",
       "      <td>S000178201</td>\n",
       "    </tr>\n",
       "    <tr>\n",
       "      <th>9183</th>\n",
       "      <td>150.5970</td>\n",
       "      <td>26.04300</td>\n",
       "      <td>65.1290</td>\n",
       "      <td>S000178202</td>\n",
       "    </tr>\n",
       "    <tr>\n",
       "      <th>9184</th>\n",
       "      <td>142.4700</td>\n",
       "      <td>28.79000</td>\n",
       "      <td>77.1160</td>\n",
       "      <td>S000178203</td>\n",
       "    </tr>\n",
       "    <tr>\n",
       "      <th>9185</th>\n",
       "      <td>157.3300</td>\n",
       "      <td>35.30500</td>\n",
       "      <td>81.1020</td>\n",
       "      <td>S000178204</td>\n",
       "    </tr>\n",
       "  </tbody>\n",
       "</table>\n",
       "<p>9185 rows × 4 columns</p>\n",
       "</div>"
      ],
      "text/plain": [
       "       x_start    y_start  z_start Primary_SGDID\n",
       "1     113.1850  110.39700   4.1200    S000000001\n",
       "2     112.6980  107.26100   9.4060    S000000002\n",
       "3     112.5975  106.84375  10.0755    S000000003\n",
       "4     112.4600  106.30400  10.9340    S000000004\n",
       "5     112.1230  105.09200  12.8280    S000000005\n",
       "...        ...        ...      ...           ...\n",
       "9181  156.3465   54.58450  74.5690    S000178200\n",
       "9182  152.2950   39.11200  65.2220    S000178201\n",
       "9183  150.5970   26.04300  65.1290    S000178202\n",
       "9184  142.4700   28.79000  77.1160    S000178203\n",
       "9185  157.3300   35.30500  81.1020    S000178204\n",
       "\n",
       "[9185 rows x 4 columns]"
      ]
     },
     "execution_count": 9,
     "metadata": {},
     "output_type": "execute_result"
    }
   ],
   "source": [
    "#FIXING THE MATRIX\n",
    "loci_3Dloc = loci_3Dloc.sort_values(\"Primary_SGDID\")\n",
    "loci_3Dloc.index = range(1, len(loci_3Dloc) + 1)\n",
    "loci_3Dloc"
   ]
  },
  {
   "cell_type": "code",
   "execution_count": 10,
   "metadata": {},
   "outputs": [],
   "source": [
    "loci_3Dloc.to_csv(\"../results/loci_3Dloc.csv\", \n",
    "               sep = \"\\t\",\n",
    "               index = False,\n",
    "               columns = [\"x_start\", \"y_start\", \"z_start\", \"Primary_SGDID\"])"
   ]
  },
  {
   "cell_type": "markdown",
   "metadata": {},
   "source": [
    "## Distances matrix"
   ]
  },
  {
   "cell_type": "code",
   "execution_count": null,
   "metadata": {
    "scrolled": true
   },
   "outputs": [],
   "source": [
    "%%time\n",
    "#1h35 min\n",
    "\n",
    "adjacency_matrix = pd.DataFrame(columns = range(1, len(loci_3Dloc) + 1), index = range(1,len(loci_3Dloc) + 1))\n",
    "\n",
    "for i in adjacency_matrix.index:\n",
    "    for j in range(i + 1, len(adjacency_matrix.index) + 1):\n",
    "        adjacency_matrix[i][j] = math.sqrt((loci_3Dloc.x_start[i] - loci_3Dloc.x_start[j]) ** 2 +\n",
    "                                           (loci_3Dloc.y_start[i] - loci_3Dloc.y_start[j]) ** 2 +\n",
    "                                           (loci_3Dloc.z_start[i] - loci_3Dloc.z_start[j]) ** 2)"
   ]
  },
  {
   "cell_type": "code",
   "execution_count": null,
   "metadata": {},
   "outputs": [],
   "source": [
    "adjacency_matrix.index = loci_3Dloc[\"Primary_SGDID\"]\n",
    "loci_3Dloc = loci_3Dloc.rename(columns={\"Primary_SGDID\": \"Primary_SGDID_bis\"})\n",
    "adjacency_matrix.columns = loci_3Dloc[\"Primary_SGDID_bis\"]"
   ]
  },
  {
   "cell_type": "code",
   "execution_count": null,
   "metadata": {},
   "outputs": [],
   "source": [
    "adjacency_matrix"
   ]
  },
  {
   "cell_type": "code",
   "execution_count": null,
   "metadata": {
    "scrolled": true
   },
   "outputs": [],
   "source": [
    "adjacency_matrix.to_parquet('../data/adjacency_matrix_V4.parquet.gzip', engine = \"pyarrow\")"
   ]
  },
  {
   "cell_type": "code",
   "execution_count": null,
   "metadata": {
    "scrolled": true
   },
   "outputs": [],
   "source": [
    "#adjacency_matrix.to_csv(\"../data/adjacency_matrix_V2.csv\")"
   ]
  },
  {
   "cell_type": "code",
   "execution_count": null,
   "metadata": {},
   "outputs": [],
   "source": [
    "#adjacency_matrix.to_csv(\"../data/adjacency_matrix_V3.csv\", header = True)\n",
    "adjacency_matrix = pd.read_csv(\"../data/adjacency_matrix_V3.csv\")\n",
    "\n",
    "adjacency_matrix = adjacency_matrix.drop(\"Primary_SGDID\", axis = 1)\n",
    "adjacency_matrix.index = loci_3Dloc[\"Primary_SGDID\"]"
   ]
  },
  {
   "cell_type": "code",
   "execution_count": null,
   "metadata": {},
   "outputs": [],
   "source": [
    "print(adjacency_matrix.loc[\"S000004395\", \"S000004038\"]) #118,474\n",
    "print(adjacency_matrix.loc[\"S000006148\", \"S000001515\"]) #106,962\n",
    "print(adjacency_matrix.loc[\"S000006208\", \"S000005996\"]) #62,021\n",
    "print(adjacency_matrix.loc[\"S000001315\", \"S000003041\"]) #28,407"
   ]
  },
  {
   "cell_type": "markdown",
   "metadata": {},
   "source": [
    "## Selection of the genes of interest"
   ]
  },
  {
   "cell_type": "code",
   "execution_count": null,
   "metadata": {
    "scrolled": true
   },
   "outputs": [],
   "source": [
    "genes_list = pd.read_csv('../data/regulation_factors_target/sgd/STE12_targets_response_to_chimical.csv',\n",
    "                          header = 0,\n",
    "                          names = [\"genes\"])\n",
    "\n",
    "sql_query = \\\n",
    "\"\"\"SELECT Primary_SGDID, Chromosome, Feature_name, Strand, Stop_coordinate, Start_coordinate\n",
    "FROM SGD_features\n",
    "\"\"\"\n",
    "\n",
    "sql_query_bis = \\\n",
    "\"\"\"SELECT Primary_SGDID, Chromosome, Standard_gene_name, Strand, Stop_coordinate, Start_coordinate\n",
    "FROM SGD_features\n",
    "\"\"\"\n",
    "\n",
    "Feature_name = tools.get_locus_info(\"../SCERE.db\", sql_query)\n",
    "Feature_name = Feature_name.merge(genes_list, left_on = \"Feature_name\", right_on = \"genes\")\n",
    "\n",
    "Standard_gene_name = tools.get_locus_info(\"../SCERE.db\", sql_query_bis)\n",
    "Standard_gene_name = Standard_gene_name.merge(genes_list, left_on = \"Standard_gene_name\", right_on = \"genes\")\n",
    "\n",
    "features_ID = Standard_gene_name.append(Feature_name)\n",
    "\n",
    "#why \"S000007266\" is not in the matrix ?\n",
    "features_ID = features_ID[features_ID[\"Primary_SGDID\"] != \"S000007266\"]\n",
    "\n",
    "adjacency_matrix_select = adjacency_matrix.loc[ features_ID.Primary_SGDID, features_ID.Primary_SGDID]\n",
    "adjacency_matrix_select.index.names = [\"Primary_SGDID_bis\"]"
   ]
  },
  {
   "cell_type": "markdown",
   "metadata": {},
   "source": [
    "## Connexions list"
   ]
  },
  {
   "cell_type": "code",
   "execution_count": null,
   "metadata": {},
   "outputs": [],
   "source": [
    "edges_list = adjacency_matrix_select.stack().dropna().reset_index()\n",
    "edges_list = edges_list.sort_values(by = \"Primary_SGDID_bis\")\n",
    "edges_list.rename(columns = {0: \"3D_distance\"}, inplace = True)\n",
    "edges_list = edges_list.sort_values(by = \"3D_distance\")\n",
    "edges_list.index = range(1, len(edges_list) + 1)"
   ]
  },
  {
   "cell_type": "markdown",
   "metadata": {},
   "source": [
    "## Genes of interest distances histogram"
   ]
  },
  {
   "cell_type": "code",
   "execution_count": null,
   "metadata": {},
   "outputs": [],
   "source": [
    "#fig = go.Figure(data = go.Scattergl(x = edges_list.index, y = edges_list[\"3D_distance\"], mode = 'markers'))\n",
    "\n",
    "fig = edges_list[\"3D_distance\"].plot(kind='hist',\n",
    "                                     bins=50,\n",
    "                                     title='Histogram Of 3D distances',\n",
    "                                     figsize=(12,8),\n",
    "                                     fontsize=15, \n",
    "                                     color=['#A0E8AF'])"
   ]
  },
  {
   "cell_type": "code",
   "execution_count": null,
   "metadata": {},
   "outputs": [],
   "source": [
    "fig = px.histogram(edges_list, x=\"3D_distance\", nbins= 50)\n",
    "fig.show()"
   ]
  },
  {
   "cell_type": "markdown",
   "metadata": {},
   "source": [
    "## All distances histogram"
   ]
  },
  {
   "cell_type": "code",
   "execution_count": null,
   "metadata": {},
   "outputs": [],
   "source": [
    "adjacency_matrix.index.names = [\"Primary_SGDID_bis\"]\n",
    "edges_list_all = adjacency_matrix.stack().dropna().reset_index()\n",
    "edges_list_all = edges_list_all.sort_values(by = \"Primary_SGDID_bis\")\n",
    "edges_list_all.rename(columns = {0: \"3D_distance\"}, inplace = True)\n",
    "edges_list_all = edges_list_all.sort_values(by = \"3D_distance\")\n",
    "\n",
    "\n",
    "all_distance_hist = edges_list_all[\"3D_distance\"].plot(kind='hist',\n",
    "                                                       bins=50,\n",
    "                                                       title='Histogram Of 3D distances',\n",
    "                                                       figsize=(12,8),\n",
    "                                                       fontsize=15, \n",
    "                                                       color=['#A0E8AF'])"
   ]
  },
  {
   "cell_type": "markdown",
   "metadata": {},
   "source": [
    "## Random selecion of genes on chromosome 2 histogram"
   ]
  },
  {
   "cell_type": "code",
   "execution_count": null,
   "metadata": {
    "scrolled": true
   },
   "outputs": [],
   "source": [
    "\n",
    "sql_query_ter = \\\n",
    "\"\"\"SELECT Primary_SGDID, Chromosome, Strand, Stop_coordinate, Start_coordinate\n",
    "FROM SGD_features\n",
    "WHERE (Chromosome == 12) AND (Feature_type != \"CDS\") AND (Start_coordinate != \"\")\n",
    "\"\"\"\n",
    "\n",
    "Feature_name = tools.get_locus_info(\"../SCERE.db\", sql_query_ter)\n",
    "\n",
    "\n",
    "adjacency_matrix_chrom = adjacency_matrix.loc[ Feature_name.Primary_SGDID, Feature_name.Primary_SGDID]\n",
    "adjacency_matrix_chrom.index.names = [\"Primary_SGDID_bis\"]\n",
    "\n",
    "edges_list_chrom = adjacency_matrix_chrom.stack().dropna().reset_index()\n",
    "edges_list_chrom = edges_list_chrom.sort_values(by = \"Primary_SGDID_bis\")\n",
    "edges_list_chrom.rename(columns = {0: \"3D_distance\"}, inplace = True)\n",
    "edges_list_chrom = edges_list_chrom.sort_values(by = \"3D_distance\")\n",
    "\n",
    "\n",
    "edges_list_chrom[\"3D_distance\"].hist(bins = 50)"
   ]
  },
  {
   "cell_type": "code",
   "execution_count": null,
   "metadata": {},
   "outputs": [],
   "source": [
    "fig = px.histogram(edges_list_chrom, x=\"3D_distance\", nbins= 100)\n",
    "fig.show()"
   ]
  },
  {
   "cell_type": "markdown",
   "metadata": {},
   "source": [
    "## Genes of interest genomic positions"
   ]
  },
  {
   "cell_type": "code",
   "execution_count": null,
   "metadata": {},
   "outputs": [],
   "source": [
    "chroms = tools.get_locus_info(\"../SCERE.db\", sql_query)\n",
    "\n",
    "chroms = chroms.assign(FT_target = chroms.Primary_SGDID.isin(features_ID.Primary_SGDID))\n",
    "\n",
    "chroms_format = vis2D.format_coordinates(chroms, 6)\n",
    "\n",
    "vis2D.genome_drawing(chroms_format, \"discreet\", \"FT_target\", [True], [\"mediumblue\"])"
   ]
  },
  {
   "cell_type": "code",
   "execution_count": null,
   "metadata": {},
   "outputs": [],
   "source": [
    "chroms[chroms.FT_target == True].drop([\"FT_target\"], axis = 1)"
   ]
  },
  {
   "cell_type": "code",
   "execution_count": null,
   "metadata": {},
   "outputs": [],
   "source": [
    "test = chroms[chroms.FT_target == True]\n",
    "fig = px.histogram(test, x=\"Chromosome\", nbins=30, range_x=[1, 17])\n",
    "fig.show()"
   ]
  },
  {
   "cell_type": "markdown",
   "metadata": {},
   "source": [
    "## Genes of interest 3D positions"
   ]
  },
  {
   "cell_type": "code",
   "execution_count": null,
   "metadata": {},
   "outputs": [],
   "source": [
    "def format_atoms_coordinates_V3(new_segments):\n",
    "    \n",
    "    plotly_segments_V2 = pd.DataFrame(columns = [\"x\", \"y\", \"z\", \"Primary_SGDID\"])\n",
    "    \n",
    "    for i in range(0, len(new_segments)):\n",
    "        plotly_segments_V2 = plotly_segments_V2.append({\"x\": new_segments[\"x_start\"][i], \n",
    "                                                       \"y\": new_segments[\"y_start\"][i], \n",
    "                                                       \"z\": new_segments[\"z_start\"][i], \n",
    "                                                       \"Primary_SGDID\": new_segments[\"Primary_SGDID\"][i]}, \n",
    "                                                       ignore_index=True)\n",
    "        \n",
    "        plotly_segments_V2 = plotly_segments_V2.append({\"x\": new_segments[\"x_stop\"][i], \n",
    "                                                       \"y\": new_segments[\"y_stop\"][i], \n",
    "                                                       \"z\": new_segments[\"z_stop\"][i], \n",
    "                                                       \"Primary_SGDID\": new_segments[\"Primary_SGDID\"][i]}, \n",
    "                                                       ignore_index=True)\n",
    "        \n",
    "        plotly_segments_V2 = plotly_segments_V2.append({\"x\": None, \n",
    "                                                        \"y\": None, \n",
    "                                                        \"z\": None, \n",
    "                                                        \"Primary_SGDID\": new_segments[\"Primary_SGDID\"][i]},\n",
    "                                                        ignore_index=True)\n",
    "    \n",
    "    return plotly_segments_V2"
   ]
  },
  {
   "cell_type": "code",
   "execution_count": null,
   "metadata": {
    "scrolled": true
   },
   "outputs": [],
   "source": [
    "%%time\n",
    "\n",
    "#plotly_segments = vis3D.format_atoms_coordinates_V2(atoms_coordinates, segments_loci)\n",
    "plotly_segments = format_atoms_coordinates_V3(new_segments)\n",
    "\n",
    "#plotly_segments.to_csv(\"../data/plotly_segments.csv\", index = False, columns = [\"x\", \"y\", \"z\", \"Primary_SGDID\"])"
   ]
  },
  {
   "cell_type": "code",
   "execution_count": null,
   "metadata": {},
   "outputs": [],
   "source": [
    "whole_genome = tools.get_locus_info(\"../SCERE.db\", sql_query)\n",
    "\n",
    "whole_genome = whole_genome.assign(FT_target = whole_genome.Primary_SGDID.isin(features_ID.Primary_SGDID))\n",
    "\n",
    "whole_genome_segments = plotly_segments.merge(whole_genome, on = \"Primary_SGDID\", how = \"left\", copy = False)\n",
    "whole_genome_segments.index = range(1, len(whole_genome_segments) + 1)\n",
    "\n",
    "whole_genome_segments = vis3D.get_color_discreet_3D(whole_genome_segments,\n",
    "                                                    \"FT_target\",\n",
    "                                                    [True], [\"mediumblue\"])"
   ]
  },
  {
   "cell_type": "code",
   "execution_count": null,
   "metadata": {},
   "outputs": [],
   "source": [
    "%%time\n",
    "\n",
    "fig = go.Figure(data=[go.Scatter3d(x = whole_genome_segments.x,\n",
    "                                   y = whole_genome_segments.y,\n",
    "                                   z = whole_genome_segments.z,\n",
    "                                   mode = \"lines\",\n",
    "                                   name = \"\",\n",
    "                                   line = {\"color\": whole_genome_segments[\"colors\"],\n",
    "                                           \"width\": 12},\n",
    "                                   customdata = whole_genome_segments.Primary_SGDID,\n",
    "                                   hovertemplate = (\"<b>SGDID :</b> %{customdata} <br>\"\n",
    "                                                    \"<b>x :</b> %{x} <br>\"),\n",
    "                                   hoverlabel = dict(bgcolor = \"white\", font_size = 16))])\n",
    "\n",
    "fig.update_layout(scene=dict(xaxis = dict(showgrid = False, backgroundcolor = \"white\"),\n",
    "                             yaxis = dict(showgrid = False, backgroundcolor = \"white\"),\n",
    "                             zaxis = dict(showgrid = False, backgroundcolor = \"white\")))\n",
    "\n",
    "\n",
    "fig.show()"
   ]
  },
  {
   "cell_type": "code",
   "execution_count": null,
   "metadata": {},
   "outputs": [],
   "source": [
    "edges_list"
   ]
  },
  {
   "cell_type": "markdown",
   "metadata": {},
   "source": [
    "## Network of genes of interest"
   ]
  },
  {
   "cell_type": "code",
   "execution_count": null,
   "metadata": {},
   "outputs": [],
   "source": [
    "edges_list_ts = edges_list[edges_list[\"3D_distance\"] < 20]\n",
    "edges_list_ts"
   ]
  },
  {
   "cell_type": "code",
   "execution_count": null,
   "metadata": {
    "scrolled": false
   },
   "outputs": [],
   "source": [
    "G = nx.from_pandas_edgelist(\n",
    "    edges_list_ts,\n",
    "    source=\"Primary_SGDID_bis\",\n",
    "    target=\"level_1\")\n",
    "\n",
    "g = ipycytoscape.CytoscapeWidget()\n",
    "g.graph.add_graph_from_networkx(G)\n",
    "display(g)"
   ]
  },
  {
   "cell_type": "code",
   "execution_count": null,
   "metadata": {
    "scrolled": true
   },
   "outputs": [],
   "source": [
    "print('nombre de noeuds :',G.number_of_nodes())\n",
    "#print(G.nodes(data = True))\n",
    "\n",
    "print('nombre de connexions :',G.number_of_edges(),'\\n')\n",
    "#print(G.edges(data = True))\n",
    "\n",
    "#Liste des degrés.\n",
    "#G.degree()\n",
    "\n",
    "#Liste des 'betweenness centrality'\n",
    "#pd.Series(nx.betweenness_centrality(G))"
   ]
  },
  {
   "cell_type": "code",
   "execution_count": null,
   "metadata": {},
   "outputs": [],
   "source": [
    "degrees = [val for (node, val) in G.degree()]\n",
    "\n",
    "fig = px.histogram(degrees, nbins= 50)\n",
    "fig.show()"
   ]
  },
  {
   "cell_type": "code",
   "execution_count": null,
   "metadata": {
    "scrolled": true
   },
   "outputs": [],
   "source": [
    "list(nx.enumerate_all_cliques(G))"
   ]
  },
  {
   "cell_type": "code",
   "execution_count": null,
   "metadata": {},
   "outputs": [],
   "source": [
    "sql_query = \\\n",
    "\"\"\"SELECT DISTINCT GO_slim_term\n",
    "FROM go_slim_mapping\n",
    "\"\"\"\n",
    "\n",
    "db_connexion = sqlite3.connect(\"../SCERE.db\")\n",
    "cursor = db_connexion.cursor()\n",
    "GO_terms = cursor.execute(sql_query)\n",
    "GO_terms = pd.DataFrame(GO_terms.fetchall(), columns=[\"GO_terms\"])\n",
    "GO_terms = GO_terms.sort_values(\"GO_terms\")\n",
    "\n",
    "GO_terms.to_csv(\"../data/GO_terms.csv\", sep = \",\", columns = [\"GO_terms\"], index = False)\n",
    "options = [{'label': GO, 'value': GO} for GO in GO_terms[\"GO_terms\"]]"
   ]
  },
  {
   "cell_type": "code",
   "execution_count": null,
   "metadata": {
    "scrolled": true
   },
   "outputs": [],
   "source": [
    "top_TF = pd.read_csv('../data/Yeast_TRN.csv', sep='\\t')\n",
    "top_TF[\"top\"] = top_TF[\"TF\"].isin(top_TF[\"TG\"])\n",
    "top_TF = top_TF[top_TF[\"top\"] == False]"
   ]
  },
  {
   "cell_type": "code",
   "execution_count": null,
   "metadata": {
    "scrolled": true
   },
   "outputs": [],
   "source": [
    "top_TF.to_csv(\"../data/top_TF.csv\", index = False, header = False)"
   ]
  },
  {
   "cell_type": "code",
   "execution_count": null,
   "metadata": {},
   "outputs": [],
   "source": [
    "top_TF"
   ]
  },
  {
   "cell_type": "code",
   "execution_count": null,
   "metadata": {},
   "outputs": [],
   "source": []
  }
 ],
 "metadata": {
  "kernelspec": {
   "display_name": "Python 3",
   "language": "python",
   "name": "python3"
  },
  "language_info": {
   "codemirror_mode": {
    "name": "ipython",
    "version": 3
   },
   "file_extension": ".py",
   "mimetype": "text/x-python",
   "name": "python",
   "nbconvert_exporter": "python",
   "pygments_lexer": "ipython3",
   "version": "3.8.8"
  }
 },
 "nbformat": 4,
 "nbformat_minor": 5
}
