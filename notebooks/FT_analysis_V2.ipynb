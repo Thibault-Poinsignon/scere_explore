{
 "cells": [
  {
   "cell_type": "code",
   "execution_count": 1,
   "metadata": {},
   "outputs": [],
   "source": [
    "import tools\n",
    "import visualization_2D as vis2D\n",
    "import visualization_3D as vis3D\n",
    "import pandas as pd\n",
    "import numpy as np\n",
    "import statsmodels.api as sm\n",
    "from statsmodels.graphics.gofplots import qqplot_2samples\n",
    "from scipy.stats import ks_2samp\n",
    "import matplotlib.pyplot as plt\n",
    "import random as rd\n",
    "import plotly.graph_objects as go\n",
    "import plotly.express as px\n",
    "from plotly.subplots import make_subplots\n",
    "import os\n",
    "from intermine.webservice import Service"
   ]
  },
  {
   "cell_type": "markdown",
   "metadata": {},
   "source": [
    "# I- TRN download"
   ]
  },
  {
   "cell_type": "code",
   "execution_count": 2,
   "metadata": {},
   "outputs": [
    {
     "data": {
      "text/plain": [
       "<BinaryConstraint: Gene.regulatoryRegions.strainBackground = S288c>"
      ]
     },
     "execution_count": 2,
     "metadata": {},
     "output_type": "execute_result"
    }
   ],
   "source": [
    "service = Service(\"https://yeastmine.yeastgenome.org/yeastmine/service\")\n",
    "\n",
    "# Get a new query on the class (table) you will be querying:\n",
    "query = service.new_query(\"Gene\")\n",
    "\n",
    "# Type constraints should come early - before all mentions of the paths they constrain\n",
    "query.add_constraint(\"regulatoryRegions\", \"TFBindingSite\")\n",
    "\n",
    "# The view specifies the output columns\n",
    "query.add_view(\n",
    "    \"regulatoryRegions.regulator.symbol\",\n",
    "    \"regulatoryRegions.regulator.secondaryIdentifier\", \"symbol\",\n",
    "    \"secondaryIdentifier\", \"regulatoryRegions.regEvidence.ontologyTerm.name\",\n",
    "    \"regulatoryRegions.regEvidence.ontologyTerm.identifier\",\n",
    "    \"regulatoryRegions.experimentCondition\",\n",
    "    \"regulatoryRegions.strainBackground\",\n",
    "    \"regulatoryRegions.regulationDirection\",\n",
    "    \"regulatoryRegions.publications.pubMedId\", \"regulatoryRegions.datasource\",\n",
    "    \"regulatoryRegions.annotationType\"\n",
    ")\n",
    "\n",
    "# Uncomment and edit the line below (the default) to select a custom sort order:\n",
    "# query.add_sort_order(\"Gene.regulatoryRegions.regulator.symbol\", \"ASC\")\n",
    "\n",
    "# You can edit the constraint values below\n",
    "query.add_constraint(\"regulatoryRegions.regulator\", \"IN\", \"Verified_ORFs\", code=\"A\")\n",
    "query.add_constraint(\"regulatoryRegions.strainBackground\", \"=\", \"S288c\", code=\"B\")\n",
    "#query.add_constraint(\"regulatoryRegions.experimentCondition\", \"==\", \"cellular response to heat\", code=\"C\")\n",
    "\n",
    "# Uncomment and edit the code below to specify your own custom logic:\n",
    "# query.set_logic(\"B and A and C and C\")"
   ]
  },
  {
   "cell_type": "code",
   "execution_count": 14,
   "metadata": {},
   "outputs": [],
   "source": [
    "TF = []\n",
    "TG = []\n",
    "\n",
    "for row in query.rows():\n",
    "    TF += row[\"regulatoryRegions.regulator.secondaryIdentifier\"]\n",
    "    TG += row[\"secondaryIdentifier\"]"
   ]
  },
  {
   "cell_type": "markdown",
   "metadata": {},
   "source": [
    "# II- Targets lists creation"
   ]
  },
  {
   "cell_type": "code",
   "execution_count": null,
   "metadata": {},
   "outputs": [],
   "source": [
    "list_TF = Yeast_TRN.TF.unique()\n",
    "#len(list_TF) = 186\n",
    "\n",
    "for TF in list_TF :\n",
    "    \n",
    "    TG = Yeast_TRN[Yeast_TRN.TF == TF]\n",
    "    TG = TG.drop([\"TF\", \"Distance\"], axis = 1)\n",
    "    TG.to_csv(\"../results/TF_target_TRN/\" + str(TF) + \"_\" + str(len(TG)) + \"_targets.csv\", \n",
    "              index = False, \n",
    "              columns = [\"TG\", \"Direction\"])"
   ]
  },
  {
   "cell_type": "markdown",
   "metadata": {},
   "source": [
    "# III- Histograms"
   ]
  },
  {
   "cell_type": "markdown",
   "metadata": {},
   "source": [
    "## 1) Targets repartition on the chromosomes function"
   ]
  },
  {
   "cell_type": "code",
   "execution_count": null,
   "metadata": {},
   "outputs": [],
   "source": [
    "def chrom_repartition_hist(genes_list):\n",
    "    \n",
    "    sql_query = \\\n",
    "\"\"\"SELECT Primary_SGDID, Feature_name, Start_coordinate, Stop_coordinate, Chromosome, Strand\n",
    "FROM SGD_features\n",
    "ORDER BY Start_coordinate\n",
    "\"\"\"\n",
    "    \n",
    "    loci = tools.get_locus_info(\"../SCERE.db\", sql_query)\n",
    "    loci = loci.assign(FT_target = loci.Feature_name.isin(genes_list))\n",
    "       \n",
    "    loci = loci[loci.FT_target == True].drop([\"FT_target\"], axis = 1)\n",
    "       \n",
    "    fig = px.histogram(loci, x=\"Chromosome\", nbins=30, range_x=[1, 17], color_discrete_sequence=['#A0E8AF'])\n",
    "    fig.update_layout(plot_bgcolor = \"white\",\n",
    "                      xaxis_showgrid = False,\n",
    "                      yaxis_showgrid = False, \n",
    "                      showlegend = True)\n",
    "       \n",
    "    return fig"
   ]
  },
  {
   "cell_type": "markdown",
   "metadata": {},
   "source": [
    "## 2) 3D distances between targets function"
   ]
  },
  {
   "cell_type": "code",
   "execution_count": null,
   "metadata": {},
   "outputs": [],
   "source": [
    "def distances_hist(genes_list):\n",
    "    \n",
    "    sql_query = \\\n",
    "\"\"\"SELECT Primary_SGDID, Chromosome, Feature_name, Strand, Stop_coordinate, Start_coordinate\n",
    "FROM SGD_features\n",
    "\"\"\"\n",
    "\n",
    "    Feature_name = tools.get_locus_info(\"../SCERE.db\", sql_query)\n",
    "    Feature_name = Feature_name.merge(genes_list, left_on = \"Feature_name\", right_on = genes_list.columns[0])\n",
    "    \n",
    "    adjacency_matrix_select = adjacency_matrix.loc[Feature_name.Primary_SGDID, Feature_name.Primary_SGDID]\n",
    "    adjacency_matrix_select.index.names = [\"Primary_SGDID_bis\"]\n",
    "    \n",
    "    edges_list = adjacency_matrix_select.stack().dropna().reset_index()\n",
    "    edges_list = edges_list.sort_values(by = \"Primary_SGDID_bis\")\n",
    "    edges_list.rename(columns = {0: \"3D_distances\"}, inplace = True)\n",
    "    edges_list = edges_list.sort_values(by = \"3D_distances\")\n",
    "    edges_list.index = range(1, len(edges_list) + 1)\n",
    "    \n",
    "    fig = px.histogram(edges_list, x=\"3D_distances\", range_x=[-10, 210], nbins= 70, color_discrete_sequence=['#A0E8AF'])\n",
    "    fig.update_layout(plot_bgcolor = \"white\", \n",
    "                      xaxis_showgrid = False, \n",
    "                      yaxis_showgrid = False, \n",
    "                      showlegend = True)\n",
    "    \n",
    "    return fig"
   ]
  },
  {
   "cell_type": "markdown",
   "metadata": {},
   "source": [
    "## 3) Results"
   ]
  },
  {
   "cell_type": "code",
   "execution_count": null,
   "metadata": {
    "scrolled": true
   },
   "outputs": [],
   "source": [
    "adjacency_matrix = pd.read_parquet(\"../dashboard/static/adjacency_matrix.parquet.gzip\", engine='pyarrow')\n",
    "files_names = os.listdir(\"../results/TF_target_TRN\")\n",
    "\n",
    "#removed mitochondrial targets genes :\n",
    "#Q0050, Q0080 and Q0120 from YIR018W_451_targets\n",
    "#Q0115 and Q0130 from YJL127C_1176_targets\n",
    "#Q0080 and Q0297 from 'YEL009C_303_targets.csv'\n",
    "\n",
    "\n",
    "for genes in files_names:\n",
    "    genes_list = pd.read_csv('../results/TF_target_TRN/' + genes, sep=',', header = [0])\n",
    "        \n",
    "    chrom_repartition = chrom_repartition_hist(genes_list.TG)\n",
    "    distances = distances_hist(genes_list)\n",
    "    \n",
    "    chrom_repartition.write_image(\"../results/chrom_repartition_hist/\" + genes +\".jpeg\")\n",
    "    distances.write_image(\"../results/3Ddistances_hist/\" + genes +\".jpeg\")"
   ]
  },
  {
   "cell_type": "markdown",
   "metadata": {},
   "source": [
    "# V- Random targets lists creation"
   ]
  },
  {
   "cell_type": "code",
   "execution_count": null,
   "metadata": {},
   "outputs": [],
   "source": [
    "list_all_TG = Yeast_TRN.TG.unique()\n",
    "list_all_TG = list(list_all_TG)\n",
    "for mito_gene in [\"Q0050\", \"Q0080\",\"Q0120\", \"Q0115\", \"Q0130\", \"Q0297\"] :\n",
    "    print(mito_gene)\n",
    "    list_all_TG.remove(mito_gene)\n",
    "\n",
    "list_TF = Yeast_TRN.TF.unique()\n",
    "\n",
    "for TF in list_TF :\n",
    "    \n",
    "    TG = Yeast_TRN[Yeast_TRN.TF == TF]\n",
    "    TG = TG.drop([\"TF\", \"Distance\"], axis = 1)\n",
    "    \n",
    "    random_TG = pd.DataFrame(data = {\"random_TG\": rd.choices(list_all_TG, k=len(TG))})\n",
    "    random_TG.to_csv(\"../results/TF_random_target_TRN/\" + str(TF) + \"_\" + str(len(TG)) + \"_random_targets.csv\", \n",
    "                     index = False, \n",
    "                     columns = [\"random_TG\"])\n"
   ]
  },
  {
   "cell_type": "code",
   "execution_count": null,
   "metadata": {
    "scrolled": true
   },
   "outputs": [],
   "source": [
    "adjacency_matrix = pd.read_parquet(\"../dashboard/static/adjacency_matrix.parquet.gzip\", engine='pyarrow')\n",
    "files_names = os.listdir(\"../results/TF_random_target_TRN\")\n",
    "\n",
    "for genes in files_names:\n",
    "    genes_list = pd.read_csv('../results/TF_random_target_TRN/' + genes, sep=',', header = [0])\n",
    "        \n",
    "    chrom_repartition = chrom_repartition_hist(genes_list.random_TG)\n",
    "    distances = distances_hist(genes_list)\n",
    "        \n",
    "    chrom_repartition.write_image(\"../results/random/\" + genes +\".jpeg\")\n",
    "    distances.write_image(\"../results/random/\" + genes +\".jpeg\")"
   ]
  },
  {
   "cell_type": "markdown",
   "metadata": {},
   "source": [
    "# V- QQ plots"
   ]
  },
  {
   "cell_type": "code",
   "execution_count": null,
   "metadata": {},
   "outputs": [],
   "source": [
    "def distances_QQplot(genes_list, random_genes_list, adjacency_matrix, genes):\n",
    "    \n",
    "    edges_list = get_edges_list(genes_list, adjacency_matrix)\n",
    "    x = np.array(edges_list[\"3D_distances\"])\n",
    "    \n",
    "    random_edges_list = get_edges_list(random_genes_list, adjacency_matrix)\n",
    "    y = np.array(random_edges_list[\"3D_distances\"])\n",
    "    \n",
    "    pp_x = sm.ProbPlot(x)\n",
    "    pp_y = sm.ProbPlot(y)\n",
    "    qqplot_2samples(pp_x, pp_y)\n",
    "    plt.xlabel('genes list 3D distances')\n",
    "    plt.ylabel('random list 3D distances')\n",
    "    \n",
    "    genes = genes[:-4]\n",
    "    plt.savefig(\"../results/QQplots/\" + genes + \".jpeg\")\n",
    "    plt.close()\n",
    "\n",
    "    return\n",
    "\n",
    "def get_edges_list(gene_list, adjacency_matrix):\n",
    "    \n",
    "    sql_query = \\\n",
    "\"\"\"SELECT Primary_SGDID, Chromosome, Feature_name, Strand, Stop_coordinate, Start_coordinate\n",
    "FROM SGD_features\n",
    "\"\"\"\n",
    "\n",
    "    Feature_name = tools.get_locus_info(\"../SCERE.db\", sql_query)\n",
    "    Feature_name = Feature_name.merge(genes_list, left_on = \"Feature_name\", right_on = genes_list.columns[0])\n",
    "    \n",
    "    adjacency_matrix_select = adjacency_matrix.loc[Feature_name.Primary_SGDID, Feature_name.Primary_SGDID]\n",
    "    adjacency_matrix_select.index.names = [\"Primary_SGDID_bis\"]\n",
    "    \n",
    "    edges_list = adjacency_matrix_select.stack().dropna().reset_index()\n",
    "    edges_list = edges_list.sort_values(by = \"Primary_SGDID_bis\")\n",
    "    edges_list.rename(columns = {0: \"3D_distances\"}, inplace = True)\n",
    "    edges_list = edges_list.sort_values(by = \"3D_distances\")\n",
    "    edges_list.index = range(1, len(edges_list) + 1)\n",
    "    \n",
    "    return edges_list"
   ]
  },
  {
   "cell_type": "code",
   "execution_count": null,
   "metadata": {
    "scrolled": true
   },
   "outputs": [],
   "source": [
    "adjacency_matrix = pd.read_parquet(\"../dashboard/static/adjacency_matrix.parquet.gzip\", engine='pyarrow')\n",
    "files_names = os.listdir(\"../results/TF_target_TRN\")\n",
    "files_names_random = os.listdir(\"../results/TF_random_target_TRN\")\n",
    "\n",
    "\n",
    "for genes,random_genes in zip(files_names, files_names_random):\n",
    "    random_genes_list = pd.read_csv('../results/TF_random_target_TRN/' + random_genes, sep=',', header = [0])\n",
    "    genes_list = pd.read_csv('../results/TF_target_TRN/' + genes, sep=',', header = [0])\n",
    "    \n",
    "    distances_QQplot(genes_list, random_genes_list, adjacency_matrix, genes)"
   ]
  },
  {
   "cell_type": "markdown",
   "metadata": {},
   "source": [
    "# VI- Distributions comparaison, Kolmogorov-Smirnov test"
   ]
  },
  {
   "cell_type": "code",
   "execution_count": null,
   "metadata": {},
   "outputs": [],
   "source": [
    "def ks_2samples(sample, random_sample, name):\n",
    "    \n",
    "    sample_chrom_repartition = chrom_repartition(sample.TG)\n",
    "    random_chrom_repartition = chrom_repartition(random_sample.random_TG)\n",
    "    \n",
    "    ks_result = ks_2samp(sample_chrom_repartition, random_chrom_repartition)\n",
    "    \n",
    "    if ks_result.pvalue < 0.05:\n",
    "        print(name)\n",
    "        print(ks_result)\n",
    "    \n",
    "    return\n",
    "\n",
    "\n",
    "\n",
    "def chrom_repartition(genes_list):\n",
    "    \n",
    "    sql_query = \\\n",
    "\"\"\"SELECT Primary_SGDID, Feature_name, Start_coordinate, Stop_coordinate, Chromosome, Strand\n",
    "FROM SGD_features\n",
    "ORDER BY Start_coordinate\n",
    "\"\"\"\n",
    "    \n",
    "    loci = tools.get_locus_info(\"../SCERE.db\", sql_query)\n",
    "    loci = loci.assign(FT_target = loci.Feature_name.isin(genes_list))\n",
    "       \n",
    "    loci = loci[loci.FT_target == True].drop([\"FT_target\"], axis = 1)\n",
    "       \n",
    "    return loci.Chromosome"
   ]
  },
  {
   "cell_type": "code",
   "execution_count": null,
   "metadata": {
    "scrolled": false
   },
   "outputs": [],
   "source": [
    "files_names = os.listdir(\"../results/TF_target_TRN\")\n",
    "files_names_random = os.listdir(\"../results/TF_random_target_TRN\")\n",
    "\n",
    "\n",
    "for genes, random_genes in zip(files_names, files_names_random):\n",
    "    random_genes_list = pd.read_csv('../results/TF_random_target_TRN/' + random_genes, sep=',', header = [0])\n",
    "    genes_list = pd.read_csv('../results/TF_target_TRN/' + genes, sep=',', header = [0])\n",
    "    \n",
    "    ks_2samples(genes_list, random_genes_list, genes)"
   ]
  }
 ],
 "metadata": {
  "kernelspec": {
   "display_name": "Python 3",
   "language": "python",
   "name": "python3"
  },
  "language_info": {
   "codemirror_mode": {
    "name": "ipython",
    "version": 3
   },
   "file_extension": ".py",
   "mimetype": "text/x-python",
   "name": "python",
   "nbconvert_exporter": "python",
   "pygments_lexer": "ipython3",
   "version": "3.8.8"
  }
 },
 "nbformat": 4,
 "nbformat_minor": 4
}
