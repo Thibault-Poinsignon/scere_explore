{
 "cells": [
  {
   "cell_type": "markdown",
   "metadata": {},
   "source": [
    "## Module import"
   ]
  },
  {
   "cell_type": "code",
   "execution_count": 1,
   "metadata": {},
   "outputs": [],
   "source": [
    "import sqlite3\n",
    "import pandas as pd\n",
    "import matplotlib\n",
    "import matplotlib.pyplot as plt\n",
    "import numpy as np\n",
    "import plotly\n",
    "import plotly.graph_objects as go\n",
    "import ipywidgets as widgets"
   ]
  },
  {
   "cell_type": "markdown",
   "metadata": {},
   "source": [
    "## Module version"
   ]
  },
  {
   "cell_type": "code",
   "execution_count": 2,
   "metadata": {},
   "outputs": [
    {
     "name": "stdout",
     "output_type": "stream",
     "text": [
      "plotly version: 4.14.3\n",
      "matplotlib version: 3.3.2\n",
      "sqlite3 version: 2.6.0\n",
      "pandas version: 1.2.1\n",
      "numpy version: 1.19.2\n",
      "ipywidgets version: 7.5.1\n"
     ]
    }
   ],
   "source": [
    "print(\"plotly version:\", plotly.__version__)\n",
    "print(\"matplotlib version:\", matplotlib.__version__)\n",
    "print(\"sqlite3 version:\", sqlite3.version)\n",
    "print(\"pandas version:\", pd.__version__)\n",
    "print(\"numpy version:\", np.__version__)\n",
    "print(\"ipywidgets version:\", widgets.__version__)"
   ]
  },
  {
   "cell_type": "markdown",
   "metadata": {},
   "source": [
    "# Chromosome visualisation"
   ]
  },
  {
   "cell_type": "markdown",
   "metadata": {},
   "source": [
    "## Functions"
   ]
  },
  {
   "cell_type": "code",
   "execution_count": 3,
   "metadata": {
    "scrolled": false
   },
   "outputs": [],
   "source": [
    "#Chromosome data recuperation\n",
    "\n",
    "def stringToList(string):\n",
    "    return list(string.split(\", \"))\n",
    "\n",
    "def getChromInfo(database, chrom_number, info):\n",
    "    #SQL request\n",
    "    db_connexion = sqlite3.connect(database)\n",
    "    \n",
    "    cursor = db_connexion.cursor()\n",
    "    \n",
    "    chrom_sense = cursor.execute(\"\"\"\n",
    "    SELECT \"\"\"+ info +\"\"\"\n",
    "    FROM SGD_features \n",
    "    WHERE Chromosome == \"\"\"+ chrom_number +\"\"\" AND Strand == 'W'\n",
    "    ORDER BY Start_coordinate\n",
    "    \"\"\")\n",
    "    \n",
    "    cursor = db_connexion.cursor()\n",
    "\n",
    "    chrom_antisense = cursor.execute(\"\"\"\n",
    "    SELECT \"\"\"+ info +\"\"\"\n",
    "    FROM SGD_features \n",
    "    WHERE Chromosome == \"\"\"+ chrom_number +\"\"\" AND Strand == 'C'\n",
    "    ORDER BY Stop_coordinate\n",
    "    \"\"\")\n",
    "    \n",
    "    List_info = stringToList(info)\n",
    "    \n",
    "    #Pandas dataframe formatting\n",
    "    chrom_sense = chrom_sense.fetchall()\n",
    "    chrom_sense = pd.DataFrame(chrom_sense, columns=List_info)\n",
    "    \n",
    "    chrom_antisense = chrom_antisense.fetchall()\n",
    "    chrom_antisense = pd.DataFrame(chrom_antisense, columns=List_info)\n",
    "    \n",
    "    return chrom_sense, chrom_antisense"
   ]
  },
  {
   "cell_type": "code",
   "execution_count": 4,
   "metadata": {},
   "outputs": [],
   "source": [
    "#Chromosomes drawing\n",
    "\n",
    "def AddChromosome(fig, x1, x2, y1, y2, color, number):\n",
    "    \n",
    "    chromosome = go.Scatter(\n",
    "        x = [x1,x2,x2,x1,x1], \n",
    "        y = [y1,y1,y2,y2,y1],\n",
    "        hoverinfo = 'none',\n",
    "        marker_symbol = \"diamond-tall\",\n",
    "        marker_size = 0.1,\n",
    "        showlegend = False,\n",
    "        line_color = color,\n",
    "        line_width = 0.1,\n",
    "        fillcolor = color,\n",
    "        fill = \"toself\")\n",
    "    fig.add_trace(chromosome)\n",
    "    \n",
    "    chromosome_legend = go.Scatter(\n",
    "        x = [x1+17000, x2+10000, x2+13000],\n",
    "        y = [y1+10, (y2/4), 3*(y2/4)],\n",
    "        text = [\"Chromosome \" + number, \"Sense\", \"Antisense\"],\n",
    "        mode = \"text\",\n",
    "        showlegend = False,\n",
    "        hoverinfo = 'none')\n",
    "    fig.add_trace(chromosome_legend)"
   ]
  },
  {
   "cell_type": "code",
   "execution_count": 5,
   "metadata": {
    "scrolled": false
   },
   "outputs": [],
   "source": [
    "#Locus drawing\n",
    "\n",
    "def AddLocus(chrom, fig, y1, y2, parameter, value, color):\n",
    "    for p,v,c in zip(parameter,value,color) :\n",
    "        if chrom[p] == v :\n",
    "            locus = go.Scatter(\n",
    "                x = [chrom['Start_coordinate'],\n",
    "                     chrom['Start_coordinate'],\n",
    "                     chrom['Stop_coordinate'],\n",
    "                     chrom['Stop_coordinate'],\n",
    "                     chrom['Start_coordinate']], \n",
    "                y = [y1,y2,y2,y1,y1],\n",
    "                name = chrom['Primary_SGDID'],\n",
    "                hoveron = 'fills',\n",
    "                hovertemplate = \"<b>ID:%{name}</b>\",\n",
    "                marker_symbol = \"diamond-tall\",\n",
    "                marker_size = 0.1,\n",
    "                legendgroup = v,\n",
    "                showlegend = False,\n",
    "                line_color = c,\n",
    "                line_width = 0.1,\n",
    "                fillcolor = c,\n",
    "                fill = \"toself\")\n",
    "            fig.add_trace(locus)"
   ]
  },
  {
   "cell_type": "code",
   "execution_count": 6,
   "metadata": {},
   "outputs": [],
   "source": [
    "#Legend drawing\n",
    "\n",
    "def AddLegend(fig, value, color):\n",
    "    for v,c in zip(value,color) :\n",
    "        legend = go.Scatter(\n",
    "            name = v,\n",
    "            x = [0], \n",
    "            y = [0],\n",
    "            marker_size = 0.01,\n",
    "            line_color = c,\n",
    "            line_width = 0.1,\n",
    "            fillcolor = c,\n",
    "            fill = \"toself\",\n",
    "            hoverinfo = 'none')\n",
    "        fig.add_trace(legend)"
   ]
  },
  {
   "cell_type": "markdown",
   "metadata": {},
   "source": [
    "## Chromosome 1 exemple"
   ]
  },
  {
   "cell_type": "code",
   "execution_count": 8,
   "metadata": {
    "scrolled": false
   },
   "outputs": [
    {
     "data": {
      "application/vnd.plotly.v1+json": {
       "config": {
        "plotlyServerURL": "https://plot.ly"
       },
       "data": [
        {
         "fill": "toself",
         "fillcolor": "lightgrey",
         "hoverinfo": "none",
         "line": {
          "color": "lightgrey",
          "width": 0.1
         },
         "marker": {
          "size": 0.1,
          "symbol": "diamond-tall"
         },
         "showlegend": false,
         "type": "scatter",
         "x": [
          0,
          230218,
          230218,
          0,
          0
         ],
         "y": [
          0,
          0,
          -20,
          -20,
          0
         ]
        },
        {
         "hoverinfo": "none",
         "mode": "text",
         "showlegend": false,
         "text": [
          "Chromosome 1",
          "Sense",
          "Antisense"
         ],
         "type": "scatter",
         "x": [
          17000,
          240218,
          243218
         ],
         "y": [
          10,
          -5,
          -15
         ]
        },
        {
         "fill": "toself",
         "fillcolor": "#B8AC77",
         "hoveron": "fills",
         "hovertemplate": "<b>ID:%{name}</b>",
         "legendgroup": "CDS",
         "line": {
          "color": "#B8AC77",
          "width": 0.1
         },
         "marker": {
          "size": 0.1,
          "symbol": "diamond-tall"
         },
         "name": "S000031098",
         "showlegend": false,
         "type": "scatter",
         "x": [
          335,
          335,
          649,
          649,
          335
         ],
         "y": [
          0,
          -10,
          -10,
          0,
          0
         ]
        },
        {
         "fill": "toself",
         "fillcolor": "#B8AC77",
         "hoveron": "fills",
         "hovertemplate": "<b>ID:%{name}</b>",
         "legendgroup": "CDS",
         "line": {
          "color": "#B8AC77",
          "width": 0.1
         },
         "marker": {
          "size": 0.1,
          "symbol": "diamond-tall"
         },
         "name": "S000031372",
         "showlegend": false,
         "type": "scatter",
         "x": [
          538,
          538,
          792,
          792,
          538
         ],
         "y": [
          0,
          -10,
          -10,
          0,
          0
         ]
        },
        {
         "fill": "toself",
         "fillcolor": "#B8AC77",
         "hoveron": "fills",
         "hovertemplate": "<b>ID:%{name}</b>",
         "legendgroup": "CDS",
         "line": {
          "color": "#B8AC77",
          "width": 0.1
         },
         "marker": {
          "size": 0.1,
          "symbol": "diamond-tall"
         },
         "name": "S000031368",
         "showlegend": false,
         "type": "scatter",
         "x": [
          2480,
          2480,
          2707,
          2707,
          2480
         ],
         "y": [
          0,
          -10,
          -10,
          0,
          0
         ]
        },
        {
         "fill": "toself",
         "fillcolor": "#B8AC77",
         "hoveron": "fills",
         "hovertemplate": "<b>ID:%{name}</b>",
         "legendgroup": "CDS",
         "line": {
          "color": "#B8AC77",
          "width": 0.1
         },
         "marker": {
          "size": 0.1,
          "symbol": "diamond-tall"
         },
         "name": "S000029887",
         "showlegend": false,
         "type": "scatter",
         "x": [
          10091,
          10091,
          10399,
          10399,
          10091
         ],
         "y": [
          0,
          -10,
          -10,
          0,
          0
         ]
        },
        {
         "fill": "toself",
         "fillcolor": "#B8AC77",
         "hoveron": "fills",
         "hovertemplate": "<b>ID:%{name}</b>",
         "legendgroup": "CDS",
         "line": {
          "color": "#B8AC77",
          "width": 0.1
         },
         "marker": {
          "size": 0.1,
          "symbol": "diamond-tall"
         },
         "name": "S000034793",
         "showlegend": false,
         "type": "scatter",
         "x": [
          12046,
          12046,
          12426,
          12426,
          12046
         ],
         "y": [
          0,
          -10,
          -10,
          0,
          0
         ]
        },
        {
         "fill": "toself",
         "fillcolor": "#B8AC77",
         "hoveron": "fills",
         "hovertemplate": "<b>ID:%{name}</b>",
         "legendgroup": "CDS",
         "line": {
          "color": "#B8AC77",
          "width": 0.1
         },
         "marker": {
          "size": 0.1,
          "symbol": "diamond-tall"
         },
         "name": "S000037087",
         "showlegend": false,
         "type": "scatter",
         "x": [
          21566,
          21566,
          21850,
          21850,
          21566
         ],
         "y": [
          0,
          -10,
          -10,
          0,
          0
         ]
        },
        {
         "fill": "toself",
         "fillcolor": "#B8AC77",
         "hoveron": "fills",
         "hovertemplate": "<b>ID:%{name}</b>",
         "legendgroup": "CDS",
         "line": {
          "color": "#B8AC77",
          "width": 0.1
         },
         "marker": {
          "size": 0.1,
          "symbol": "diamond-tall"
         },
         "name": "S000036963",
         "showlegend": false,
         "type": "scatter",
         "x": [
          31567,
          31567,
          32940,
          32940,
          31567
         ],
         "y": [
          0,
          -10,
          -10,
          0,
          0
         ]
        },
        {
         "fill": "toself",
         "fillcolor": "#B8AC77",
         "hoveron": "fills",
         "hovertemplate": "<b>ID:%{name}</b>",
         "legendgroup": "CDS",
         "line": {
          "color": "#B8AC77",
          "width": 0.1
         },
         "marker": {
          "size": 0.1,
          "symbol": "diamond-tall"
         },
         "name": "S000036902",
         "showlegend": false,
         "type": "scatter",
         "x": [
          33448,
          33448,
          34701,
          34701,
          33448
         ],
         "y": [
          0,
          -10,
          -10,
          0,
          0
         ]
        },
        {
         "fill": "toself",
         "fillcolor": "#B8AC77",
         "hoveron": "fills",
         "hovertemplate": "<b>ID:%{name}</b>",
         "legendgroup": "CDS",
         "line": {
          "color": "#B8AC77",
          "width": 0.1
         },
         "marker": {
          "size": 0.1,
          "symbol": "diamond-tall"
         },
         "name": "S000036089",
         "showlegend": false,
         "type": "scatter",
         "x": [
          35155,
          35155,
          36303,
          36303,
          35155
         ],
         "y": [
          0,
          -10,
          -10,
          0,
          0
         ]
        },
        {
         "fill": "toself",
         "fillcolor": "#B8AC77",
         "hoveron": "fills",
         "hovertemplate": "<b>ID:%{name}</b>",
         "legendgroup": "CDS",
         "line": {
          "color": "#B8AC77",
          "width": 0.1
         },
         "marker": {
          "size": 0.1,
          "symbol": "diamond-tall"
         },
         "name": "S000035122",
         "showlegend": false,
         "type": "scatter",
         "x": [
          36509,
          36509,
          37147,
          37147,
          36509
         ],
         "y": [
          0,
          -10,
          -10,
          0,
          0
         ]
        },
        {
         "fill": "toself",
         "fillcolor": "#B8AC77",
         "hoveron": "fills",
         "hovertemplate": "<b>ID:%{name}</b>",
         "legendgroup": "CDS",
         "line": {
          "color": "#B8AC77",
          "width": 0.1
         },
         "marker": {
          "size": 0.1,
          "symbol": "diamond-tall"
         },
         "name": "S000034933",
         "showlegend": false,
         "type": "scatter",
         "x": [
          37464,
          37464,
          38972,
          38972,
          37464
         ],
         "y": [
          0,
          -10,
          -10,
          0,
          0
         ]
        },
        {
         "fill": "toself",
         "fillcolor": "#B8AC77",
         "hoveron": "fills",
         "hovertemplate": "<b>ID:%{name}</b>",
         "legendgroup": "CDS",
         "line": {
          "color": "#B8AC77",
          "width": 0.1
         },
         "marker": {
          "size": 0.1,
          "symbol": "diamond-tall"
         },
         "name": "S000033885",
         "showlegend": false,
         "type": "scatter",
         "x": [
          39259,
          39259,
          41901,
          41901,
          39259
         ],
         "y": [
          0,
          -10,
          -10,
          0,
          0
         ]
        },
        {
         "fill": "toself",
         "fillcolor": "#B8AC77",
         "hoveron": "fills",
         "hovertemplate": "<b>ID:%{name}</b>",
         "legendgroup": "CDS",
         "line": {
          "color": "#B8AC77",
          "width": 0.1
         },
         "marker": {
          "size": 0.1,
          "symbol": "diamond-tall"
         },
         "name": "S000033812",
         "showlegend": false,
         "type": "scatter",
         "x": [
          42177,
          42177,
          42719,
          42719,
          42177
         ],
         "y": [
          0,
          -10,
          -10,
          0,
          0
         ]
        },
        {
         "fill": "toself",
         "fillcolor": "#B8AC77",
         "hoveron": "fills",
         "hovertemplate": "<b>ID:%{name}</b>",
         "legendgroup": "CDS",
         "line": {
          "color": "#B8AC77",
          "width": 0.1
         },
         "marker": {
          "size": 0.1,
          "symbol": "diamond-tall"
         },
         "name": "S000033037",
         "showlegend": false,
         "type": "scatter",
         "x": [
          45899,
          45899,
          48250,
          48250,
          45899
         ],
         "y": [
          0,
          -10,
          -10,
          0,
          0
         ]
        },
        {
         "fill": "toself",
         "fillcolor": "#B8AC77",
         "hoveron": "fills",
         "hovertemplate": "<b>ID:%{name}</b>",
         "legendgroup": "CDS",
         "line": {
          "color": "#B8AC77",
          "width": 0.1
         },
         "marker": {
          "size": 0.1,
          "symbol": "diamond-tall"
         },
         "name": "S000032862",
         "showlegend": false,
         "type": "scatter",
         "x": [
          48564,
          48564,
          51707,
          51707,
          48564
         ],
         "y": [
          0,
          -10,
          -10,
          0,
          0
         ]
        },
        {
         "fill": "toself",
         "fillcolor": "#B8AC77",
         "hoveron": "fills",
         "hovertemplate": "<b>ID:%{name}</b>",
         "legendgroup": "CDS",
         "line": {
          "color": "#B8AC77",
          "width": 0.1
         },
         "marker": {
          "size": 0.1,
          "symbol": "diamond-tall"
         },
         "name": "S000033377",
         "showlegend": false,
         "type": "scatter",
         "x": [
          54584,
          54584,
          54913,
          54913,
          54584
         ],
         "y": [
          0,
          -10,
          -10,
          0,
          0
         ]
        },
        {
         "fill": "toself",
         "fillcolor": "#B8AC77",
         "hoveron": "fills",
         "hovertemplate": "<b>ID:%{name}</b>",
         "legendgroup": "CDS",
         "line": {
          "color": "#B8AC77",
          "width": 0.1
         },
         "marker": {
          "size": 0.1,
          "symbol": "diamond-tall"
         },
         "name": "S000037097",
         "showlegend": false,
         "type": "scatter",
         "x": [
          57518,
          57518,
          57850,
          57850,
          57518
         ],
         "y": [
          0,
          -10,
          -10,
          0,
          0
         ]
        },
        {
         "fill": "toself",
         "fillcolor": "#B8AC77",
         "hoveron": "fills",
         "hovertemplate": "<b>ID:%{name}</b>",
         "legendgroup": "CDS",
         "line": {
          "color": "#B8AC77",
          "width": 0.1
         },
         "marker": {
          "size": 0.1,
          "symbol": "diamond-tall"
         },
         "name": "S000037669",
         "showlegend": false,
         "type": "scatter",
         "x": [
          61316,
          61316,
          62563,
          62563,
          61316
         ],
         "y": [
          0,
          -10,
          -10,
          0,
          0
         ]
        },
        {
         "fill": "toself",
         "fillcolor": "#B8AC77",
         "hoveron": "fills",
         "hovertemplate": "<b>ID:%{name}</b>",
         "legendgroup": "CDS",
         "line": {
          "color": "#B8AC77",
          "width": 0.1
         },
         "marker": {
          "size": 0.1,
          "symbol": "diamond-tall"
         },
         "name": "S000037599",
         "showlegend": false,
         "type": "scatter",
         "x": [
          62840,
          62840,
          65404,
          65404,
          62840
         ],
         "y": [
          0,
          -10,
          -10,
          0,
          0
         ]
        },
        {
         "fill": "toself",
         "fillcolor": "#B8AC77",
         "hoveron": "fills",
         "hovertemplate": "<b>ID:%{name}</b>",
         "legendgroup": "CDS",
         "line": {
          "color": "#B8AC77",
          "width": 0.1
         },
         "marker": {
          "size": 0.1,
          "symbol": "diamond-tall"
         },
         "name": "S000035915",
         "showlegend": false,
         "type": "scatter",
         "x": [
          71786,
          71786,
          73288,
          73288,
          71786
         ],
         "y": [
          0,
          -10,
          -10,
          0,
          0
         ]
        },
        {
         "fill": "toself",
         "fillcolor": "#B8AC77",
         "hoveron": "fills",
         "hovertemplate": "<b>ID:%{name}</b>",
         "legendgroup": "CDS",
         "line": {
          "color": "#B8AC77",
          "width": 0.1
         },
         "marker": {
          "size": 0.1,
          "symbol": "diamond-tall"
         },
         "name": "S000035798",
         "showlegend": false,
         "type": "scatter",
         "x": [
          74020,
          74020,
          74823,
          74823,
          74020
         ],
         "y": [
          0,
          -10,
          -10,
          0,
          0
         ]
        },
        {
         "fill": "toself",
         "fillcolor": "#B8AC77",
         "hoveron": "fills",
         "hovertemplate": "<b>ID:%{name}</b>",
         "legendgroup": "CDS",
         "line": {
          "color": "#B8AC77",
          "width": 0.1
         },
         "marker": {
          "size": 0.1,
          "symbol": "diamond-tall"
         },
         "name": "S000034678",
         "showlegend": false,
         "type": "scatter",
         "x": [
          76427,
          76427,
          79435,
          79435,
          76427
         ],
         "y": [
          0,
          -10,
          -10,
          0,
          0
         ]
        },
        {
         "fill": "toself",
         "fillcolor": "#B8AC77",
         "hoveron": "fills",
         "hovertemplate": "<b>ID:%{name}</b>",
         "legendgroup": "CDS",
         "line": {
          "color": "#B8AC77",
          "width": 0.1
         },
         "marker": {
          "size": 0.1,
          "symbol": "diamond-tall"
         },
         "name": "S000031836",
         "showlegend": false,
         "type": "scatter",
         "x": [
          79718,
          79718,
          80587,
          80587,
          79718
         ],
         "y": [
          0,
          -10,
          -10,
          0,
          0
         ]
        },
        {
         "fill": "toself",
         "fillcolor": "#B8AC77",
         "hoveron": "fills",
         "hovertemplate": "<b>ID:%{name}</b>",
         "legendgroup": "CDS",
         "line": {
          "color": "#B8AC77",
          "width": 0.1
         },
         "marker": {
          "size": 0.1,
          "symbol": "diamond-tall"
         },
         "name": "S000034465",
         "showlegend": false,
         "type": "scatter",
         "x": [
          82706,
          82706,
          83227,
          83227,
          82706
         ],
         "y": [
          0,
          -10,
          -10,
          0,
          0
         ]
        },
        {
         "fill": "toself",
         "fillcolor": "#B8AC77",
         "hoveron": "fills",
         "hovertemplate": "<b>ID:%{name}</b>",
         "legendgroup": "CDS",
         "line": {
          "color": "#B8AC77",
          "width": 0.1
         },
         "marker": {
          "size": 0.1,
          "symbol": "diamond-tall"
         },
         "name": "S000033375",
         "showlegend": false,
         "type": "scatter",
         "x": [
          84669,
          84669,
          84977,
          84977,
          84669
         ],
         "y": [
          0,
          -10,
          -10,
          0,
          0
         ]
        },
        {
         "fill": "toself",
         "fillcolor": "#B8AC77",
         "hoveron": "fills",
         "hovertemplate": "<b>ID:%{name}</b>",
         "legendgroup": "CDS",
         "line": {
          "color": "#B8AC77",
          "width": 0.1
         },
         "marker": {
          "size": 0.1,
          "symbol": "diamond-tall"
         },
         "name": "S000033437",
         "showlegend": false,
         "type": "scatter",
         "x": [
          87286,
          87286,
          87387,
          87387,
          87286
         ],
         "y": [
          0,
          -10,
          -10,
          0,
          0
         ]
        },
        {
         "fill": "toself",
         "fillcolor": "#B8AC77",
         "hoveron": "fills",
         "hovertemplate": "<b>ID:%{name}</b>",
         "legendgroup": "CDS",
         "line": {
          "color": "#B8AC77",
          "width": 0.1
         },
         "marker": {
          "size": 0.1,
          "symbol": "diamond-tall"
         },
         "name": "S000033438",
         "showlegend": false,
         "type": "scatter",
         "x": [
          87501,
          87501,
          87752,
          87752,
          87501
         ],
         "y": [
          0,
          -10,
          -10,
          0,
          0
         ]
        },
        {
         "fill": "toself",
         "fillcolor": "#B8AC77",
         "hoveron": "fills",
         "hovertemplate": "<b>ID:%{name}</b>",
         "legendgroup": "CDS",
         "line": {
          "color": "#B8AC77",
          "width": 0.1
         },
         "marker": {
          "size": 0.1,
          "symbol": "diamond-tall"
         },
         "name": "S000033747",
         "showlegend": false,
         "type": "scatter",
         "x": [
          92900,
          92900,
          94486,
          94486,
          92900
         ],
         "y": [
          0,
          -10,
          -10,
          0,
          0
         ]
        },
        {
         "fill": "toself",
         "fillcolor": "#B8AC77",
         "hoveron": "fills",
         "hovertemplate": "<b>ID:%{name}</b>",
         "legendgroup": "CDS",
         "line": {
          "color": "#B8AC77",
          "width": 0.1
         },
         "marker": {
          "size": 0.1,
          "symbol": "diamond-tall"
         },
         "name": "S000033629",
         "showlegend": false,
         "type": "scatter",
         "x": [
          94687,
          94687,
          95472,
          95472,
          94687
         ],
         "y": [
          0,
          -10,
          -10,
          0,
          0
         ]
        },
        {
         "fill": "toself",
         "fillcolor": "#B8AC77",
         "hoveron": "fills",
         "hovertemplate": "<b>ID:%{name}</b>",
         "legendgroup": "CDS",
         "line": {
          "color": "#B8AC77",
          "width": 0.1
         },
         "marker": {
          "size": 0.1,
          "symbol": "diamond-tall"
         },
         "name": "S000032720",
         "showlegend": false,
         "type": "scatter",
         "x": [
          114250,
          114250,
          114819,
          114819,
          114250
         ],
         "y": [
          0,
          -10,
          -10,
          0,
          0
         ]
        },
        {
         "fill": "toself",
         "fillcolor": "#B8AC77",
         "hoveron": "fills",
         "hovertemplate": "<b>ID:%{name}</b>",
         "legendgroup": "CDS",
         "line": {
          "color": "#B8AC77",
          "width": 0.1
         },
         "marker": {
          "size": 0.1,
          "symbol": "diamond-tall"
         },
         "name": "S000037555",
         "showlegend": false,
         "type": "scatter",
         "x": [
          114919,
          114919,
          118314,
          118314,
          114919
         ],
         "y": [
          0,
          -10,
          -10,
          0,
          0
         ]
        },
        {
         "fill": "toself",
         "fillcolor": "#B8AC77",
         "hoveron": "fills",
         "hovertemplate": "<b>ID:%{name}</b>",
         "legendgroup": "CDS",
         "line": {
          "color": "#B8AC77",
          "width": 0.1
         },
         "marker": {
          "size": 0.1,
          "symbol": "diamond-tall"
         },
         "name": "S000031992",
         "showlegend": false,
         "type": "scatter",
         "x": [
          120225,
          120225,
          124295,
          124295,
          120225
         ],
         "y": [
          0,
          -10,
          -10,
          0,
          0
         ]
        },
        {
         "fill": "toself",
         "fillcolor": "#B8AC77",
         "hoveron": "fills",
         "hovertemplate": "<b>ID:%{name}</b>",
         "legendgroup": "CDS",
         "line": {
          "color": "#B8AC77",
          "width": 0.1
         },
         "marker": {
          "size": 0.1,
          "symbol": "diamond-tall"
         },
         "name": "S000031874",
         "showlegend": false,
         "type": "scatter",
         "x": [
          124879,
          124879,
          126786,
          126786,
          124879
         ],
         "y": [
          0,
          -10,
          -10,
          0,
          0
         ]
        },
        {
         "fill": "toself",
         "fillcolor": "#B8AC77",
         "hoveron": "fills",
         "hovertemplate": "<b>ID:%{name}</b>",
         "legendgroup": "CDS",
         "line": {
          "color": "#B8AC77",
          "width": 0.1
         },
         "marker": {
          "size": 0.1,
          "symbol": "diamond-tall"
         },
         "name": "S000036100",
         "showlegend": false,
         "type": "scatter",
         "x": [
          129270,
          129270,
          130487,
          130487,
          129270
         ],
         "y": [
          0,
          -10,
          -10,
          0,
          0
         ]
        },
        {
         "fill": "toself",
         "fillcolor": "#B8AC77",
         "hoveron": "fills",
         "hovertemplate": "<b>ID:%{name}</b>",
         "legendgroup": "CDS",
         "line": {
          "color": "#B8AC77",
          "width": 0.1
         },
         "marker": {
          "size": 0.1,
          "symbol": "diamond-tall"
         },
         "name": "S000035250",
         "showlegend": false,
         "type": "scatter",
         "x": [
          130799,
          130799,
          131983,
          131983,
          130799
         ],
         "y": [
          0,
          -10,
          -10,
          0,
          0
         ]
        },
        {
         "fill": "toself",
         "fillcolor": "#B8AC77",
         "hoveron": "fills",
         "hovertemplate": "<b>ID:%{name}</b>",
         "legendgroup": "CDS",
         "line": {
          "color": "#B8AC77",
          "width": 0.1
         },
         "marker": {
          "size": 0.1,
          "symbol": "diamond-tall"
         },
         "name": "S000035116",
         "showlegend": false,
         "type": "scatter",
         "x": [
          132199,
          132199,
          134076,
          134076,
          132199
         ],
         "y": [
          0,
          -10,
          -10,
          0,
          0
         ]
        },
        {
         "fill": "toself",
         "fillcolor": "#B8AC77",
         "hoveron": "fills",
         "hovertemplate": "<b>ID:%{name}</b>",
         "legendgroup": "CDS",
         "line": {
          "color": "#B8AC77",
          "width": 0.1
         },
         "marker": {
          "size": 0.1,
          "symbol": "diamond-tall"
         },
         "name": "S000034070",
         "showlegend": false,
         "type": "scatter",
         "x": [
          135854,
          135854,
          136633,
          136633,
          135854
         ],
         "y": [
          0,
          -10,
          -10,
          0,
          0
         ]
        },
        {
         "fill": "toself",
         "fillcolor": "#B8AC77",
         "hoveron": "fills",
         "hovertemplate": "<b>ID:%{name}</b>",
         "legendgroup": "CDS",
         "line": {
          "color": "#B8AC77",
          "width": 0.1
         },
         "marker": {
          "size": 0.1,
          "symbol": "diamond-tall"
         },
         "name": "S000033957",
         "showlegend": false,
         "type": "scatter",
         "x": [
          136914,
          136914,
          137510,
          137510,
          136914
         ],
         "y": [
          0,
          -10,
          -10,
          0,
          0
         ]
        },
        {
         "fill": "toself",
         "fillcolor": "#B8AC77",
         "hoveron": "fills",
         "hovertemplate": "<b>ID:%{name}</b>",
         "legendgroup": "CDS",
         "line": {
          "color": "#B8AC77",
          "width": 0.1
         },
         "marker": {
          "size": 0.1,
          "symbol": "diamond-tall"
         },
         "name": "S000032057",
         "showlegend": false,
         "type": "scatter",
         "x": [
          140760,
          140760,
          141407,
          141407,
          140760
         ],
         "y": [
          0,
          -10,
          -10,
          0,
          0
         ]
        },
        {
         "fill": "toself",
         "fillcolor": "#B8AC77",
         "hoveron": "fills",
         "hovertemplate": "<b>ID:%{name}</b>",
         "legendgroup": "CDS",
         "line": {
          "color": "#B8AC77",
          "width": 0.1
         },
         "marker": {
          "size": 0.1,
          "symbol": "diamond-tall"
         },
         "name": "S000031941",
         "showlegend": false,
         "type": "scatter",
         "x": [
          142174,
          142174,
          142253,
          142253,
          142174
         ],
         "y": [
          0,
          -10,
          -10,
          0,
          0
         ]
        },
        {
         "fill": "toself",
         "fillcolor": "#B8AC77",
         "hoveron": "fills",
         "hovertemplate": "<b>ID:%{name}</b>",
         "legendgroup": "CDS",
         "line": {
          "color": "#B8AC77",
          "width": 0.1
         },
         "marker": {
          "size": 0.1,
          "symbol": "diamond-tall"
         },
         "name": "S000031942",
         "showlegend": false,
         "type": "scatter",
         "x": [
          142620,
          142620,
          143160,
          143160,
          142620
         ],
         "y": [
          0,
          -10,
          -10,
          0,
          0
         ]
        },
        {
         "fill": "toself",
         "fillcolor": "#B8AC77",
         "hoveron": "fills",
         "hovertemplate": "<b>ID:%{name}</b>",
         "legendgroup": "CDS",
         "line": {
          "color": "#B8AC77",
          "width": 0.1
         },
         "marker": {
          "size": 0.1,
          "symbol": "diamond-tall"
         },
         "name": "S000031737",
         "showlegend": false,
         "type": "scatter",
         "x": [
          143707,
          143707,
          147531,
          147531,
          143707
         ],
         "y": [
          0,
          -10,
          -10,
          0,
          0
         ]
        },
        {
         "fill": "toself",
         "fillcolor": "black",
         "hoveron": "fills",
         "hovertemplate": "<b>ID:%{name}</b>",
         "legendgroup": "centromere",
         "line": {
          "color": "black",
          "width": 0.1
         },
         "marker": {
          "size": 0.1,
          "symbol": "diamond-tall"
         },
         "name": "S000006463",
         "showlegend": false,
         "type": "scatter",
         "x": [
          151465,
          151465,
          151582,
          151582,
          151465
         ],
         "y": [
          0,
          -10,
          -10,
          0,
          0
         ]
        },
        {
         "fill": "toself",
         "fillcolor": "#B8AC77",
         "hoveron": "fills",
         "hovertemplate": "<b>ID:%{name}</b>",
         "legendgroup": "CDS",
         "line": {
          "color": "#B8AC77",
          "width": 0.1
         },
         "marker": {
          "size": 0.1,
          "symbol": "diamond-tall"
         },
         "name": "S000035473",
         "showlegend": false,
         "type": "scatter",
         "x": [
          152257,
          152257,
          153876,
          153876,
          152257
         ],
         "y": [
          0,
          -10,
          -10,
          0,
          0
         ]
        },
        {
         "fill": "toself",
         "fillcolor": "#B8AC77",
         "hoveron": "fills",
         "hovertemplate": "<b>ID:%{name}</b>",
         "legendgroup": "CDS",
         "line": {
          "color": "#B8AC77",
          "width": 0.1
         },
         "marker": {
          "size": 0.1,
          "symbol": "diamond-tall"
         },
         "name": "S000035547",
         "showlegend": false,
         "type": "scatter",
         "x": [
          155005,
          155005,
          156285,
          156285,
          155005
         ],
         "y": [
          0,
          -10,
          -10,
          0,
          0
         ]
        },
        {
         "fill": "toself",
         "fillcolor": "#B8AC77",
         "hoveron": "fills",
         "hovertemplate": "<b>ID:%{name}</b>",
         "legendgroup": "CDS",
         "line": {
          "color": "#B8AC77",
          "width": 0.1
         },
         "marker": {
          "size": 0.1,
          "symbol": "diamond-tall"
         },
         "name": "S000037450",
         "showlegend": false,
         "type": "scatter",
         "x": [
          158966,
          158966,
          159793,
          159793,
          158966
         ],
         "y": [
          0,
          -10,
          -10,
          0,
          0
         ]
        },
        {
         "fill": "toself",
         "fillcolor": "#B8AC77",
         "hoveron": "fills",
         "hovertemplate": "<b>ID:%{name}</b>",
         "legendgroup": "CDS",
         "line": {
          "color": "#B8AC77",
          "width": 0.1
         },
         "marker": {
          "size": 0.1,
          "symbol": "diamond-tall"
         },
         "name": "S000031548",
         "showlegend": false,
         "type": "scatter",
         "x": [
          169375,
          169375,
          170295,
          170295,
          169375
         ],
         "y": [
          0,
          -10,
          -10,
          0,
          0
         ]
        },
        {
         "fill": "toself",
         "fillcolor": "#B8AC77",
         "hoveron": "fills",
         "hovertemplate": "<b>ID:%{name}</b>",
         "legendgroup": "CDS",
         "line": {
          "color": "#B8AC77",
          "width": 0.1
         },
         "marker": {
          "size": 0.1,
          "symbol": "diamond-tall"
         },
         "name": "S000033379",
         "showlegend": false,
         "type": "scatter",
         "x": [
          174998,
          174998,
          175330,
          175330,
          174998
         ],
         "y": [
          0,
          -10,
          -10,
          0,
          0
         ]
        },
        {
         "fill": "toself",
         "fillcolor": "#B8AC77",
         "hoveron": "fills",
         "hovertemplate": "<b>ID:%{name}</b>",
         "legendgroup": "CDS",
         "line": {
          "color": "#B8AC77",
          "width": 0.1
         },
         "marker": {
          "size": 0.1,
          "symbol": "diamond-tall"
         },
         "name": "S000036855",
         "showlegend": false,
         "type": "scatter",
         "x": [
          183770,
          183770,
          184477,
          184477,
          183770
         ],
         "y": [
          0,
          -10,
          -10,
          0,
          0
         ]
        },
        {
         "fill": "toself",
         "fillcolor": "#B8AC77",
         "hoveron": "fills",
         "hovertemplate": "<b>ID:%{name}</b>",
         "legendgroup": "CDS",
         "line": {
          "color": "#B8AC77",
          "width": 0.1
         },
         "marker": {
          "size": 0.1,
          "symbol": "diamond-tall"
         },
         "name": "S000036899",
         "showlegend": false,
         "type": "scatter",
         "x": [
          184892,
          184892,
          185596,
          185596,
          184892
         ],
         "y": [
          0,
          -10,
          -10,
          0,
          0
         ]
        },
        {
         "fill": "toself",
         "fillcolor": "#B8AC77",
         "hoveron": "fills",
         "hovertemplate": "<b>ID:%{name}</b>",
         "legendgroup": "CDS",
         "line": {
          "color": "#B8AC77",
          "width": 0.1
         },
         "marker": {
          "size": 0.1,
          "symbol": "diamond-tall"
         },
         "name": "S000036967",
         "showlegend": false,
         "type": "scatter",
         "x": [
          186321,
          186321,
          186545,
          186545,
          186321
         ],
         "y": [
          0,
          -10,
          -10,
          0,
          0
         ]
        },
        {
         "fill": "toself",
         "fillcolor": "#B8AC77",
         "hoveron": "fills",
         "hovertemplate": "<b>ID:%{name}</b>",
         "legendgroup": "CDS",
         "line": {
          "color": "#B8AC77",
          "width": 0.1
         },
         "marker": {
          "size": 0.1,
          "symbol": "diamond-tall"
         },
         "name": "S000030609",
         "showlegend": false,
         "type": "scatter",
         "x": [
          186836,
          186836,
          187732,
          187732,
          186836
         ],
         "y": [
          0,
          -10,
          -10,
          0,
          0
         ]
        },
        {
         "fill": "toself",
         "fillcolor": "#B8AC77",
         "hoveron": "fills",
         "hovertemplate": "<b>ID:%{name}</b>",
         "legendgroup": "CDS",
         "line": {
          "color": "#B8AC77",
          "width": 0.1
         },
         "marker": {
          "size": 0.1,
          "symbol": "diamond-tall"
         },
         "name": "S000030819",
         "showlegend": false,
         "type": "scatter",
         "x": [
          188107,
          188107,
          188811,
          188811,
          188107
         ],
         "y": [
          0,
          -10,
          -10,
          0,
          0
         ]
        },
        {
         "fill": "toself",
         "fillcolor": "#B8AC77",
         "hoveron": "fills",
         "hovertemplate": "<b>ID:%{name}</b>",
         "legendgroup": "CDS",
         "line": {
          "color": "#B8AC77",
          "width": 0.1
         },
         "marker": {
          "size": 0.1,
          "symbol": "diamond-tall"
         },
         "name": "S000031976",
         "showlegend": false,
         "type": "scatter",
         "x": [
          190193,
          190193,
          192256,
          192256,
          190193
         ],
         "y": [
          0,
          -10,
          -10,
          0,
          0
         ]
        },
        {
         "fill": "toself",
         "fillcolor": "#B8AC77",
         "hoveron": "fills",
         "hovertemplate": "<b>ID:%{name}</b>",
         "legendgroup": "CDS",
         "line": {
          "color": "#B8AC77",
          "width": 0.1
         },
         "marker": {
          "size": 0.1,
          "symbol": "diamond-tall"
         },
         "name": "S000035065",
         "showlegend": false,
         "type": "scatter",
         "x": [
          192619,
          192619,
          196185,
          196185,
          192619
         ],
         "y": [
          0,
          -10,
          -10,
          0,
          0
         ]
        },
        {
         "fill": "toself",
         "fillcolor": "#B8AC77",
         "hoveron": "fills",
         "hovertemplate": "<b>ID:%{name}</b>",
         "legendgroup": "CDS",
         "line": {
          "color": "#B8AC77",
          "width": 0.1
         },
         "marker": {
          "size": 0.1,
          "symbol": "diamond-tall"
         },
         "name": "S000036444",
         "showlegend": false,
         "type": "scatter",
         "x": [
          203403,
          203403,
          208016,
          208016,
          203403
         ],
         "y": [
          0,
          -10,
          -10,
          0,
          0
         ]
        },
        {
         "fill": "toself",
         "fillcolor": "#B8AC77",
         "hoveron": "fills",
         "hovertemplate": "<b>ID:%{name}</b>",
         "legendgroup": "CDS",
         "line": {
          "color": "#B8AC77",
          "width": 0.1
         },
         "marker": {
          "size": 0.1,
          "symbol": "diamond-tall"
         },
         "name": "S000037285",
         "showlegend": false,
         "type": "scatter",
         "x": [
          208367,
          208367,
          208663,
          208663,
          208367
         ],
         "y": [
          0,
          -10,
          -10,
          0,
          0
         ]
        },
        {
         "fill": "toself",
         "fillcolor": "#B8AC77",
         "hoveron": "fills",
         "hovertemplate": "<b>ID:%{name}</b>",
         "legendgroup": "CDS",
         "line": {
          "color": "#B8AC77",
          "width": 0.1
         },
         "marker": {
          "size": 0.1,
          "symbol": "diamond-tall"
         },
         "name": "S000033393",
         "showlegend": false,
         "type": "scatter",
         "x": [
          218140,
          218140,
          219145,
          219145,
          218140
         ],
         "y": [
          0,
          -10,
          -10,
          0,
          0
         ]
        },
        {
         "fill": "toself",
         "fillcolor": "#B8AC77",
         "hoveron": "fills",
         "hovertemplate": "<b>ID:%{name}</b>",
         "legendgroup": "CDS",
         "line": {
          "color": "#B8AC77",
          "width": 0.1
         },
         "marker": {
          "size": 0.1,
          "symbol": "diamond-tall"
         },
         "name": "S000033577",
         "showlegend": false,
         "type": "scatter",
         "x": [
          220198,
          220198,
          220497,
          220497,
          220198
         ],
         "y": [
          0,
          -10,
          -10,
          0,
          0
         ]
        },
        {
         "fill": "toself",
         "fillcolor": "#B8AC77",
         "hoveron": "fills",
         "hovertemplate": "<b>ID:%{name}</b>",
         "legendgroup": "CDS",
         "line": {
          "color": "#B8AC77",
          "width": 0.1
         },
         "marker": {
          "size": 0.1,
          "symbol": "diamond-tall"
         },
         "name": "S000034603",
         "showlegend": false,
         "type": "scatter",
         "x": [
          221049,
          221049,
          221660,
          221660,
          221049
         ],
         "y": [
          0,
          -10,
          -10,
          0,
          0
         ]
        },
        {
         "fill": "toself",
         "fillcolor": "#B8AC77",
         "hoveron": "fills",
         "hovertemplate": "<b>ID:%{name}</b>",
         "legendgroup": "CDS",
         "line": {
          "color": "#B8AC77",
          "width": 0.1
         },
         "marker": {
          "size": 0.1,
          "symbol": "diamond-tall"
         },
         "name": "S000035691",
         "showlegend": false,
         "type": "scatter",
         "x": [
          222406,
          222406,
          222891,
          222891,
          222406
         ],
         "y": [
          0,
          -10,
          -10,
          0,
          0
         ]
        },
        {
         "fill": "toself",
         "fillcolor": "#B8AC77",
         "hoveron": "fills",
         "hovertemplate": "<b>ID:%{name}</b>",
         "legendgroup": "CDS",
         "line": {
          "color": "#B8AC77",
          "width": 0.1
         },
         "marker": {
          "size": 0.1,
          "symbol": "diamond-tall"
         },
         "name": "S000036824",
         "showlegend": false,
         "type": "scatter",
         "x": [
          225460,
          225460,
          226863,
          226863,
          225460
         ],
         "y": [
          0,
          -10,
          -10,
          0,
          0
         ]
        },
        {
         "fill": "toself",
         "fillcolor": "#B8AC77",
         "hoveron": "fills",
         "hovertemplate": "<b>ID:%{name}</b>",
         "legendgroup": "CDS",
         "line": {
          "color": "#B8AC77",
          "width": 0.1
         },
         "marker": {
          "size": 0.1,
          "symbol": "diamond-tall"
         },
         "name": "S000037618",
         "showlegend": false,
         "type": "scatter",
         "x": [
          227742,
          227742,
          228953,
          228953,
          227742
         ],
         "y": [
          0,
          -10,
          -10,
          0,
          0
         ]
        },
        {
         "fill": "toself",
         "fillcolor": "#B8AC77",
         "hoveron": "fills",
         "hovertemplate": "<b>ID:%{name}</b>",
         "legendgroup": "CDS",
         "line": {
          "color": "#B8AC77",
          "width": 0.1
         },
         "marker": {
          "size": 0.1,
          "symbol": "diamond-tall"
         },
         "name": "S000037740",
         "showlegend": false,
         "type": "scatter",
         "x": [
          228844,
          228844,
          229317,
          229317,
          228844
         ],
         "y": [
          0,
          -10,
          -10,
          0,
          0
         ]
        },
        {
         "fill": "toself",
         "fillcolor": "black",
         "hoveron": "fills",
         "hovertemplate": "<b>ID:%{name}</b>",
         "legendgroup": "telomere",
         "line": {
          "color": "black",
          "width": 0.1
         },
         "marker": {
          "size": 0.1,
          "symbol": "diamond-tall"
         },
         "name": "S000028937",
         "showlegend": false,
         "type": "scatter",
         "x": [
          229411,
          229411,
          230218,
          230218,
          229411
         ],
         "y": [
          0,
          -10,
          -10,
          0,
          0
         ]
        },
        {
         "fill": "toself",
         "fillcolor": "black",
         "hoveron": "fills",
         "hovertemplate": "<b>ID:%{name}</b>",
         "legendgroup": "telomere",
         "line": {
          "color": "black",
          "width": 0.1
         },
         "marker": {
          "size": 0.1,
          "symbol": "diamond-tall"
         },
         "name": "S000028862",
         "showlegend": false,
         "type": "scatter",
         "x": [
          801,
          801,
          1,
          1,
          801
         ],
         "y": [
          -11,
          -20,
          -20,
          -11,
          -11
         ]
        },
        {
         "fill": "toself",
         "fillcolor": "#B8AC77",
         "hoveron": "fills",
         "hovertemplate": "<b>ID:%{name}</b>",
         "legendgroup": "CDS",
         "line": {
          "color": "#B8AC77",
          "width": 0.1
         },
         "marker": {
          "size": 0.1,
          "symbol": "diamond-tall"
         },
         "name": "S000030944",
         "showlegend": false,
         "type": "scatter",
         "x": [
          2169,
          2169,
          1807,
          1807,
          2169
         ],
         "y": [
          -11,
          -20,
          -20,
          -11,
          -11
         ]
        },
        {
         "fill": "toself",
         "fillcolor": "#B8AC77",
         "hoveron": "fills",
         "hovertemplate": "<b>ID:%{name}</b>",
         "legendgroup": "CDS",
         "line": {
          "color": "#B8AC77",
          "width": 0.1
         },
         "marker": {
          "size": 0.1,
          "symbol": "diamond-tall"
         },
         "name": "S000029932",
         "showlegend": false,
         "type": "scatter",
         "x": [
          9016,
          9016,
          7235,
          7235,
          9016
         ],
         "y": [
          -11,
          -20,
          -20,
          -11,
          -11
         ]
        },
        {
         "fill": "toself",
         "fillcolor": "#B8AC77",
         "hoveron": "fills",
         "hovertemplate": "<b>ID:%{name}</b>",
         "legendgroup": "CDS",
         "line": {
          "color": "#B8AC77",
          "width": 0.1
         },
         "marker": {
          "size": 0.1,
          "symbol": "diamond-tall"
         },
         "name": "S000037154",
         "showlegend": false,
         "type": "scatter",
         "x": [
          11951,
          11951,
          11565,
          11565,
          11951
         ],
         "y": [
          -11,
          -20,
          -20,
          -11,
          -11
         ]
        },
        {
         "fill": "toself",
         "fillcolor": "#B8AC77",
         "hoveron": "fills",
         "hovertemplate": "<b>ID:%{name}</b>",
         "legendgroup": "CDS",
         "line": {
          "color": "#B8AC77",
          "width": 0.1
         },
         "marker": {
          "size": 0.1,
          "symbol": "diamond-tall"
         },
         "name": "S000031541",
         "showlegend": false,
         "type": "scatter",
         "x": [
          13743,
          13743,
          13363,
          13363,
          13743
         ],
         "y": [
          -11,
          -20,
          -20,
          -11,
          -11
         ]
        },
        {
         "fill": "toself",
         "fillcolor": "#B8AC77",
         "hoveron": "fills",
         "hovertemplate": "<b>ID:%{name}</b>",
         "legendgroup": "CDS",
         "line": {
          "color": "#B8AC77",
          "width": 0.1
         },
         "marker": {
          "size": 0.1,
          "symbol": "diamond-tall"
         },
         "name": "S000033613",
         "showlegend": false,
         "type": "scatter",
         "x": [
          22685,
          22685,
          22395,
          22395,
          22685
         ],
         "y": [
          -11,
          -20,
          -20,
          -11,
          -11
         ]
        },
        {
         "fill": "toself",
         "fillcolor": "#B8AC77",
         "hoveron": "fills",
         "hovertemplate": "<b>ID:%{name}</b>",
         "legendgroup": "CDS",
         "line": {
          "color": "#B8AC77",
          "width": 0.1
         },
         "marker": {
          "size": 0.1,
          "symbol": "diamond-tall"
         },
         "name": "S000036982",
         "showlegend": false,
         "type": "scatter",
         "x": [
          27968,
          27968,
          24000,
          24000,
          27968
         ],
         "y": [
          -11,
          -20,
          -20,
          -11,
          -11
         ]
        },
        {
         "fill": "toself",
         "fillcolor": "#B8AC77",
         "hoveron": "fills",
         "hovertemplate": "<b>ID:%{name}</b>",
         "legendgroup": "CDS",
         "line": {
          "color": "#B8AC77",
          "width": 0.1
         },
         "marker": {
          "size": 0.1,
          "symbol": "diamond-tall"
         },
         "name": "S000033378",
         "showlegend": false,
         "type": "scatter",
         "x": [
          36918,
          36918,
          36496,
          36496,
          36918
         ],
         "y": [
          -11,
          -20,
          -20,
          -11,
          -11
         ]
        },
        {
         "fill": "toself",
         "fillcolor": "#B8AC77",
         "hoveron": "fills",
         "hovertemplate": "<b>ID:%{name}</b>",
         "legendgroup": "CDS",
         "line": {
          "color": "#B8AC77",
          "width": 0.1
         },
         "marker": {
          "size": 0.1,
          "symbol": "diamond-tall"
         },
         "name": "S000035879",
         "showlegend": false,
         "type": "scatter",
         "x": [
          39046,
          39046,
          38696,
          38696,
          39046
         ],
         "y": [
          -11,
          -20,
          -20,
          -11,
          -11
         ]
        },
        {
         "fill": "toself",
         "fillcolor": "#B8AC77",
         "hoveron": "fills",
         "hovertemplate": "<b>ID:%{name}</b>",
         "legendgroup": "CDS",
         "line": {
          "color": "#B8AC77",
          "width": 0.1
         },
         "marker": {
          "size": 0.1,
          "symbol": "diamond-tall"
         },
         "name": "S000033073",
         "showlegend": false,
         "type": "scatter",
         "x": [
          45022,
          45022,
          42881,
          42881,
          45022
         ],
         "y": [
          -11,
          -20,
          -20,
          -11,
          -11
         ]
        },
        {
         "fill": "toself",
         "fillcolor": "#B8AC77",
         "hoveron": "fills",
         "hovertemplate": "<b>ID:%{name}</b>",
         "legendgroup": "CDS",
         "line": {
          "color": "#B8AC77",
          "width": 0.1
         },
         "marker": {
          "size": 0.1,
          "symbol": "diamond-tall"
         },
         "name": "S000031896",
         "showlegend": false,
         "type": "scatter",
         "x": [
          52595,
          52595,
          51855,
          51855,
          52595
         ],
         "y": [
          -11,
          -20,
          -20,
          -11,
          -11
         ]
        },
        {
         "fill": "toself",
         "fillcolor": "#B8AC77",
         "hoveron": "fills",
         "hovertemplate": "<b>ID:%{name}</b>",
         "legendgroup": "CDS",
         "line": {
          "color": "#B8AC77",
          "width": 0.1
         },
         "marker": {
          "size": 0.1,
          "symbol": "diamond-tall"
         },
         "name": "S000030895",
         "showlegend": false,
         "type": "scatter",
         "x": [
          54789,
          54789,
          52801,
          52801,
          54789
         ],
         "y": [
          -11,
          -20,
          -20,
          -11,
          -11
         ]
        },
        {
         "fill": "toself",
         "fillcolor": "#B8AC77",
         "hoveron": "fills",
         "hovertemplate": "<b>ID:%{name}</b>",
         "legendgroup": "CDS",
         "line": {
          "color": "#B8AC77",
          "width": 0.1
         },
         "marker": {
          "size": 0.1,
          "symbol": "diamond-tall"
         },
         "name": "S000030803",
         "showlegend": false,
         "type": "scatter",
         "x": [
          56857,
          56857,
          54989,
          54989,
          56857
         ],
         "y": [
          -11,
          -20,
          -20,
          -11,
          -11
         ]
        },
        {
         "fill": "toself",
         "fillcolor": "#B8AC77",
         "hoveron": "fills",
         "hovertemplate": "<b>ID:%{name}</b>",
         "legendgroup": "CDS",
         "line": {
          "color": "#B8AC77",
          "width": 0.1
         },
         "marker": {
          "size": 0.1,
          "symbol": "diamond-tall"
         },
         "name": "S000030666",
         "showlegend": false,
         "type": "scatter",
         "x": [
          57385,
          57385,
          57029,
          57029,
          57385
         ],
         "y": [
          -11,
          -20,
          -20,
          -11,
          -11
         ]
        },
        {
         "fill": "toself",
         "fillcolor": "#B8AC77",
         "hoveron": "fills",
         "hovertemplate": "<b>ID:%{name}</b>",
         "legendgroup": "CDS",
         "line": {
          "color": "#B8AC77",
          "width": 0.1
         },
         "marker": {
          "size": 0.1,
          "symbol": "diamond-tall"
         },
         "name": "S000030576",
         "showlegend": false,
         "type": "scatter",
         "x": [
          57796,
          57796,
          57488,
          57488,
          57796
         ],
         "y": [
          -11,
          -20,
          -20,
          -11,
          -11
         ]
        },
        {
         "fill": "toself",
         "fillcolor": "#B8AC77",
         "hoveron": "fills",
         "hovertemplate": "<b>ID:%{name}</b>",
         "legendgroup": "CDS",
         "line": {
          "color": "#B8AC77",
          "width": 0.1
         },
         "marker": {
          "size": 0.1,
          "symbol": "diamond-tall"
         },
         "name": "S000037751",
         "showlegend": false,
         "type": "scatter",
         "x": [
          58462,
          58462,
          57950,
          57950,
          58462
         ],
         "y": [
          -11,
          -20,
          -20,
          -11,
          -11
         ]
        },
        {
         "fill": "toself",
         "fillcolor": "#B8AC77",
         "hoveron": "fills",
         "hovertemplate": "<b>ID:%{name}</b>",
         "legendgroup": "CDS",
         "line": {
          "color": "#B8AC77",
          "width": 0.1
         },
         "marker": {
          "size": 0.1,
          "symbol": "diamond-tall"
         },
         "name": "S000037691",
         "showlegend": false,
         "type": "scatter",
         "x": [
          61052,
          61052,
          58695,
          58695,
          61052
         ],
         "y": [
          -11,
          -20,
          -20,
          -11,
          -11
         ]
        },
        {
         "fill": "toself",
         "fillcolor": "#B8AC77",
         "hoveron": "fills",
         "hovertemplate": "<b>ID:%{name}</b>",
         "legendgroup": "CDS",
         "line": {
          "color": "#B8AC77",
          "width": 0.1
         },
         "marker": {
          "size": 0.1,
          "symbol": "diamond-tall"
         },
         "name": "S000030422",
         "showlegend": false,
         "type": "scatter",
         "x": [
          61608,
          61608,
          61231,
          61231,
          61608
         ],
         "y": [
          -11,
          -20,
          -20,
          -11,
          -11
         ]
        },
        {
         "fill": "toself",
         "fillcolor": "#B8AC77",
         "hoveron": "fills",
         "hovertemplate": "<b>ID:%{name}</b>",
         "legendgroup": "CDS",
         "line": {
          "color": "#B8AC77",
          "width": 0.1
         },
         "marker": {
          "size": 0.1,
          "symbol": "diamond-tall"
         },
         "name": "S000036825",
         "showlegend": false,
         "type": "scatter",
         "x": [
          67520,
          67520,
          65778,
          65778,
          67520
         ],
         "y": [
          -11,
          -20,
          -20,
          -11,
          -11
         ]
        },
        {
         "fill": "toself",
         "fillcolor": "#B8AC77",
         "hoveron": "fills",
         "hovertemplate": "<b>ID:%{name}</b>",
         "legendgroup": "CDS",
         "line": {
          "color": "#B8AC77",
          "width": 0.1
         },
         "marker": {
          "size": 0.1,
          "symbol": "diamond-tall"
         },
         "name": "S000035956",
         "showlegend": false,
         "type": "scatter",
         "x": [
          69525,
          69525,
          68716,
          68716,
          69525
         ],
         "y": [
          -11,
          -20,
          -20,
          -11,
          -11
         ]
        },
        {
         "fill": "toself",
         "fillcolor": "#B8AC77",
         "hoveron": "fills",
         "hovertemplate": "<b>ID:%{name}</b>",
         "legendgroup": "CDS",
         "line": {
          "color": "#B8AC77",
          "width": 0.1
         },
         "marker": {
          "size": 0.1,
          "symbol": "diamond-tall"
         },
         "name": "S000031366",
         "showlegend": false,
         "type": "scatter",
         "x": [
          73300,
          73300,
          72326,
          72326,
          73300
         ],
         "y": [
          -11,
          -20,
          -20,
          -11,
          -11
         ]
        },
        {
         "fill": "toself",
         "fillcolor": "#B8AC77",
         "hoveron": "fills",
         "hovertemplate": "<b>ID:%{name}</b>",
         "legendgroup": "CDS",
         "line": {
          "color": "#B8AC77",
          "width": 0.1
         },
         "marker": {
          "size": 0.1,
          "symbol": "diamond-tall"
         },
         "name": "S000033376",
         "showlegend": false,
         "type": "scatter",
         "x": [
          73518,
          73518,
          73426,
          73426,
          73518
         ],
         "y": [
          -11,
          -20,
          -20,
          -11,
          -11
         ]
        },
        {
         "fill": "toself",
         "fillcolor": "#B8AC77",
         "hoveron": "fills",
         "hovertemplate": "<b>ID:%{name}</b>",
         "legendgroup": "CDS",
         "line": {
          "color": "#B8AC77",
          "width": 0.1
         },
         "marker": {
          "size": 0.1,
          "symbol": "diamond-tall"
         },
         "name": "S000034719",
         "showlegend": false,
         "type": "scatter",
         "x": [
          76152,
          76152,
          75043,
          75043,
          76152
         ],
         "y": [
          -11,
          -20,
          -20,
          -11,
          -11
         ]
        },
        {
         "fill": "toself",
         "fillcolor": "#B8AC77",
         "hoveron": "fills",
         "hovertemplate": "<b>ID:%{name}</b>",
         "legendgroup": "CDS",
         "line": {
          "color": "#B8AC77",
          "width": 0.1
         },
         "marker": {
          "size": 0.1,
          "symbol": "diamond-tall"
         },
         "name": "S000031374",
         "showlegend": false,
         "type": "scatter",
         "x": [
          79842,
          79842,
          79489,
          79489,
          79842
         ],
         "y": [
          -11,
          -20,
          -20,
          -11,
          -11
         ]
        },
        {
         "fill": "toself",
         "fillcolor": "#B8AC77",
         "hoveron": "fills",
         "hovertemplate": "<b>ID:%{name}</b>",
         "legendgroup": "CDS",
         "line": {
          "color": "#B8AC77",
          "width": 0.1
         },
         "marker": {
          "size": 0.1,
          "symbol": "diamond-tall"
         },
         "name": "S000034508",
         "showlegend": false,
         "type": "scatter",
         "x": [
          81951,
          81951,
          80710,
          80710,
          81951
         ],
         "y": [
          -11,
          -20,
          -20,
          -11,
          -11
         ]
        },
        {
         "fill": "toself",
         "fillcolor": "#B8AC77",
         "hoveron": "fills",
         "hovertemplate": "<b>ID:%{name}</b>",
         "legendgroup": "CDS",
         "line": {
          "color": "#B8AC77",
          "width": 0.1
         },
         "marker": {
          "size": 0.1,
          "symbol": "diamond-tall"
         },
         "name": "S000033541",
         "showlegend": false,
         "type": "scatter",
         "x": [
          84474,
          84474,
          83335,
          83335,
          84474
         ],
         "y": [
          -11,
          -20,
          -20,
          -11,
          -11
         ]
        },
        {
         "fill": "toself",
         "fillcolor": "#B8AC77",
         "hoveron": "fills",
         "hovertemplate": "<b>ID:%{name}</b>",
         "legendgroup": "CDS",
         "line": {
          "color": "#B8AC77",
          "width": 0.1
         },
         "marker": {
          "size": 0.1,
          "symbol": "diamond-tall"
         },
         "name": "S000033476",
         "showlegend": false,
         "type": "scatter",
         "x": [
          87031,
          87031,
          84749,
          84749,
          87031
         ],
         "y": [
          -11,
          -20,
          -20,
          -11,
          -11
         ]
        },
        {
         "fill": "toself",
         "fillcolor": "#B8AC77",
         "hoveron": "fills",
         "hovertemplate": "<b>ID:%{name}</b>",
         "legendgroup": "CDS",
         "line": {
          "color": "#B8AC77",
          "width": 0.1
         },
         "marker": {
          "size": 0.1,
          "symbol": "diamond-tall"
         },
         "name": "S000033821",
         "showlegend": false,
         "type": "scatter",
         "x": [
          92270,
          92270,
          87855,
          87855,
          92270
         ],
         "y": [
          -11,
          -20,
          -20,
          -11,
          -11
         ]
        },
        {
         "fill": "toself",
         "fillcolor": "#B8AC77",
         "hoveron": "fills",
         "hovertemplate": "<b>ID:%{name}</b>",
         "legendgroup": "CDS",
         "line": {
          "color": "#B8AC77",
          "width": 0.1
         },
         "marker": {
          "size": 0.1,
          "symbol": "diamond-tall"
         },
         "name": "S000033374",
         "showlegend": false,
         "type": "scatter",
         "x": [
          95823,
          95823,
          95386,
          95386,
          95823
         ],
         "y": [
          -11,
          -20,
          -20,
          -11,
          -11
         ]
        },
        {
         "fill": "toself",
         "fillcolor": "#B8AC77",
         "hoveron": "fills",
         "hovertemplate": "<b>ID:%{name}</b>",
         "legendgroup": "CDS",
         "line": {
          "color": "#B8AC77",
          "width": 0.1
         },
         "marker": {
          "size": 0.1,
          "symbol": "diamond-tall"
         },
         "name": "S000030197",
         "showlegend": false,
         "type": "scatter",
         "x": [
          99697,
          99697,
          95630,
          95630,
          99697
         ],
         "y": [
          -11,
          -20,
          -20,
          -11,
          -11
         ]
        },
        {
         "fill": "toself",
         "fillcolor": "#B8AC77",
         "hoveron": "fills",
         "hovertemplate": "<b>ID:%{name}</b>",
         "legendgroup": "CDS",
         "line": {
          "color": "#B8AC77",
          "width": 0.1
         },
         "marker": {
          "size": 0.1,
          "symbol": "diamond-tall"
         },
         "name": "S000030064",
         "showlegend": false,
         "type": "scatter",
         "x": [
          101145,
          101145,
          100225,
          100225,
          101145
         ],
         "y": [
          -11,
          -20,
          -20,
          -11,
          -11
         ]
        },
        {
         "fill": "toself",
         "fillcolor": "#B8AC77",
         "hoveron": "fills",
         "hovertemplate": "<b>ID:%{name}</b>",
         "legendgroup": "CDS",
         "line": {
          "color": "#B8AC77",
          "width": 0.1
         },
         "marker": {
          "size": 0.1,
          "symbol": "diamond-tall"
         },
         "name": "S000029981",
         "showlegend": false,
         "type": "scatter",
         "x": [
          105872,
          105872,
          101565,
          101565,
          105872
         ],
         "y": [
          -11,
          -20,
          -20,
          -11,
          -11
         ]
        },
        {
         "fill": "toself",
         "fillcolor": "#B8AC77",
         "hoveron": "fills",
         "hovertemplate": "<b>ID:%{name}</b>",
         "legendgroup": "CDS",
         "line": {
          "color": "#B8AC77",
          "width": 0.1
         },
         "marker": {
          "size": 0.1,
          "symbol": "diamond-tall"
         },
         "name": "S000037355",
         "showlegend": false,
         "type": "scatter",
         "x": [
          108551,
          108551,
          106272,
          106272,
          108551
         ],
         "y": [
          -11,
          -20,
          -20,
          -11,
          -11
         ]
        },
        {
         "fill": "toself",
         "fillcolor": "#B8AC77",
         "hoveron": "fills",
         "hovertemplate": "<b>ID:%{name}</b>",
         "legendgroup": "CDS",
         "line": {
          "color": "#B8AC77",
          "width": 0.1
         },
         "marker": {
          "size": 0.1,
          "symbol": "diamond-tall"
         },
         "name": "S000037286",
         "showlegend": false,
         "type": "scatter",
         "x": [
          110430,
          110430,
          108877,
          108877,
          110430
         ],
         "y": [
          -11,
          -20,
          -20,
          -11,
          -11
         ]
        },
        {
         "fill": "toself",
         "fillcolor": "#B8AC77",
         "hoveron": "fills",
         "hovertemplate": "<b>ID:%{name}</b>",
         "legendgroup": "CDS",
         "line": {
          "color": "#B8AC77",
          "width": 0.1
         },
         "marker": {
          "size": 0.1,
          "symbol": "diamond-tall"
         },
         "name": "S000037200",
         "showlegend": false,
         "type": "scatter",
         "x": [
          113359,
          113359,
          110846,
          110846,
          113359
         ],
         "y": [
          -11,
          -20,
          -20,
          -11,
          -11
         ]
        },
        {
         "fill": "toself",
         "fillcolor": "#B8AC77",
         "hoveron": "fills",
         "hovertemplate": "<b>ID:%{name}</b>",
         "legendgroup": "CDS",
         "line": {
          "color": "#B8AC77",
          "width": 0.1
         },
         "marker": {
          "size": 0.1,
          "symbol": "diamond-tall"
         },
         "name": "S000037124",
         "showlegend": false,
         "type": "scatter",
         "x": [
          114615,
          114615,
          113614,
          113614,
          114615
         ],
         "y": [
          -11,
          -20,
          -20,
          -11,
          -11
         ]
        },
        {
         "fill": "toself",
         "fillcolor": "#B8AC77",
         "hoveron": "fills",
         "hovertemplate": "<b>ID:%{name}</b>",
         "legendgroup": "CDS",
         "line": {
          "color": "#B8AC77",
          "width": 0.1
         },
         "marker": {
          "size": 0.1,
          "symbol": "diamond-tall"
         },
         "name": "S000032033",
         "showlegend": false,
         "type": "scatter",
         "x": [
          119541,
          119541,
          118564,
          118564,
          119541
         ],
         "y": [
          -11,
          -20,
          -20,
          -11,
          -11
         ]
        },
        {
         "fill": "toself",
         "fillcolor": "#B8AC77",
         "hoveron": "fills",
         "hovertemplate": "<b>ID:%{name}</b>",
         "legendgroup": "CDS",
         "line": {
          "color": "#B8AC77",
          "width": 0.1
         },
         "marker": {
          "size": 0.1,
          "symbol": "diamond-tall"
         },
         "name": "S000030333",
         "showlegend": false,
         "type": "scatter",
         "x": [
          124492,
          124492,
          124307,
          124307,
          124492
         ],
         "y": [
          -11,
          -20,
          -20,
          -11,
          -11
         ]
        },
        {
         "fill": "toself",
         "fillcolor": "#B8AC77",
         "hoveron": "fills",
         "hovertemplate": "<b>ID:%{name}</b>",
         "legendgroup": "CDS",
         "line": {
          "color": "#B8AC77",
          "width": 0.1
         },
         "marker": {
          "size": 0.1,
          "symbol": "diamond-tall"
         },
         "name": "S000032719",
         "showlegend": false,
         "type": "scatter",
         "x": [
          125069,
          125069,
          124755,
          124755,
          125069
         ],
         "y": [
          -11,
          -20,
          -20,
          -11,
          -11
         ]
        },
        {
         "fill": "toself",
         "fillcolor": "#B8AC77",
         "hoveron": "fills",
         "hovertemplate": "<b>ID:%{name}</b>",
         "legendgroup": "CDS",
         "line": {
          "color": "#B8AC77",
          "width": 0.1
         },
         "marker": {
          "size": 0.1,
          "symbol": "diamond-tall"
         },
         "name": "S000036247",
         "showlegend": false,
         "type": "scatter",
         "x": [
          128102,
          128102,
          126903,
          126903,
          128102
         ],
         "y": [
          -11,
          -20,
          -20,
          -11,
          -11
         ]
        },
        {
         "fill": "toself",
         "fillcolor": "#B8AC77",
         "hoveron": "fills",
         "hovertemplate": "<b>ID:%{name}</b>",
         "legendgroup": "CDS",
         "line": {
          "color": "#B8AC77",
          "width": 0.1
         },
         "marker": {
          "size": 0.1,
          "symbol": "diamond-tall"
         },
         "name": "S000036146",
         "showlegend": false,
         "type": "scatter",
         "x": [
          129019,
          129019,
          128252,
          128252,
          129019
         ],
         "y": [
          -11,
          -20,
          -20,
          -11,
          -11
         ]
        },
        {
         "fill": "toself",
         "fillcolor": "#B8AC77",
         "hoveron": "fills",
         "hovertemplate": "<b>ID:%{name}</b>",
         "legendgroup": "CDS",
         "line": {
          "color": "#B8AC77",
          "width": 0.1
         },
         "marker": {
          "size": 0.1,
          "symbol": "diamond-tall"
         },
         "name": "S000034958",
         "showlegend": false,
         "type": "scatter",
         "x": [
          135665,
          135665,
          134184,
          134184,
          135665
         ],
         "y": [
          -11,
          -20,
          -20,
          -11,
          -11
         ]
        },
        {
         "fill": "toself",
         "fillcolor": "#B8AC77",
         "hoveron": "fills",
         "hovertemplate": "<b>ID:%{name}</b>",
         "legendgroup": "CDS",
         "line": {
          "color": "#B8AC77",
          "width": 0.1
         },
         "marker": {
          "size": 0.1,
          "symbol": "diamond-tall"
         },
         "name": "S000033112",
         "showlegend": false,
         "type": "scatter",
         "x": [
          138345,
          138345,
          137698,
          137698,
          138345
         ],
         "y": [
          -11,
          -20,
          -20,
          -11,
          -11
         ]
        },
        {
         "fill": "toself",
         "fillcolor": "#B8AC77",
         "hoveron": "fills",
         "hovertemplate": "<b>ID:%{name}</b>",
         "legendgroup": "CDS",
         "line": {
          "color": "#B8AC77",
          "width": 0.1
         },
         "marker": {
          "size": 0.1,
          "symbol": "diamond-tall"
         },
         "name": "S000032096",
         "showlegend": false,
         "type": "scatter",
         "x": [
          141431,
          141431,
          139503,
          139503,
          141431
         ],
         "y": [
          -11,
          -20,
          -20,
          -11,
          -11
         ]
        },
        {
         "fill": "toself",
         "fillcolor": "#B8AC77",
         "hoveron": "fills",
         "hovertemplate": "<b>ID:%{name}</b>",
         "legendgroup": "CDS",
         "line": {
          "color": "#B8AC77",
          "width": 0.1
         },
         "marker": {
          "size": 0.1,
          "symbol": "diamond-tall"
         },
         "name": "S000030735",
         "showlegend": false,
         "type": "scatter",
         "x": [
          151006,
          151006,
          147594,
          147594,
          151006
         ],
         "y": [
          -11,
          -20,
          -20,
          -11,
          -11
         ]
        },
        {
         "fill": "toself",
         "fillcolor": "#B8AC77",
         "hoveron": "fills",
         "hovertemplate": "<b>ID:%{name}</b>",
         "legendgroup": "CDS",
         "line": {
          "color": "#B8AC77",
          "width": 0.1
         },
         "marker": {
          "size": 0.1,
          "symbol": "diamond-tall"
         },
         "name": "S000030734",
         "showlegend": false,
         "type": "scatter",
         "x": [
          151166,
          151166,
          151097,
          151097,
          151166
         ],
         "y": [
          -11,
          -20,
          -20,
          -11,
          -11
         ]
        },
        {
         "fill": "toself",
         "fillcolor": "#B8AC77",
         "hoveron": "fills",
         "hovertemplate": "<b>ID:%{name}</b>",
         "legendgroup": "CDS",
         "line": {
          "color": "#B8AC77",
          "width": 0.1
         },
         "marker": {
          "size": 0.1,
          "symbol": "diamond-tall"
         },
         "name": "S000032940",
         "showlegend": false,
         "type": "scatter",
         "x": [
          154724,
          154724,
          154065,
          154065,
          154724
         ],
         "y": [
          -11,
          -20,
          -20,
          -11,
          -11
         ]
        },
        {
         "fill": "toself",
         "fillcolor": "#B8AC77",
         "hoveron": "fills",
         "hovertemplate": "<b>ID:%{name}</b>",
         "legendgroup": "CDS",
         "line": {
          "color": "#B8AC77",
          "width": 0.1
         },
         "marker": {
          "size": 0.1,
          "symbol": "diamond-tall"
         },
         "name": "S000036676",
         "showlegend": false,
         "type": "scatter",
         "x": [
          158619,
          158619,
          156754,
          156754,
          158619
         ],
         "y": [
          -11,
          -20,
          -20,
          -11,
          -11
         ]
        },
        {
         "fill": "toself",
         "fillcolor": "#B8AC77",
         "hoveron": "fills",
         "hovertemplate": "<b>ID:%{name}</b>",
         "legendgroup": "CDS",
         "line": {
          "color": "#B8AC77",
          "width": 0.1
         },
         "marker": {
          "size": 0.1,
          "symbol": "diamond-tall"
         },
         "name": "S000037508",
         "showlegend": false,
         "type": "scatter",
         "x": [
          164187,
          164187,
          160597,
          160597,
          164187
         ],
         "y": [
          -11,
          -20,
          -20,
          -11,
          -11
         ]
        },
        {
         "fill": "toself",
         "fillcolor": "#B8AC77",
         "hoveron": "fills",
         "hovertemplate": "<b>ID:%{name}</b>",
         "legendgroup": "CDS",
         "line": {
          "color": "#B8AC77",
          "width": 0.1
         },
         "marker": {
          "size": 0.1,
          "symbol": "diamond-tall"
         },
         "name": "S000030210",
         "showlegend": false,
         "type": "scatter",
         "x": [
          165866,
          165866,
          164544,
          164544,
          165866
         ],
         "y": [
          -11,
          -20,
          -20,
          -11,
          -11
         ]
        },
        {
         "fill": "toself",
         "fillcolor": "#B8AC77",
         "hoveron": "fills",
         "hovertemplate": "<b>ID:%{name}</b>",
         "legendgroup": "CDS",
         "line": {
          "color": "#B8AC77",
          "width": 0.1
         },
         "marker": {
          "size": 0.1,
          "symbol": "diamond-tall"
         },
         "name": "S000031457",
         "showlegend": false,
         "type": "scatter",
         "x": [
          168871,
          168871,
          166742,
          166742,
          168871
         ],
         "y": [
          -11,
          -20,
          -20,
          -11,
          -11
         ]
        },
        {
         "fill": "toself",
         "fillcolor": "#B8AC77",
         "hoveron": "fills",
         "hovertemplate": "<b>ID:%{name}</b>",
         "legendgroup": "CDS",
         "line": {
          "color": "#B8AC77",
          "width": 0.1
         },
         "marker": {
          "size": 0.1,
          "symbol": "diamond-tall"
         },
         "name": "S000032711",
         "showlegend": false,
         "type": "scatter",
         "x": [
          171703,
          171703,
          170396,
          170396,
          171703
         ],
         "y": [
          -11,
          -20,
          -20,
          -11,
          -11
         ]
        },
        {
         "fill": "toself",
         "fillcolor": "#B8AC77",
         "hoveron": "fills",
         "hovertemplate": "<b>ID:%{name}</b>",
         "legendgroup": "CDS",
         "line": {
          "color": "#B8AC77",
          "width": 0.1
         },
         "marker": {
          "size": 0.1,
          "symbol": "diamond-tall"
         },
         "name": "S000032794",
         "showlegend": false,
         "type": "scatter",
         "x": [
          175135,
          175135,
          172211,
          172211,
          175135
         ],
         "y": [
          -11,
          -20,
          -20,
          -11,
          -11
         ]
        },
        {
         "fill": "toself",
         "fillcolor": "#B8AC77",
         "hoveron": "fills",
         "hovertemplate": "<b>ID:%{name}</b>",
         "legendgroup": "CDS",
         "line": {
          "color": "#B8AC77",
          "width": 0.1
         },
         "marker": {
          "size": 0.1,
          "symbol": "diamond-tall"
         },
         "name": "S000034578",
         "showlegend": false,
         "type": "scatter",
         "x": [
          177023,
          177023,
          176856,
          176856,
          177023
         ],
         "y": [
          -11,
          -20,
          -20,
          -11,
          -11
         ]
        },
        {
         "fill": "toself",
         "fillcolor": "#B8AC77",
         "hoveron": "fills",
         "hovertemplate": "<b>ID:%{name}</b>",
         "legendgroup": "CDS",
         "line": {
          "color": "#B8AC77",
          "width": 0.1
         },
         "marker": {
          "size": 0.1,
          "symbol": "diamond-tall"
         },
         "name": "S000035643",
         "showlegend": false,
         "type": "scatter",
         "x": [
          179820,
          179820,
          179281,
          179281,
          179820
         ],
         "y": [
          -11,
          -20,
          -20,
          -11,
          -11
         ]
        },
        {
         "fill": "toself",
         "fillcolor": "#B8AC77",
         "hoveron": "fills",
         "hovertemplate": "<b>ID:%{name}</b>",
         "legendgroup": "CDS",
         "line": {
          "color": "#B8AC77",
          "width": 0.1
         },
         "marker": {
          "size": 0.1,
          "symbol": "diamond-tall"
         },
         "name": "S000036694",
         "showlegend": false,
         "type": "scatter",
         "x": [
          186853,
          186853,
          186512,
          186512,
          186853
         ],
         "y": [
          -11,
          -20,
          -20,
          -11,
          -11
         ]
        },
        {
         "fill": "toself",
         "fillcolor": "#B8AC77",
         "hoveron": "fills",
         "hovertemplate": "<b>ID:%{name}</b>",
         "legendgroup": "CDS",
         "line": {
          "color": "#B8AC77",
          "width": 0.1
         },
         "marker": {
          "size": 0.1,
          "symbol": "diamond-tall"
         },
         "name": "S000031375",
         "showlegend": false,
         "type": "scatter",
         "x": [
          192417,
          192417,
          192337,
          192337,
          192417
         ],
         "y": [
          -11,
          -20,
          -20,
          -11,
          -11
         ]
        },
        {
         "fill": "toself",
         "fillcolor": "#B8AC77",
         "hoveron": "fills",
         "hovertemplate": "<b>ID:%{name}</b>",
         "legendgroup": "CDS",
         "line": {
          "color": "#B8AC77",
          "width": 0.1
         },
         "marker": {
          "size": 0.1,
          "symbol": "diamond-tall"
         },
         "name": "S000031684",
         "showlegend": false,
         "type": "scatter",
         "x": [
          201787,
          201787,
          201467,
          201467,
          201787
         ],
         "y": [
          -11,
          -20,
          -20,
          -11,
          -11
         ]
        },
        {
         "fill": "toself",
         "fillcolor": "#B8AC77",
         "hoveron": "fills",
         "hovertemplate": "<b>ID:%{name}</b>",
         "legendgroup": "CDS",
         "line": {
          "color": "#B8AC77",
          "width": 0.1
         },
         "marker": {
          "size": 0.1,
          "symbol": "diamond-tall"
         },
         "name": "S000032661",
         "showlegend": false,
         "type": "scatter",
         "x": [
          217492,
          217492,
          217157,
          217157,
          217492
         ],
         "y": [
          -11,
          -20,
          -20,
          -11,
          -11
         ]
        },
        {
         "fill": "toself",
         "fillcolor": "#B8AC77",
         "hoveron": "fills",
         "hovertemplate": "<b>ID:%{name}</b>",
         "legendgroup": "CDS",
         "line": {
          "color": "#B8AC77",
          "width": 0.1
         },
         "marker": {
          "size": 0.1,
          "symbol": "diamond-tall"
         },
         "name": "S000035758",
         "showlegend": false,
         "type": "scatter",
         "x": [
          224304,
          224304,
          224011,
          224011,
          224304
         ],
         "y": [
          -11,
          -20,
          -20,
          -11,
          -11
         ]
        },
        {
         "fill": "toself",
         "fillcolor": "#B8AC77",
         "hoveron": "fills",
         "hovertemplate": "<b>ID:%{name}</b>",
         "legendgroup": "CDS",
         "line": {
          "color": "#B8AC77",
          "width": 0.1
         },
         "marker": {
          "size": 0.1,
          "symbol": "diamond-tall"
         },
         "name": "S000036733",
         "showlegend": false,
         "type": "scatter",
         "x": [
          224862,
          224862,
          224563,
          224563,
          224862
         ],
         "y": [
          -11,
          -20,
          -20,
          -11,
          -11
         ]
        },
        {
         "fill": "toself",
         "fillcolor": "#B8AC77",
         "hoverinfo": "none",
         "line": {
          "color": "#B8AC77",
          "width": 0.1
         },
         "marker": {
          "size": 0.01
         },
         "name": "CDS",
         "type": "scatter",
         "x": [
          0
         ],
         "y": [
          0
         ]
        },
        {
         "fill": "toself",
         "fillcolor": "black",
         "hoverinfo": "none",
         "line": {
          "color": "black",
          "width": 0.1
         },
         "marker": {
          "size": 0.01
         },
         "name": "centromere",
         "type": "scatter",
         "x": [
          0
         ],
         "y": [
          0
         ]
        },
        {
         "fill": "toself",
         "fillcolor": "black",
         "hoverinfo": "none",
         "line": {
          "color": "black",
          "width": 0.1
         },
         "marker": {
          "size": 0.01
         },
         "name": "telomere",
         "type": "scatter",
         "x": [
          0
         ],
         "y": [
          0
         ]
        }
       ],
       "layout": {
        "plot_bgcolor": "white",
        "template": {
         "data": {
          "bar": [
           {
            "error_x": {
             "color": "#2a3f5f"
            },
            "error_y": {
             "color": "#2a3f5f"
            },
            "marker": {
             "line": {
              "color": "#E5ECF6",
              "width": 0.5
             }
            },
            "type": "bar"
           }
          ],
          "barpolar": [
           {
            "marker": {
             "line": {
              "color": "#E5ECF6",
              "width": 0.5
             }
            },
            "type": "barpolar"
           }
          ],
          "carpet": [
           {
            "aaxis": {
             "endlinecolor": "#2a3f5f",
             "gridcolor": "white",
             "linecolor": "white",
             "minorgridcolor": "white",
             "startlinecolor": "#2a3f5f"
            },
            "baxis": {
             "endlinecolor": "#2a3f5f",
             "gridcolor": "white",
             "linecolor": "white",
             "minorgridcolor": "white",
             "startlinecolor": "#2a3f5f"
            },
            "type": "carpet"
           }
          ],
          "choropleth": [
           {
            "colorbar": {
             "outlinewidth": 0,
             "ticks": ""
            },
            "type": "choropleth"
           }
          ],
          "contour": [
           {
            "colorbar": {
             "outlinewidth": 0,
             "ticks": ""
            },
            "colorscale": [
             [
              0,
              "#0d0887"
             ],
             [
              0.1111111111111111,
              "#46039f"
             ],
             [
              0.2222222222222222,
              "#7201a8"
             ],
             [
              0.3333333333333333,
              "#9c179e"
             ],
             [
              0.4444444444444444,
              "#bd3786"
             ],
             [
              0.5555555555555556,
              "#d8576b"
             ],
             [
              0.6666666666666666,
              "#ed7953"
             ],
             [
              0.7777777777777778,
              "#fb9f3a"
             ],
             [
              0.8888888888888888,
              "#fdca26"
             ],
             [
              1,
              "#f0f921"
             ]
            ],
            "type": "contour"
           }
          ],
          "contourcarpet": [
           {
            "colorbar": {
             "outlinewidth": 0,
             "ticks": ""
            },
            "type": "contourcarpet"
           }
          ],
          "heatmap": [
           {
            "colorbar": {
             "outlinewidth": 0,
             "ticks": ""
            },
            "colorscale": [
             [
              0,
              "#0d0887"
             ],
             [
              0.1111111111111111,
              "#46039f"
             ],
             [
              0.2222222222222222,
              "#7201a8"
             ],
             [
              0.3333333333333333,
              "#9c179e"
             ],
             [
              0.4444444444444444,
              "#bd3786"
             ],
             [
              0.5555555555555556,
              "#d8576b"
             ],
             [
              0.6666666666666666,
              "#ed7953"
             ],
             [
              0.7777777777777778,
              "#fb9f3a"
             ],
             [
              0.8888888888888888,
              "#fdca26"
             ],
             [
              1,
              "#f0f921"
             ]
            ],
            "type": "heatmap"
           }
          ],
          "heatmapgl": [
           {
            "colorbar": {
             "outlinewidth": 0,
             "ticks": ""
            },
            "colorscale": [
             [
              0,
              "#0d0887"
             ],
             [
              0.1111111111111111,
              "#46039f"
             ],
             [
              0.2222222222222222,
              "#7201a8"
             ],
             [
              0.3333333333333333,
              "#9c179e"
             ],
             [
              0.4444444444444444,
              "#bd3786"
             ],
             [
              0.5555555555555556,
              "#d8576b"
             ],
             [
              0.6666666666666666,
              "#ed7953"
             ],
             [
              0.7777777777777778,
              "#fb9f3a"
             ],
             [
              0.8888888888888888,
              "#fdca26"
             ],
             [
              1,
              "#f0f921"
             ]
            ],
            "type": "heatmapgl"
           }
          ],
          "histogram": [
           {
            "marker": {
             "colorbar": {
              "outlinewidth": 0,
              "ticks": ""
             }
            },
            "type": "histogram"
           }
          ],
          "histogram2d": [
           {
            "colorbar": {
             "outlinewidth": 0,
             "ticks": ""
            },
            "colorscale": [
             [
              0,
              "#0d0887"
             ],
             [
              0.1111111111111111,
              "#46039f"
             ],
             [
              0.2222222222222222,
              "#7201a8"
             ],
             [
              0.3333333333333333,
              "#9c179e"
             ],
             [
              0.4444444444444444,
              "#bd3786"
             ],
             [
              0.5555555555555556,
              "#d8576b"
             ],
             [
              0.6666666666666666,
              "#ed7953"
             ],
             [
              0.7777777777777778,
              "#fb9f3a"
             ],
             [
              0.8888888888888888,
              "#fdca26"
             ],
             [
              1,
              "#f0f921"
             ]
            ],
            "type": "histogram2d"
           }
          ],
          "histogram2dcontour": [
           {
            "colorbar": {
             "outlinewidth": 0,
             "ticks": ""
            },
            "colorscale": [
             [
              0,
              "#0d0887"
             ],
             [
              0.1111111111111111,
              "#46039f"
             ],
             [
              0.2222222222222222,
              "#7201a8"
             ],
             [
              0.3333333333333333,
              "#9c179e"
             ],
             [
              0.4444444444444444,
              "#bd3786"
             ],
             [
              0.5555555555555556,
              "#d8576b"
             ],
             [
              0.6666666666666666,
              "#ed7953"
             ],
             [
              0.7777777777777778,
              "#fb9f3a"
             ],
             [
              0.8888888888888888,
              "#fdca26"
             ],
             [
              1,
              "#f0f921"
             ]
            ],
            "type": "histogram2dcontour"
           }
          ],
          "mesh3d": [
           {
            "colorbar": {
             "outlinewidth": 0,
             "ticks": ""
            },
            "type": "mesh3d"
           }
          ],
          "parcoords": [
           {
            "line": {
             "colorbar": {
              "outlinewidth": 0,
              "ticks": ""
             }
            },
            "type": "parcoords"
           }
          ],
          "pie": [
           {
            "automargin": true,
            "type": "pie"
           }
          ],
          "scatter": [
           {
            "marker": {
             "colorbar": {
              "outlinewidth": 0,
              "ticks": ""
             }
            },
            "type": "scatter"
           }
          ],
          "scatter3d": [
           {
            "line": {
             "colorbar": {
              "outlinewidth": 0,
              "ticks": ""
             }
            },
            "marker": {
             "colorbar": {
              "outlinewidth": 0,
              "ticks": ""
             }
            },
            "type": "scatter3d"
           }
          ],
          "scattercarpet": [
           {
            "marker": {
             "colorbar": {
              "outlinewidth": 0,
              "ticks": ""
             }
            },
            "type": "scattercarpet"
           }
          ],
          "scattergeo": [
           {
            "marker": {
             "colorbar": {
              "outlinewidth": 0,
              "ticks": ""
             }
            },
            "type": "scattergeo"
           }
          ],
          "scattergl": [
           {
            "marker": {
             "colorbar": {
              "outlinewidth": 0,
              "ticks": ""
             }
            },
            "type": "scattergl"
           }
          ],
          "scattermapbox": [
           {
            "marker": {
             "colorbar": {
              "outlinewidth": 0,
              "ticks": ""
             }
            },
            "type": "scattermapbox"
           }
          ],
          "scatterpolar": [
           {
            "marker": {
             "colorbar": {
              "outlinewidth": 0,
              "ticks": ""
             }
            },
            "type": "scatterpolar"
           }
          ],
          "scatterpolargl": [
           {
            "marker": {
             "colorbar": {
              "outlinewidth": 0,
              "ticks": ""
             }
            },
            "type": "scatterpolargl"
           }
          ],
          "scatterternary": [
           {
            "marker": {
             "colorbar": {
              "outlinewidth": 0,
              "ticks": ""
             }
            },
            "type": "scatterternary"
           }
          ],
          "surface": [
           {
            "colorbar": {
             "outlinewidth": 0,
             "ticks": ""
            },
            "colorscale": [
             [
              0,
              "#0d0887"
             ],
             [
              0.1111111111111111,
              "#46039f"
             ],
             [
              0.2222222222222222,
              "#7201a8"
             ],
             [
              0.3333333333333333,
              "#9c179e"
             ],
             [
              0.4444444444444444,
              "#bd3786"
             ],
             [
              0.5555555555555556,
              "#d8576b"
             ],
             [
              0.6666666666666666,
              "#ed7953"
             ],
             [
              0.7777777777777778,
              "#fb9f3a"
             ],
             [
              0.8888888888888888,
              "#fdca26"
             ],
             [
              1,
              "#f0f921"
             ]
            ],
            "type": "surface"
           }
          ],
          "table": [
           {
            "cells": {
             "fill": {
              "color": "#EBF0F8"
             },
             "line": {
              "color": "white"
             }
            },
            "header": {
             "fill": {
              "color": "#C8D4E3"
             },
             "line": {
              "color": "white"
             }
            },
            "type": "table"
           }
          ]
         },
         "layout": {
          "annotationdefaults": {
           "arrowcolor": "#2a3f5f",
           "arrowhead": 0,
           "arrowwidth": 1
          },
          "autotypenumbers": "strict",
          "coloraxis": {
           "colorbar": {
            "outlinewidth": 0,
            "ticks": ""
           }
          },
          "colorscale": {
           "diverging": [
            [
             0,
             "#8e0152"
            ],
            [
             0.1,
             "#c51b7d"
            ],
            [
             0.2,
             "#de77ae"
            ],
            [
             0.3,
             "#f1b6da"
            ],
            [
             0.4,
             "#fde0ef"
            ],
            [
             0.5,
             "#f7f7f7"
            ],
            [
             0.6,
             "#e6f5d0"
            ],
            [
             0.7,
             "#b8e186"
            ],
            [
             0.8,
             "#7fbc41"
            ],
            [
             0.9,
             "#4d9221"
            ],
            [
             1,
             "#276419"
            ]
           ],
           "sequential": [
            [
             0,
             "#0d0887"
            ],
            [
             0.1111111111111111,
             "#46039f"
            ],
            [
             0.2222222222222222,
             "#7201a8"
            ],
            [
             0.3333333333333333,
             "#9c179e"
            ],
            [
             0.4444444444444444,
             "#bd3786"
            ],
            [
             0.5555555555555556,
             "#d8576b"
            ],
            [
             0.6666666666666666,
             "#ed7953"
            ],
            [
             0.7777777777777778,
             "#fb9f3a"
            ],
            [
             0.8888888888888888,
             "#fdca26"
            ],
            [
             1,
             "#f0f921"
            ]
           ],
           "sequentialminus": [
            [
             0,
             "#0d0887"
            ],
            [
             0.1111111111111111,
             "#46039f"
            ],
            [
             0.2222222222222222,
             "#7201a8"
            ],
            [
             0.3333333333333333,
             "#9c179e"
            ],
            [
             0.4444444444444444,
             "#bd3786"
            ],
            [
             0.5555555555555556,
             "#d8576b"
            ],
            [
             0.6666666666666666,
             "#ed7953"
            ],
            [
             0.7777777777777778,
             "#fb9f3a"
            ],
            [
             0.8888888888888888,
             "#fdca26"
            ],
            [
             1,
             "#f0f921"
            ]
           ]
          },
          "colorway": [
           "#636efa",
           "#EF553B",
           "#00cc96",
           "#ab63fa",
           "#FFA15A",
           "#19d3f3",
           "#FF6692",
           "#B6E880",
           "#FF97FF",
           "#FECB52"
          ],
          "font": {
           "color": "#2a3f5f"
          },
          "geo": {
           "bgcolor": "white",
           "lakecolor": "white",
           "landcolor": "#E5ECF6",
           "showlakes": true,
           "showland": true,
           "subunitcolor": "white"
          },
          "hoverlabel": {
           "align": "left"
          },
          "hovermode": "closest",
          "mapbox": {
           "style": "light"
          },
          "paper_bgcolor": "white",
          "plot_bgcolor": "#E5ECF6",
          "polar": {
           "angularaxis": {
            "gridcolor": "white",
            "linecolor": "white",
            "ticks": ""
           },
           "bgcolor": "#E5ECF6",
           "radialaxis": {
            "gridcolor": "white",
            "linecolor": "white",
            "ticks": ""
           }
          },
          "scene": {
           "xaxis": {
            "backgroundcolor": "#E5ECF6",
            "gridcolor": "white",
            "gridwidth": 2,
            "linecolor": "white",
            "showbackground": true,
            "ticks": "",
            "zerolinecolor": "white"
           },
           "yaxis": {
            "backgroundcolor": "#E5ECF6",
            "gridcolor": "white",
            "gridwidth": 2,
            "linecolor": "white",
            "showbackground": true,
            "ticks": "",
            "zerolinecolor": "white"
           },
           "zaxis": {
            "backgroundcolor": "#E5ECF6",
            "gridcolor": "white",
            "gridwidth": 2,
            "linecolor": "white",
            "showbackground": true,
            "ticks": "",
            "zerolinecolor": "white"
           }
          },
          "shapedefaults": {
           "line": {
            "color": "#2a3f5f"
           }
          },
          "ternary": {
           "aaxis": {
            "gridcolor": "white",
            "linecolor": "white",
            "ticks": ""
           },
           "baxis": {
            "gridcolor": "white",
            "linecolor": "white",
            "ticks": ""
           },
           "bgcolor": "#E5ECF6",
           "caxis": {
            "gridcolor": "white",
            "linecolor": "white",
            "ticks": ""
           }
          },
          "title": {
           "x": 0.05
          },
          "xaxis": {
           "automargin": true,
           "gridcolor": "white",
           "linecolor": "white",
           "ticks": "",
           "title": {
            "standoff": 15
           },
           "zerolinecolor": "white",
           "zerolinewidth": 2
          },
          "yaxis": {
           "automargin": true,
           "gridcolor": "white",
           "linecolor": "white",
           "ticks": "",
           "title": {
            "standoff": 15
           },
           "zerolinecolor": "white",
           "zerolinewidth": 2
          }
         }
        },
        "xaxis": {
         "range": [
          -10000,
          260000
         ],
         "showgrid": false
        },
        "yaxis": {
         "range": [
          -100,
          100
         ],
         "showgrid": false
        }
       }
      },
      "text/html": [
       "<div>                            <div id=\"483166d4-ee50-4a26-adca-3e14d3905750\" class=\"plotly-graph-div\" style=\"height:525px; width:100%;\"></div>            <script type=\"text/javascript\">                require([\"plotly\"], function(Plotly) {                    window.PLOTLYENV=window.PLOTLYENV || {};                                    if (document.getElementById(\"483166d4-ee50-4a26-adca-3e14d3905750\")) {                    Plotly.newPlot(                        \"483166d4-ee50-4a26-adca-3e14d3905750\",                        [{\"fill\": \"toself\", \"fillcolor\": \"lightgrey\", \"hoverinfo\": \"none\", \"line\": {\"color\": \"lightgrey\", \"width\": 0.1}, \"marker\": {\"size\": 0.1, \"symbol\": \"diamond-tall\"}, \"showlegend\": false, \"type\": \"scatter\", \"x\": [0, 230218, 230218, 0, 0], \"y\": [0, 0, -20, -20, 0]}, {\"hoverinfo\": \"none\", \"mode\": \"text\", \"showlegend\": false, \"text\": [\"Chromosome 1\", \"Sense\", \"Antisense\"], \"type\": \"scatter\", \"x\": [17000, 240218, 243218], \"y\": [10, -5.0, -15.0]}, {\"fill\": \"toself\", \"fillcolor\": \"#B8AC77\", \"hoveron\": \"fills\", \"hovertemplate\": \"<b>ID:%{name}</b>\", \"legendgroup\": \"CDS\", \"line\": {\"color\": \"#B8AC77\", \"width\": 0.1}, \"marker\": {\"size\": 0.1, \"symbol\": \"diamond-tall\"}, \"name\": \"S000031098\", \"showlegend\": false, \"type\": \"scatter\", \"x\": [335, 335, 649, 649, 335], \"y\": [0, -10, -10, 0, 0]}, {\"fill\": \"toself\", \"fillcolor\": \"#B8AC77\", \"hoveron\": \"fills\", \"hovertemplate\": \"<b>ID:%{name}</b>\", \"legendgroup\": \"CDS\", \"line\": {\"color\": \"#B8AC77\", \"width\": 0.1}, \"marker\": {\"size\": 0.1, \"symbol\": \"diamond-tall\"}, \"name\": \"S000031372\", \"showlegend\": false, \"type\": \"scatter\", \"x\": [538, 538, 792, 792, 538], \"y\": [0, -10, -10, 0, 0]}, {\"fill\": \"toself\", \"fillcolor\": \"#B8AC77\", \"hoveron\": \"fills\", \"hovertemplate\": \"<b>ID:%{name}</b>\", \"legendgroup\": \"CDS\", \"line\": {\"color\": \"#B8AC77\", \"width\": 0.1}, \"marker\": {\"size\": 0.1, \"symbol\": \"diamond-tall\"}, \"name\": \"S000031368\", \"showlegend\": false, \"type\": \"scatter\", \"x\": [2480, 2480, 2707, 2707, 2480], \"y\": [0, -10, -10, 0, 0]}, {\"fill\": \"toself\", \"fillcolor\": \"#B8AC77\", \"hoveron\": \"fills\", \"hovertemplate\": \"<b>ID:%{name}</b>\", \"legendgroup\": \"CDS\", \"line\": {\"color\": \"#B8AC77\", \"width\": 0.1}, \"marker\": {\"size\": 0.1, \"symbol\": \"diamond-tall\"}, \"name\": \"S000029887\", \"showlegend\": false, \"type\": \"scatter\", \"x\": [10091, 10091, 10399, 10399, 10091], \"y\": [0, -10, -10, 0, 0]}, {\"fill\": \"toself\", \"fillcolor\": \"#B8AC77\", \"hoveron\": \"fills\", \"hovertemplate\": \"<b>ID:%{name}</b>\", \"legendgroup\": \"CDS\", \"line\": {\"color\": \"#B8AC77\", \"width\": 0.1}, \"marker\": {\"size\": 0.1, \"symbol\": \"diamond-tall\"}, \"name\": \"S000034793\", \"showlegend\": false, \"type\": \"scatter\", \"x\": [12046, 12046, 12426, 12426, 12046], \"y\": [0, -10, -10, 0, 0]}, {\"fill\": \"toself\", \"fillcolor\": \"#B8AC77\", \"hoveron\": \"fills\", \"hovertemplate\": \"<b>ID:%{name}</b>\", \"legendgroup\": \"CDS\", \"line\": {\"color\": \"#B8AC77\", \"width\": 0.1}, \"marker\": {\"size\": 0.1, \"symbol\": \"diamond-tall\"}, \"name\": \"S000037087\", \"showlegend\": false, \"type\": \"scatter\", \"x\": [21566, 21566, 21850, 21850, 21566], \"y\": [0, -10, -10, 0, 0]}, {\"fill\": \"toself\", \"fillcolor\": \"#B8AC77\", \"hoveron\": \"fills\", \"hovertemplate\": \"<b>ID:%{name}</b>\", \"legendgroup\": \"CDS\", \"line\": {\"color\": \"#B8AC77\", \"width\": 0.1}, \"marker\": {\"size\": 0.1, \"symbol\": \"diamond-tall\"}, \"name\": \"S000036963\", \"showlegend\": false, \"type\": \"scatter\", \"x\": [31567, 31567, 32940, 32940, 31567], \"y\": [0, -10, -10, 0, 0]}, {\"fill\": \"toself\", \"fillcolor\": \"#B8AC77\", \"hoveron\": \"fills\", \"hovertemplate\": \"<b>ID:%{name}</b>\", \"legendgroup\": \"CDS\", \"line\": {\"color\": \"#B8AC77\", \"width\": 0.1}, \"marker\": {\"size\": 0.1, \"symbol\": \"diamond-tall\"}, \"name\": \"S000036902\", \"showlegend\": false, \"type\": \"scatter\", \"x\": [33448, 33448, 34701, 34701, 33448], \"y\": [0, -10, -10, 0, 0]}, {\"fill\": \"toself\", \"fillcolor\": \"#B8AC77\", \"hoveron\": \"fills\", \"hovertemplate\": \"<b>ID:%{name}</b>\", \"legendgroup\": \"CDS\", \"line\": {\"color\": \"#B8AC77\", \"width\": 0.1}, \"marker\": {\"size\": 0.1, \"symbol\": \"diamond-tall\"}, \"name\": \"S000036089\", \"showlegend\": false, \"type\": \"scatter\", \"x\": [35155, 35155, 36303, 36303, 35155], \"y\": [0, -10, -10, 0, 0]}, {\"fill\": \"toself\", \"fillcolor\": \"#B8AC77\", \"hoveron\": \"fills\", \"hovertemplate\": \"<b>ID:%{name}</b>\", \"legendgroup\": \"CDS\", \"line\": {\"color\": \"#B8AC77\", \"width\": 0.1}, \"marker\": {\"size\": 0.1, \"symbol\": \"diamond-tall\"}, \"name\": \"S000035122\", \"showlegend\": false, \"type\": \"scatter\", \"x\": [36509, 36509, 37147, 37147, 36509], \"y\": [0, -10, -10, 0, 0]}, {\"fill\": \"toself\", \"fillcolor\": \"#B8AC77\", \"hoveron\": \"fills\", \"hovertemplate\": \"<b>ID:%{name}</b>\", \"legendgroup\": \"CDS\", \"line\": {\"color\": \"#B8AC77\", \"width\": 0.1}, \"marker\": {\"size\": 0.1, \"symbol\": \"diamond-tall\"}, \"name\": \"S000034933\", \"showlegend\": false, \"type\": \"scatter\", \"x\": [37464, 37464, 38972, 38972, 37464], \"y\": [0, -10, -10, 0, 0]}, {\"fill\": \"toself\", \"fillcolor\": \"#B8AC77\", \"hoveron\": \"fills\", \"hovertemplate\": \"<b>ID:%{name}</b>\", \"legendgroup\": \"CDS\", \"line\": {\"color\": \"#B8AC77\", \"width\": 0.1}, \"marker\": {\"size\": 0.1, \"symbol\": \"diamond-tall\"}, \"name\": \"S000033885\", \"showlegend\": false, \"type\": \"scatter\", \"x\": [39259, 39259, 41901, 41901, 39259], \"y\": [0, -10, -10, 0, 0]}, {\"fill\": \"toself\", \"fillcolor\": \"#B8AC77\", \"hoveron\": \"fills\", \"hovertemplate\": \"<b>ID:%{name}</b>\", \"legendgroup\": \"CDS\", \"line\": {\"color\": \"#B8AC77\", \"width\": 0.1}, \"marker\": {\"size\": 0.1, \"symbol\": \"diamond-tall\"}, \"name\": \"S000033812\", \"showlegend\": false, \"type\": \"scatter\", \"x\": [42177, 42177, 42719, 42719, 42177], \"y\": [0, -10, -10, 0, 0]}, {\"fill\": \"toself\", \"fillcolor\": \"#B8AC77\", \"hoveron\": \"fills\", \"hovertemplate\": \"<b>ID:%{name}</b>\", \"legendgroup\": \"CDS\", \"line\": {\"color\": \"#B8AC77\", \"width\": 0.1}, \"marker\": {\"size\": 0.1, \"symbol\": \"diamond-tall\"}, \"name\": \"S000033037\", \"showlegend\": false, \"type\": \"scatter\", \"x\": [45899, 45899, 48250, 48250, 45899], \"y\": [0, -10, -10, 0, 0]}, {\"fill\": \"toself\", \"fillcolor\": \"#B8AC77\", \"hoveron\": \"fills\", \"hovertemplate\": \"<b>ID:%{name}</b>\", \"legendgroup\": \"CDS\", \"line\": {\"color\": \"#B8AC77\", \"width\": 0.1}, \"marker\": {\"size\": 0.1, \"symbol\": \"diamond-tall\"}, \"name\": \"S000032862\", \"showlegend\": false, \"type\": \"scatter\", \"x\": [48564, 48564, 51707, 51707, 48564], \"y\": [0, -10, -10, 0, 0]}, {\"fill\": \"toself\", \"fillcolor\": \"#B8AC77\", \"hoveron\": \"fills\", \"hovertemplate\": \"<b>ID:%{name}</b>\", \"legendgroup\": \"CDS\", \"line\": {\"color\": \"#B8AC77\", \"width\": 0.1}, \"marker\": {\"size\": 0.1, \"symbol\": \"diamond-tall\"}, \"name\": \"S000033377\", \"showlegend\": false, \"type\": \"scatter\", \"x\": [54584, 54584, 54913, 54913, 54584], \"y\": [0, -10, -10, 0, 0]}, {\"fill\": \"toself\", \"fillcolor\": \"#B8AC77\", \"hoveron\": \"fills\", \"hovertemplate\": \"<b>ID:%{name}</b>\", \"legendgroup\": \"CDS\", \"line\": {\"color\": \"#B8AC77\", \"width\": 0.1}, \"marker\": {\"size\": 0.1, \"symbol\": \"diamond-tall\"}, \"name\": \"S000037097\", \"showlegend\": false, \"type\": \"scatter\", \"x\": [57518, 57518, 57850, 57850, 57518], \"y\": [0, -10, -10, 0, 0]}, {\"fill\": \"toself\", \"fillcolor\": \"#B8AC77\", \"hoveron\": \"fills\", \"hovertemplate\": \"<b>ID:%{name}</b>\", \"legendgroup\": \"CDS\", \"line\": {\"color\": \"#B8AC77\", \"width\": 0.1}, \"marker\": {\"size\": 0.1, \"symbol\": \"diamond-tall\"}, \"name\": \"S000037669\", \"showlegend\": false, \"type\": \"scatter\", \"x\": [61316, 61316, 62563, 62563, 61316], \"y\": [0, -10, -10, 0, 0]}, {\"fill\": \"toself\", \"fillcolor\": \"#B8AC77\", \"hoveron\": \"fills\", \"hovertemplate\": \"<b>ID:%{name}</b>\", \"legendgroup\": \"CDS\", \"line\": {\"color\": \"#B8AC77\", \"width\": 0.1}, \"marker\": {\"size\": 0.1, \"symbol\": \"diamond-tall\"}, \"name\": \"S000037599\", \"showlegend\": false, \"type\": \"scatter\", \"x\": [62840, 62840, 65404, 65404, 62840], \"y\": [0, -10, -10, 0, 0]}, {\"fill\": \"toself\", \"fillcolor\": \"#B8AC77\", \"hoveron\": \"fills\", \"hovertemplate\": \"<b>ID:%{name}</b>\", \"legendgroup\": \"CDS\", \"line\": {\"color\": \"#B8AC77\", \"width\": 0.1}, \"marker\": {\"size\": 0.1, \"symbol\": \"diamond-tall\"}, \"name\": \"S000035915\", \"showlegend\": false, \"type\": \"scatter\", \"x\": [71786, 71786, 73288, 73288, 71786], \"y\": [0, -10, -10, 0, 0]}, {\"fill\": \"toself\", \"fillcolor\": \"#B8AC77\", \"hoveron\": \"fills\", \"hovertemplate\": \"<b>ID:%{name}</b>\", \"legendgroup\": \"CDS\", \"line\": {\"color\": \"#B8AC77\", \"width\": 0.1}, \"marker\": {\"size\": 0.1, \"symbol\": \"diamond-tall\"}, \"name\": \"S000035798\", \"showlegend\": false, \"type\": \"scatter\", \"x\": [74020, 74020, 74823, 74823, 74020], \"y\": [0, -10, -10, 0, 0]}, {\"fill\": \"toself\", \"fillcolor\": \"#B8AC77\", \"hoveron\": \"fills\", \"hovertemplate\": \"<b>ID:%{name}</b>\", \"legendgroup\": \"CDS\", \"line\": {\"color\": \"#B8AC77\", \"width\": 0.1}, \"marker\": {\"size\": 0.1, \"symbol\": \"diamond-tall\"}, \"name\": \"S000034678\", \"showlegend\": false, \"type\": \"scatter\", \"x\": [76427, 76427, 79435, 79435, 76427], \"y\": [0, -10, -10, 0, 0]}, {\"fill\": \"toself\", \"fillcolor\": \"#B8AC77\", \"hoveron\": \"fills\", \"hovertemplate\": \"<b>ID:%{name}</b>\", \"legendgroup\": \"CDS\", \"line\": {\"color\": \"#B8AC77\", \"width\": 0.1}, \"marker\": {\"size\": 0.1, \"symbol\": \"diamond-tall\"}, \"name\": \"S000031836\", \"showlegend\": false, \"type\": \"scatter\", \"x\": [79718, 79718, 80587, 80587, 79718], \"y\": [0, -10, -10, 0, 0]}, {\"fill\": \"toself\", \"fillcolor\": \"#B8AC77\", \"hoveron\": \"fills\", \"hovertemplate\": \"<b>ID:%{name}</b>\", \"legendgroup\": \"CDS\", \"line\": {\"color\": \"#B8AC77\", \"width\": 0.1}, \"marker\": {\"size\": 0.1, \"symbol\": \"diamond-tall\"}, \"name\": \"S000034465\", \"showlegend\": false, \"type\": \"scatter\", \"x\": [82706, 82706, 83227, 83227, 82706], \"y\": [0, -10, -10, 0, 0]}, {\"fill\": \"toself\", \"fillcolor\": \"#B8AC77\", \"hoveron\": \"fills\", \"hovertemplate\": \"<b>ID:%{name}</b>\", \"legendgroup\": \"CDS\", \"line\": {\"color\": \"#B8AC77\", \"width\": 0.1}, \"marker\": {\"size\": 0.1, \"symbol\": \"diamond-tall\"}, \"name\": \"S000033375\", \"showlegend\": false, \"type\": \"scatter\", \"x\": [84669, 84669, 84977, 84977, 84669], \"y\": [0, -10, -10, 0, 0]}, {\"fill\": \"toself\", \"fillcolor\": \"#B8AC77\", \"hoveron\": \"fills\", \"hovertemplate\": \"<b>ID:%{name}</b>\", \"legendgroup\": \"CDS\", \"line\": {\"color\": \"#B8AC77\", \"width\": 0.1}, \"marker\": {\"size\": 0.1, \"symbol\": \"diamond-tall\"}, \"name\": \"S000033437\", \"showlegend\": false, \"type\": \"scatter\", \"x\": [87286, 87286, 87387, 87387, 87286], \"y\": [0, -10, -10, 0, 0]}, {\"fill\": \"toself\", \"fillcolor\": \"#B8AC77\", \"hoveron\": \"fills\", \"hovertemplate\": \"<b>ID:%{name}</b>\", \"legendgroup\": \"CDS\", \"line\": {\"color\": \"#B8AC77\", \"width\": 0.1}, \"marker\": {\"size\": 0.1, \"symbol\": \"diamond-tall\"}, \"name\": \"S000033438\", \"showlegend\": false, \"type\": \"scatter\", \"x\": [87501, 87501, 87752, 87752, 87501], \"y\": [0, -10, -10, 0, 0]}, {\"fill\": \"toself\", \"fillcolor\": \"#B8AC77\", \"hoveron\": \"fills\", \"hovertemplate\": \"<b>ID:%{name}</b>\", \"legendgroup\": \"CDS\", \"line\": {\"color\": \"#B8AC77\", \"width\": 0.1}, \"marker\": {\"size\": 0.1, \"symbol\": \"diamond-tall\"}, \"name\": \"S000033747\", \"showlegend\": false, \"type\": \"scatter\", \"x\": [92900, 92900, 94486, 94486, 92900], \"y\": [0, -10, -10, 0, 0]}, {\"fill\": \"toself\", \"fillcolor\": \"#B8AC77\", \"hoveron\": \"fills\", \"hovertemplate\": \"<b>ID:%{name}</b>\", \"legendgroup\": \"CDS\", \"line\": {\"color\": \"#B8AC77\", \"width\": 0.1}, \"marker\": {\"size\": 0.1, \"symbol\": \"diamond-tall\"}, \"name\": \"S000033629\", \"showlegend\": false, \"type\": \"scatter\", \"x\": [94687, 94687, 95472, 95472, 94687], \"y\": [0, -10, -10, 0, 0]}, {\"fill\": \"toself\", \"fillcolor\": \"#B8AC77\", \"hoveron\": \"fills\", \"hovertemplate\": \"<b>ID:%{name}</b>\", \"legendgroup\": \"CDS\", \"line\": {\"color\": \"#B8AC77\", \"width\": 0.1}, \"marker\": {\"size\": 0.1, \"symbol\": \"diamond-tall\"}, \"name\": \"S000032720\", \"showlegend\": false, \"type\": \"scatter\", \"x\": [114250, 114250, 114819, 114819, 114250], \"y\": [0, -10, -10, 0, 0]}, {\"fill\": \"toself\", \"fillcolor\": \"#B8AC77\", \"hoveron\": \"fills\", \"hovertemplate\": \"<b>ID:%{name}</b>\", \"legendgroup\": \"CDS\", \"line\": {\"color\": \"#B8AC77\", \"width\": 0.1}, \"marker\": {\"size\": 0.1, \"symbol\": \"diamond-tall\"}, \"name\": \"S000037555\", \"showlegend\": false, \"type\": \"scatter\", \"x\": [114919, 114919, 118314, 118314, 114919], \"y\": [0, -10, -10, 0, 0]}, {\"fill\": \"toself\", \"fillcolor\": \"#B8AC77\", \"hoveron\": \"fills\", \"hovertemplate\": \"<b>ID:%{name}</b>\", \"legendgroup\": \"CDS\", \"line\": {\"color\": \"#B8AC77\", \"width\": 0.1}, \"marker\": {\"size\": 0.1, \"symbol\": \"diamond-tall\"}, \"name\": \"S000031992\", \"showlegend\": false, \"type\": \"scatter\", \"x\": [120225, 120225, 124295, 124295, 120225], \"y\": [0, -10, -10, 0, 0]}, {\"fill\": \"toself\", \"fillcolor\": \"#B8AC77\", \"hoveron\": \"fills\", \"hovertemplate\": \"<b>ID:%{name}</b>\", \"legendgroup\": \"CDS\", \"line\": {\"color\": \"#B8AC77\", \"width\": 0.1}, \"marker\": {\"size\": 0.1, \"symbol\": \"diamond-tall\"}, \"name\": \"S000031874\", \"showlegend\": false, \"type\": \"scatter\", \"x\": [124879, 124879, 126786, 126786, 124879], \"y\": [0, -10, -10, 0, 0]}, {\"fill\": \"toself\", \"fillcolor\": \"#B8AC77\", \"hoveron\": \"fills\", \"hovertemplate\": \"<b>ID:%{name}</b>\", \"legendgroup\": \"CDS\", \"line\": {\"color\": \"#B8AC77\", \"width\": 0.1}, \"marker\": {\"size\": 0.1, \"symbol\": \"diamond-tall\"}, \"name\": \"S000036100\", \"showlegend\": false, \"type\": \"scatter\", \"x\": [129270, 129270, 130487, 130487, 129270], \"y\": [0, -10, -10, 0, 0]}, {\"fill\": \"toself\", \"fillcolor\": \"#B8AC77\", \"hoveron\": \"fills\", \"hovertemplate\": \"<b>ID:%{name}</b>\", \"legendgroup\": \"CDS\", \"line\": {\"color\": \"#B8AC77\", \"width\": 0.1}, \"marker\": {\"size\": 0.1, \"symbol\": \"diamond-tall\"}, \"name\": \"S000035250\", \"showlegend\": false, \"type\": \"scatter\", \"x\": [130799, 130799, 131983, 131983, 130799], \"y\": [0, -10, -10, 0, 0]}, {\"fill\": \"toself\", \"fillcolor\": \"#B8AC77\", \"hoveron\": \"fills\", \"hovertemplate\": \"<b>ID:%{name}</b>\", \"legendgroup\": \"CDS\", \"line\": {\"color\": \"#B8AC77\", \"width\": 0.1}, \"marker\": {\"size\": 0.1, \"symbol\": \"diamond-tall\"}, \"name\": \"S000035116\", \"showlegend\": false, \"type\": \"scatter\", \"x\": [132199, 132199, 134076, 134076, 132199], \"y\": [0, -10, -10, 0, 0]}, {\"fill\": \"toself\", \"fillcolor\": \"#B8AC77\", \"hoveron\": \"fills\", \"hovertemplate\": \"<b>ID:%{name}</b>\", \"legendgroup\": \"CDS\", \"line\": {\"color\": \"#B8AC77\", \"width\": 0.1}, \"marker\": {\"size\": 0.1, \"symbol\": \"diamond-tall\"}, \"name\": \"S000034070\", \"showlegend\": false, \"type\": \"scatter\", \"x\": [135854, 135854, 136633, 136633, 135854], \"y\": [0, -10, -10, 0, 0]}, {\"fill\": \"toself\", \"fillcolor\": \"#B8AC77\", \"hoveron\": \"fills\", \"hovertemplate\": \"<b>ID:%{name}</b>\", \"legendgroup\": \"CDS\", \"line\": {\"color\": \"#B8AC77\", \"width\": 0.1}, \"marker\": {\"size\": 0.1, \"symbol\": \"diamond-tall\"}, \"name\": \"S000033957\", \"showlegend\": false, \"type\": \"scatter\", \"x\": [136914, 136914, 137510, 137510, 136914], \"y\": [0, -10, -10, 0, 0]}, {\"fill\": \"toself\", \"fillcolor\": \"#B8AC77\", \"hoveron\": \"fills\", \"hovertemplate\": \"<b>ID:%{name}</b>\", \"legendgroup\": \"CDS\", \"line\": {\"color\": \"#B8AC77\", \"width\": 0.1}, \"marker\": {\"size\": 0.1, \"symbol\": \"diamond-tall\"}, \"name\": \"S000032057\", \"showlegend\": false, \"type\": \"scatter\", \"x\": [140760, 140760, 141407, 141407, 140760], \"y\": [0, -10, -10, 0, 0]}, {\"fill\": \"toself\", \"fillcolor\": \"#B8AC77\", \"hoveron\": \"fills\", \"hovertemplate\": \"<b>ID:%{name}</b>\", \"legendgroup\": \"CDS\", \"line\": {\"color\": \"#B8AC77\", \"width\": 0.1}, \"marker\": {\"size\": 0.1, \"symbol\": \"diamond-tall\"}, \"name\": \"S000031941\", \"showlegend\": false, \"type\": \"scatter\", \"x\": [142174, 142174, 142253, 142253, 142174], \"y\": [0, -10, -10, 0, 0]}, {\"fill\": \"toself\", \"fillcolor\": \"#B8AC77\", \"hoveron\": \"fills\", \"hovertemplate\": \"<b>ID:%{name}</b>\", \"legendgroup\": \"CDS\", \"line\": {\"color\": \"#B8AC77\", \"width\": 0.1}, \"marker\": {\"size\": 0.1, \"symbol\": \"diamond-tall\"}, \"name\": \"S000031942\", \"showlegend\": false, \"type\": \"scatter\", \"x\": [142620, 142620, 143160, 143160, 142620], \"y\": [0, -10, -10, 0, 0]}, {\"fill\": \"toself\", \"fillcolor\": \"#B8AC77\", \"hoveron\": \"fills\", \"hovertemplate\": \"<b>ID:%{name}</b>\", \"legendgroup\": \"CDS\", \"line\": {\"color\": \"#B8AC77\", \"width\": 0.1}, \"marker\": {\"size\": 0.1, \"symbol\": \"diamond-tall\"}, \"name\": \"S000031737\", \"showlegend\": false, \"type\": \"scatter\", \"x\": [143707, 143707, 147531, 147531, 143707], \"y\": [0, -10, -10, 0, 0]}, {\"fill\": \"toself\", \"fillcolor\": \"black\", \"hoveron\": \"fills\", \"hovertemplate\": \"<b>ID:%{name}</b>\", \"legendgroup\": \"centromere\", \"line\": {\"color\": \"black\", \"width\": 0.1}, \"marker\": {\"size\": 0.1, \"symbol\": \"diamond-tall\"}, \"name\": \"S000006463\", \"showlegend\": false, \"type\": \"scatter\", \"x\": [151465, 151465, 151582, 151582, 151465], \"y\": [0, -10, -10, 0, 0]}, {\"fill\": \"toself\", \"fillcolor\": \"#B8AC77\", \"hoveron\": \"fills\", \"hovertemplate\": \"<b>ID:%{name}</b>\", \"legendgroup\": \"CDS\", \"line\": {\"color\": \"#B8AC77\", \"width\": 0.1}, \"marker\": {\"size\": 0.1, \"symbol\": \"diamond-tall\"}, \"name\": \"S000035473\", \"showlegend\": false, \"type\": \"scatter\", \"x\": [152257, 152257, 153876, 153876, 152257], \"y\": [0, -10, -10, 0, 0]}, {\"fill\": \"toself\", \"fillcolor\": \"#B8AC77\", \"hoveron\": \"fills\", \"hovertemplate\": \"<b>ID:%{name}</b>\", \"legendgroup\": \"CDS\", \"line\": {\"color\": \"#B8AC77\", \"width\": 0.1}, \"marker\": {\"size\": 0.1, \"symbol\": \"diamond-tall\"}, \"name\": \"S000035547\", \"showlegend\": false, \"type\": \"scatter\", \"x\": [155005, 155005, 156285, 156285, 155005], \"y\": [0, -10, -10, 0, 0]}, {\"fill\": \"toself\", \"fillcolor\": \"#B8AC77\", \"hoveron\": \"fills\", \"hovertemplate\": \"<b>ID:%{name}</b>\", \"legendgroup\": \"CDS\", \"line\": {\"color\": \"#B8AC77\", \"width\": 0.1}, \"marker\": {\"size\": 0.1, \"symbol\": \"diamond-tall\"}, \"name\": \"S000037450\", \"showlegend\": false, \"type\": \"scatter\", \"x\": [158966, 158966, 159793, 159793, 158966], \"y\": [0, -10, -10, 0, 0]}, {\"fill\": \"toself\", \"fillcolor\": \"#B8AC77\", \"hoveron\": \"fills\", \"hovertemplate\": \"<b>ID:%{name}</b>\", \"legendgroup\": \"CDS\", \"line\": {\"color\": \"#B8AC77\", \"width\": 0.1}, \"marker\": {\"size\": 0.1, \"symbol\": \"diamond-tall\"}, \"name\": \"S000031548\", \"showlegend\": false, \"type\": \"scatter\", \"x\": [169375, 169375, 170295, 170295, 169375], \"y\": [0, -10, -10, 0, 0]}, {\"fill\": \"toself\", \"fillcolor\": \"#B8AC77\", \"hoveron\": \"fills\", \"hovertemplate\": \"<b>ID:%{name}</b>\", \"legendgroup\": \"CDS\", \"line\": {\"color\": \"#B8AC77\", \"width\": 0.1}, \"marker\": {\"size\": 0.1, \"symbol\": \"diamond-tall\"}, \"name\": \"S000033379\", \"showlegend\": false, \"type\": \"scatter\", \"x\": [174998, 174998, 175330, 175330, 174998], \"y\": [0, -10, -10, 0, 0]}, {\"fill\": \"toself\", \"fillcolor\": \"#B8AC77\", \"hoveron\": \"fills\", \"hovertemplate\": \"<b>ID:%{name}</b>\", \"legendgroup\": \"CDS\", \"line\": {\"color\": \"#B8AC77\", \"width\": 0.1}, \"marker\": {\"size\": 0.1, \"symbol\": \"diamond-tall\"}, \"name\": \"S000036855\", \"showlegend\": false, \"type\": \"scatter\", \"x\": [183770, 183770, 184477, 184477, 183770], \"y\": [0, -10, -10, 0, 0]}, {\"fill\": \"toself\", \"fillcolor\": \"#B8AC77\", \"hoveron\": \"fills\", \"hovertemplate\": \"<b>ID:%{name}</b>\", \"legendgroup\": \"CDS\", \"line\": {\"color\": \"#B8AC77\", \"width\": 0.1}, \"marker\": {\"size\": 0.1, \"symbol\": \"diamond-tall\"}, \"name\": \"S000036899\", \"showlegend\": false, \"type\": \"scatter\", \"x\": [184892, 184892, 185596, 185596, 184892], \"y\": [0, -10, -10, 0, 0]}, {\"fill\": \"toself\", \"fillcolor\": \"#B8AC77\", \"hoveron\": \"fills\", \"hovertemplate\": \"<b>ID:%{name}</b>\", \"legendgroup\": \"CDS\", \"line\": {\"color\": \"#B8AC77\", \"width\": 0.1}, \"marker\": {\"size\": 0.1, \"symbol\": \"diamond-tall\"}, \"name\": \"S000036967\", \"showlegend\": false, \"type\": \"scatter\", \"x\": [186321, 186321, 186545, 186545, 186321], \"y\": [0, -10, -10, 0, 0]}, {\"fill\": \"toself\", \"fillcolor\": \"#B8AC77\", \"hoveron\": \"fills\", \"hovertemplate\": \"<b>ID:%{name}</b>\", \"legendgroup\": \"CDS\", \"line\": {\"color\": \"#B8AC77\", \"width\": 0.1}, \"marker\": {\"size\": 0.1, \"symbol\": \"diamond-tall\"}, \"name\": \"S000030609\", \"showlegend\": false, \"type\": \"scatter\", \"x\": [186836, 186836, 187732, 187732, 186836], \"y\": [0, -10, -10, 0, 0]}, {\"fill\": \"toself\", \"fillcolor\": \"#B8AC77\", \"hoveron\": \"fills\", \"hovertemplate\": \"<b>ID:%{name}</b>\", \"legendgroup\": \"CDS\", \"line\": {\"color\": \"#B8AC77\", \"width\": 0.1}, \"marker\": {\"size\": 0.1, \"symbol\": \"diamond-tall\"}, \"name\": \"S000030819\", \"showlegend\": false, \"type\": \"scatter\", \"x\": [188107, 188107, 188811, 188811, 188107], \"y\": [0, -10, -10, 0, 0]}, {\"fill\": \"toself\", \"fillcolor\": \"#B8AC77\", \"hoveron\": \"fills\", \"hovertemplate\": \"<b>ID:%{name}</b>\", \"legendgroup\": \"CDS\", \"line\": {\"color\": \"#B8AC77\", \"width\": 0.1}, \"marker\": {\"size\": 0.1, \"symbol\": \"diamond-tall\"}, \"name\": \"S000031976\", \"showlegend\": false, \"type\": \"scatter\", \"x\": [190193, 190193, 192256, 192256, 190193], \"y\": [0, -10, -10, 0, 0]}, {\"fill\": \"toself\", \"fillcolor\": \"#B8AC77\", \"hoveron\": \"fills\", \"hovertemplate\": \"<b>ID:%{name}</b>\", \"legendgroup\": \"CDS\", \"line\": {\"color\": \"#B8AC77\", \"width\": 0.1}, \"marker\": {\"size\": 0.1, \"symbol\": \"diamond-tall\"}, \"name\": \"S000035065\", \"showlegend\": false, \"type\": \"scatter\", \"x\": [192619, 192619, 196185, 196185, 192619], \"y\": [0, -10, -10, 0, 0]}, {\"fill\": \"toself\", \"fillcolor\": \"#B8AC77\", \"hoveron\": \"fills\", \"hovertemplate\": \"<b>ID:%{name}</b>\", \"legendgroup\": \"CDS\", \"line\": {\"color\": \"#B8AC77\", \"width\": 0.1}, \"marker\": {\"size\": 0.1, \"symbol\": \"diamond-tall\"}, \"name\": \"S000036444\", \"showlegend\": false, \"type\": \"scatter\", \"x\": [203403, 203403, 208016, 208016, 203403], \"y\": [0, -10, -10, 0, 0]}, {\"fill\": \"toself\", \"fillcolor\": \"#B8AC77\", \"hoveron\": \"fills\", \"hovertemplate\": \"<b>ID:%{name}</b>\", \"legendgroup\": \"CDS\", \"line\": {\"color\": \"#B8AC77\", \"width\": 0.1}, \"marker\": {\"size\": 0.1, \"symbol\": \"diamond-tall\"}, \"name\": \"S000037285\", \"showlegend\": false, \"type\": \"scatter\", \"x\": [208367, 208367, 208663, 208663, 208367], \"y\": [0, -10, -10, 0, 0]}, {\"fill\": \"toself\", \"fillcolor\": \"#B8AC77\", \"hoveron\": \"fills\", \"hovertemplate\": \"<b>ID:%{name}</b>\", \"legendgroup\": \"CDS\", \"line\": {\"color\": \"#B8AC77\", \"width\": 0.1}, \"marker\": {\"size\": 0.1, \"symbol\": \"diamond-tall\"}, \"name\": \"S000033393\", \"showlegend\": false, \"type\": \"scatter\", \"x\": [218140, 218140, 219145, 219145, 218140], \"y\": [0, -10, -10, 0, 0]}, {\"fill\": \"toself\", \"fillcolor\": \"#B8AC77\", \"hoveron\": \"fills\", \"hovertemplate\": \"<b>ID:%{name}</b>\", \"legendgroup\": \"CDS\", \"line\": {\"color\": \"#B8AC77\", \"width\": 0.1}, \"marker\": {\"size\": 0.1, \"symbol\": \"diamond-tall\"}, \"name\": \"S000033577\", \"showlegend\": false, \"type\": \"scatter\", \"x\": [220198, 220198, 220497, 220497, 220198], \"y\": [0, -10, -10, 0, 0]}, {\"fill\": \"toself\", \"fillcolor\": \"#B8AC77\", \"hoveron\": \"fills\", \"hovertemplate\": \"<b>ID:%{name}</b>\", \"legendgroup\": \"CDS\", \"line\": {\"color\": \"#B8AC77\", \"width\": 0.1}, \"marker\": {\"size\": 0.1, \"symbol\": \"diamond-tall\"}, \"name\": \"S000034603\", \"showlegend\": false, \"type\": \"scatter\", \"x\": [221049, 221049, 221660, 221660, 221049], \"y\": [0, -10, -10, 0, 0]}, {\"fill\": \"toself\", \"fillcolor\": \"#B8AC77\", \"hoveron\": \"fills\", \"hovertemplate\": \"<b>ID:%{name}</b>\", \"legendgroup\": \"CDS\", \"line\": {\"color\": \"#B8AC77\", \"width\": 0.1}, \"marker\": {\"size\": 0.1, \"symbol\": \"diamond-tall\"}, \"name\": \"S000035691\", \"showlegend\": false, \"type\": \"scatter\", \"x\": [222406, 222406, 222891, 222891, 222406], \"y\": [0, -10, -10, 0, 0]}, {\"fill\": \"toself\", \"fillcolor\": \"#B8AC77\", \"hoveron\": \"fills\", \"hovertemplate\": \"<b>ID:%{name}</b>\", \"legendgroup\": \"CDS\", \"line\": {\"color\": \"#B8AC77\", \"width\": 0.1}, \"marker\": {\"size\": 0.1, \"symbol\": \"diamond-tall\"}, \"name\": \"S000036824\", \"showlegend\": false, \"type\": \"scatter\", \"x\": [225460, 225460, 226863, 226863, 225460], \"y\": [0, -10, -10, 0, 0]}, {\"fill\": \"toself\", \"fillcolor\": \"#B8AC77\", \"hoveron\": \"fills\", \"hovertemplate\": \"<b>ID:%{name}</b>\", \"legendgroup\": \"CDS\", \"line\": {\"color\": \"#B8AC77\", \"width\": 0.1}, \"marker\": {\"size\": 0.1, \"symbol\": \"diamond-tall\"}, \"name\": \"S000037618\", \"showlegend\": false, \"type\": \"scatter\", \"x\": [227742, 227742, 228953, 228953, 227742], \"y\": [0, -10, -10, 0, 0]}, {\"fill\": \"toself\", \"fillcolor\": \"#B8AC77\", \"hoveron\": \"fills\", \"hovertemplate\": \"<b>ID:%{name}</b>\", \"legendgroup\": \"CDS\", \"line\": {\"color\": \"#B8AC77\", \"width\": 0.1}, \"marker\": {\"size\": 0.1, \"symbol\": \"diamond-tall\"}, \"name\": \"S000037740\", \"showlegend\": false, \"type\": \"scatter\", \"x\": [228844, 228844, 229317, 229317, 228844], \"y\": [0, -10, -10, 0, 0]}, {\"fill\": \"toself\", \"fillcolor\": \"black\", \"hoveron\": \"fills\", \"hovertemplate\": \"<b>ID:%{name}</b>\", \"legendgroup\": \"telomere\", \"line\": {\"color\": \"black\", \"width\": 0.1}, \"marker\": {\"size\": 0.1, \"symbol\": \"diamond-tall\"}, \"name\": \"S000028937\", \"showlegend\": false, \"type\": \"scatter\", \"x\": [229411, 229411, 230218, 230218, 229411], \"y\": [0, -10, -10, 0, 0]}, {\"fill\": \"toself\", \"fillcolor\": \"black\", \"hoveron\": \"fills\", \"hovertemplate\": \"<b>ID:%{name}</b>\", \"legendgroup\": \"telomere\", \"line\": {\"color\": \"black\", \"width\": 0.1}, \"marker\": {\"size\": 0.1, \"symbol\": \"diamond-tall\"}, \"name\": \"S000028862\", \"showlegend\": false, \"type\": \"scatter\", \"x\": [801, 801, 1, 1, 801], \"y\": [-11, -20, -20, -11, -11]}, {\"fill\": \"toself\", \"fillcolor\": \"#B8AC77\", \"hoveron\": \"fills\", \"hovertemplate\": \"<b>ID:%{name}</b>\", \"legendgroup\": \"CDS\", \"line\": {\"color\": \"#B8AC77\", \"width\": 0.1}, \"marker\": {\"size\": 0.1, \"symbol\": \"diamond-tall\"}, \"name\": \"S000030944\", \"showlegend\": false, \"type\": \"scatter\", \"x\": [2169, 2169, 1807, 1807, 2169], \"y\": [-11, -20, -20, -11, -11]}, {\"fill\": \"toself\", \"fillcolor\": \"#B8AC77\", \"hoveron\": \"fills\", \"hovertemplate\": \"<b>ID:%{name}</b>\", \"legendgroup\": \"CDS\", \"line\": {\"color\": \"#B8AC77\", \"width\": 0.1}, \"marker\": {\"size\": 0.1, \"symbol\": \"diamond-tall\"}, \"name\": \"S000029932\", \"showlegend\": false, \"type\": \"scatter\", \"x\": [9016, 9016, 7235, 7235, 9016], \"y\": [-11, -20, -20, -11, -11]}, {\"fill\": \"toself\", \"fillcolor\": \"#B8AC77\", \"hoveron\": \"fills\", \"hovertemplate\": \"<b>ID:%{name}</b>\", \"legendgroup\": \"CDS\", \"line\": {\"color\": \"#B8AC77\", \"width\": 0.1}, \"marker\": {\"size\": 0.1, \"symbol\": \"diamond-tall\"}, \"name\": \"S000037154\", \"showlegend\": false, \"type\": \"scatter\", \"x\": [11951, 11951, 11565, 11565, 11951], \"y\": [-11, -20, -20, -11, -11]}, {\"fill\": \"toself\", \"fillcolor\": \"#B8AC77\", \"hoveron\": \"fills\", \"hovertemplate\": \"<b>ID:%{name}</b>\", \"legendgroup\": \"CDS\", \"line\": {\"color\": \"#B8AC77\", \"width\": 0.1}, \"marker\": {\"size\": 0.1, \"symbol\": \"diamond-tall\"}, \"name\": \"S000031541\", \"showlegend\": false, \"type\": \"scatter\", \"x\": [13743, 13743, 13363, 13363, 13743], \"y\": [-11, -20, -20, -11, -11]}, {\"fill\": \"toself\", \"fillcolor\": \"#B8AC77\", \"hoveron\": \"fills\", \"hovertemplate\": \"<b>ID:%{name}</b>\", \"legendgroup\": \"CDS\", \"line\": {\"color\": \"#B8AC77\", \"width\": 0.1}, \"marker\": {\"size\": 0.1, \"symbol\": \"diamond-tall\"}, \"name\": \"S000033613\", \"showlegend\": false, \"type\": \"scatter\", \"x\": [22685, 22685, 22395, 22395, 22685], \"y\": [-11, -20, -20, -11, -11]}, {\"fill\": \"toself\", \"fillcolor\": \"#B8AC77\", \"hoveron\": \"fills\", \"hovertemplate\": \"<b>ID:%{name}</b>\", \"legendgroup\": \"CDS\", \"line\": {\"color\": \"#B8AC77\", \"width\": 0.1}, \"marker\": {\"size\": 0.1, \"symbol\": \"diamond-tall\"}, \"name\": \"S000036982\", \"showlegend\": false, \"type\": \"scatter\", \"x\": [27968, 27968, 24000, 24000, 27968], \"y\": [-11, -20, -20, -11, -11]}, {\"fill\": \"toself\", \"fillcolor\": \"#B8AC77\", \"hoveron\": \"fills\", \"hovertemplate\": \"<b>ID:%{name}</b>\", \"legendgroup\": \"CDS\", \"line\": {\"color\": \"#B8AC77\", \"width\": 0.1}, \"marker\": {\"size\": 0.1, \"symbol\": \"diamond-tall\"}, \"name\": \"S000033378\", \"showlegend\": false, \"type\": \"scatter\", \"x\": [36918, 36918, 36496, 36496, 36918], \"y\": [-11, -20, -20, -11, -11]}, {\"fill\": \"toself\", \"fillcolor\": \"#B8AC77\", \"hoveron\": \"fills\", \"hovertemplate\": \"<b>ID:%{name}</b>\", \"legendgroup\": \"CDS\", \"line\": {\"color\": \"#B8AC77\", \"width\": 0.1}, \"marker\": {\"size\": 0.1, \"symbol\": \"diamond-tall\"}, \"name\": \"S000035879\", \"showlegend\": false, \"type\": \"scatter\", \"x\": [39046, 39046, 38696, 38696, 39046], \"y\": [-11, -20, -20, -11, -11]}, {\"fill\": \"toself\", \"fillcolor\": \"#B8AC77\", \"hoveron\": \"fills\", \"hovertemplate\": \"<b>ID:%{name}</b>\", \"legendgroup\": \"CDS\", \"line\": {\"color\": \"#B8AC77\", \"width\": 0.1}, \"marker\": {\"size\": 0.1, \"symbol\": \"diamond-tall\"}, \"name\": \"S000033073\", \"showlegend\": false, \"type\": \"scatter\", \"x\": [45022, 45022, 42881, 42881, 45022], \"y\": [-11, -20, -20, -11, -11]}, {\"fill\": \"toself\", \"fillcolor\": \"#B8AC77\", \"hoveron\": \"fills\", \"hovertemplate\": \"<b>ID:%{name}</b>\", \"legendgroup\": \"CDS\", \"line\": {\"color\": \"#B8AC77\", \"width\": 0.1}, \"marker\": {\"size\": 0.1, \"symbol\": \"diamond-tall\"}, \"name\": \"S000031896\", \"showlegend\": false, \"type\": \"scatter\", \"x\": [52595, 52595, 51855, 51855, 52595], \"y\": [-11, -20, -20, -11, -11]}, {\"fill\": \"toself\", \"fillcolor\": \"#B8AC77\", \"hoveron\": \"fills\", \"hovertemplate\": \"<b>ID:%{name}</b>\", \"legendgroup\": \"CDS\", \"line\": {\"color\": \"#B8AC77\", \"width\": 0.1}, \"marker\": {\"size\": 0.1, \"symbol\": \"diamond-tall\"}, \"name\": \"S000030895\", \"showlegend\": false, \"type\": \"scatter\", \"x\": [54789, 54789, 52801, 52801, 54789], \"y\": [-11, -20, -20, -11, -11]}, {\"fill\": \"toself\", \"fillcolor\": \"#B8AC77\", \"hoveron\": \"fills\", \"hovertemplate\": \"<b>ID:%{name}</b>\", \"legendgroup\": \"CDS\", \"line\": {\"color\": \"#B8AC77\", \"width\": 0.1}, \"marker\": {\"size\": 0.1, \"symbol\": \"diamond-tall\"}, \"name\": \"S000030803\", \"showlegend\": false, \"type\": \"scatter\", \"x\": [56857, 56857, 54989, 54989, 56857], \"y\": [-11, -20, -20, -11, -11]}, {\"fill\": \"toself\", \"fillcolor\": \"#B8AC77\", \"hoveron\": \"fills\", \"hovertemplate\": \"<b>ID:%{name}</b>\", \"legendgroup\": \"CDS\", \"line\": {\"color\": \"#B8AC77\", \"width\": 0.1}, \"marker\": {\"size\": 0.1, \"symbol\": \"diamond-tall\"}, \"name\": \"S000030666\", \"showlegend\": false, \"type\": \"scatter\", \"x\": [57385, 57385, 57029, 57029, 57385], \"y\": [-11, -20, -20, -11, -11]}, {\"fill\": \"toself\", \"fillcolor\": \"#B8AC77\", \"hoveron\": \"fills\", \"hovertemplate\": \"<b>ID:%{name}</b>\", \"legendgroup\": \"CDS\", \"line\": {\"color\": \"#B8AC77\", \"width\": 0.1}, \"marker\": {\"size\": 0.1, \"symbol\": \"diamond-tall\"}, \"name\": \"S000030576\", \"showlegend\": false, \"type\": \"scatter\", \"x\": [57796, 57796, 57488, 57488, 57796], \"y\": [-11, -20, -20, -11, -11]}, {\"fill\": \"toself\", \"fillcolor\": \"#B8AC77\", \"hoveron\": \"fills\", \"hovertemplate\": \"<b>ID:%{name}</b>\", \"legendgroup\": \"CDS\", \"line\": {\"color\": \"#B8AC77\", \"width\": 0.1}, \"marker\": {\"size\": 0.1, \"symbol\": \"diamond-tall\"}, \"name\": \"S000037751\", \"showlegend\": false, \"type\": \"scatter\", \"x\": [58462, 58462, 57950, 57950, 58462], \"y\": [-11, -20, -20, -11, -11]}, {\"fill\": \"toself\", \"fillcolor\": \"#B8AC77\", \"hoveron\": \"fills\", \"hovertemplate\": \"<b>ID:%{name}</b>\", \"legendgroup\": \"CDS\", \"line\": {\"color\": \"#B8AC77\", \"width\": 0.1}, \"marker\": {\"size\": 0.1, \"symbol\": \"diamond-tall\"}, \"name\": \"S000037691\", \"showlegend\": false, \"type\": \"scatter\", \"x\": [61052, 61052, 58695, 58695, 61052], \"y\": [-11, -20, -20, -11, -11]}, {\"fill\": \"toself\", \"fillcolor\": \"#B8AC77\", \"hoveron\": \"fills\", \"hovertemplate\": \"<b>ID:%{name}</b>\", \"legendgroup\": \"CDS\", \"line\": {\"color\": \"#B8AC77\", \"width\": 0.1}, \"marker\": {\"size\": 0.1, \"symbol\": \"diamond-tall\"}, \"name\": \"S000030422\", \"showlegend\": false, \"type\": \"scatter\", \"x\": [61608, 61608, 61231, 61231, 61608], \"y\": [-11, -20, -20, -11, -11]}, {\"fill\": \"toself\", \"fillcolor\": \"#B8AC77\", \"hoveron\": \"fills\", \"hovertemplate\": \"<b>ID:%{name}</b>\", \"legendgroup\": \"CDS\", \"line\": {\"color\": \"#B8AC77\", \"width\": 0.1}, \"marker\": {\"size\": 0.1, \"symbol\": \"diamond-tall\"}, \"name\": \"S000036825\", \"showlegend\": false, \"type\": \"scatter\", \"x\": [67520, 67520, 65778, 65778, 67520], \"y\": [-11, -20, -20, -11, -11]}, {\"fill\": \"toself\", \"fillcolor\": \"#B8AC77\", \"hoveron\": \"fills\", \"hovertemplate\": \"<b>ID:%{name}</b>\", \"legendgroup\": \"CDS\", \"line\": {\"color\": \"#B8AC77\", \"width\": 0.1}, \"marker\": {\"size\": 0.1, \"symbol\": \"diamond-tall\"}, \"name\": \"S000035956\", \"showlegend\": false, \"type\": \"scatter\", \"x\": [69525, 69525, 68716, 68716, 69525], \"y\": [-11, -20, -20, -11, -11]}, {\"fill\": \"toself\", \"fillcolor\": \"#B8AC77\", \"hoveron\": \"fills\", \"hovertemplate\": \"<b>ID:%{name}</b>\", \"legendgroup\": \"CDS\", \"line\": {\"color\": \"#B8AC77\", \"width\": 0.1}, \"marker\": {\"size\": 0.1, \"symbol\": \"diamond-tall\"}, \"name\": \"S000031366\", \"showlegend\": false, \"type\": \"scatter\", \"x\": [73300, 73300, 72326, 72326, 73300], \"y\": [-11, -20, -20, -11, -11]}, {\"fill\": \"toself\", \"fillcolor\": \"#B8AC77\", \"hoveron\": \"fills\", \"hovertemplate\": \"<b>ID:%{name}</b>\", \"legendgroup\": \"CDS\", \"line\": {\"color\": \"#B8AC77\", \"width\": 0.1}, \"marker\": {\"size\": 0.1, \"symbol\": \"diamond-tall\"}, \"name\": \"S000033376\", \"showlegend\": false, \"type\": \"scatter\", \"x\": [73518, 73518, 73426, 73426, 73518], \"y\": [-11, -20, -20, -11, -11]}, {\"fill\": \"toself\", \"fillcolor\": \"#B8AC77\", \"hoveron\": \"fills\", \"hovertemplate\": \"<b>ID:%{name}</b>\", \"legendgroup\": \"CDS\", \"line\": {\"color\": \"#B8AC77\", \"width\": 0.1}, \"marker\": {\"size\": 0.1, \"symbol\": \"diamond-tall\"}, \"name\": \"S000034719\", \"showlegend\": false, \"type\": \"scatter\", \"x\": [76152, 76152, 75043, 75043, 76152], \"y\": [-11, -20, -20, -11, -11]}, {\"fill\": \"toself\", \"fillcolor\": \"#B8AC77\", \"hoveron\": \"fills\", \"hovertemplate\": \"<b>ID:%{name}</b>\", \"legendgroup\": \"CDS\", \"line\": {\"color\": \"#B8AC77\", \"width\": 0.1}, \"marker\": {\"size\": 0.1, \"symbol\": \"diamond-tall\"}, \"name\": \"S000031374\", \"showlegend\": false, \"type\": \"scatter\", \"x\": [79842, 79842, 79489, 79489, 79842], \"y\": [-11, -20, -20, -11, -11]}, {\"fill\": \"toself\", \"fillcolor\": \"#B8AC77\", \"hoveron\": \"fills\", \"hovertemplate\": \"<b>ID:%{name}</b>\", \"legendgroup\": \"CDS\", \"line\": {\"color\": \"#B8AC77\", \"width\": 0.1}, \"marker\": {\"size\": 0.1, \"symbol\": \"diamond-tall\"}, \"name\": \"S000034508\", \"showlegend\": false, \"type\": \"scatter\", \"x\": [81951, 81951, 80710, 80710, 81951], \"y\": [-11, -20, -20, -11, -11]}, {\"fill\": \"toself\", \"fillcolor\": \"#B8AC77\", \"hoveron\": \"fills\", \"hovertemplate\": \"<b>ID:%{name}</b>\", \"legendgroup\": \"CDS\", \"line\": {\"color\": \"#B8AC77\", \"width\": 0.1}, \"marker\": {\"size\": 0.1, \"symbol\": \"diamond-tall\"}, \"name\": \"S000033541\", \"showlegend\": false, \"type\": \"scatter\", \"x\": [84474, 84474, 83335, 83335, 84474], \"y\": [-11, -20, -20, -11, -11]}, {\"fill\": \"toself\", \"fillcolor\": \"#B8AC77\", \"hoveron\": \"fills\", \"hovertemplate\": \"<b>ID:%{name}</b>\", \"legendgroup\": \"CDS\", \"line\": {\"color\": \"#B8AC77\", \"width\": 0.1}, \"marker\": {\"size\": 0.1, \"symbol\": \"diamond-tall\"}, \"name\": \"S000033476\", \"showlegend\": false, \"type\": \"scatter\", \"x\": [87031, 87031, 84749, 84749, 87031], \"y\": [-11, -20, -20, -11, -11]}, {\"fill\": \"toself\", \"fillcolor\": \"#B8AC77\", \"hoveron\": \"fills\", \"hovertemplate\": \"<b>ID:%{name}</b>\", \"legendgroup\": \"CDS\", \"line\": {\"color\": \"#B8AC77\", \"width\": 0.1}, \"marker\": {\"size\": 0.1, \"symbol\": \"diamond-tall\"}, \"name\": \"S000033821\", \"showlegend\": false, \"type\": \"scatter\", \"x\": [92270, 92270, 87855, 87855, 92270], \"y\": [-11, -20, -20, -11, -11]}, {\"fill\": \"toself\", \"fillcolor\": \"#B8AC77\", \"hoveron\": \"fills\", \"hovertemplate\": \"<b>ID:%{name}</b>\", \"legendgroup\": \"CDS\", \"line\": {\"color\": \"#B8AC77\", \"width\": 0.1}, \"marker\": {\"size\": 0.1, \"symbol\": \"diamond-tall\"}, \"name\": \"S000033374\", \"showlegend\": false, \"type\": \"scatter\", \"x\": [95823, 95823, 95386, 95386, 95823], \"y\": [-11, -20, -20, -11, -11]}, {\"fill\": \"toself\", \"fillcolor\": \"#B8AC77\", \"hoveron\": \"fills\", \"hovertemplate\": \"<b>ID:%{name}</b>\", \"legendgroup\": \"CDS\", \"line\": {\"color\": \"#B8AC77\", \"width\": 0.1}, \"marker\": {\"size\": 0.1, \"symbol\": \"diamond-tall\"}, \"name\": \"S000030197\", \"showlegend\": false, \"type\": \"scatter\", \"x\": [99697, 99697, 95630, 95630, 99697], \"y\": [-11, -20, -20, -11, -11]}, {\"fill\": \"toself\", \"fillcolor\": \"#B8AC77\", \"hoveron\": \"fills\", \"hovertemplate\": \"<b>ID:%{name}</b>\", \"legendgroup\": \"CDS\", \"line\": {\"color\": \"#B8AC77\", \"width\": 0.1}, \"marker\": {\"size\": 0.1, \"symbol\": \"diamond-tall\"}, \"name\": \"S000030064\", \"showlegend\": false, \"type\": \"scatter\", \"x\": [101145, 101145, 100225, 100225, 101145], \"y\": [-11, -20, -20, -11, -11]}, {\"fill\": \"toself\", \"fillcolor\": \"#B8AC77\", \"hoveron\": \"fills\", \"hovertemplate\": \"<b>ID:%{name}</b>\", \"legendgroup\": \"CDS\", \"line\": {\"color\": \"#B8AC77\", \"width\": 0.1}, \"marker\": {\"size\": 0.1, \"symbol\": \"diamond-tall\"}, \"name\": \"S000029981\", \"showlegend\": false, \"type\": \"scatter\", \"x\": [105872, 105872, 101565, 101565, 105872], \"y\": [-11, -20, -20, -11, -11]}, {\"fill\": \"toself\", \"fillcolor\": \"#B8AC77\", \"hoveron\": \"fills\", \"hovertemplate\": \"<b>ID:%{name}</b>\", \"legendgroup\": \"CDS\", \"line\": {\"color\": \"#B8AC77\", \"width\": 0.1}, \"marker\": {\"size\": 0.1, \"symbol\": \"diamond-tall\"}, \"name\": \"S000037355\", \"showlegend\": false, \"type\": \"scatter\", \"x\": [108551, 108551, 106272, 106272, 108551], \"y\": [-11, -20, -20, -11, -11]}, {\"fill\": \"toself\", \"fillcolor\": \"#B8AC77\", \"hoveron\": \"fills\", \"hovertemplate\": \"<b>ID:%{name}</b>\", \"legendgroup\": \"CDS\", \"line\": {\"color\": \"#B8AC77\", \"width\": 0.1}, \"marker\": {\"size\": 0.1, \"symbol\": \"diamond-tall\"}, \"name\": \"S000037286\", \"showlegend\": false, \"type\": \"scatter\", \"x\": [110430, 110430, 108877, 108877, 110430], \"y\": [-11, -20, -20, -11, -11]}, {\"fill\": \"toself\", \"fillcolor\": \"#B8AC77\", \"hoveron\": \"fills\", \"hovertemplate\": \"<b>ID:%{name}</b>\", \"legendgroup\": \"CDS\", \"line\": {\"color\": \"#B8AC77\", \"width\": 0.1}, \"marker\": {\"size\": 0.1, \"symbol\": \"diamond-tall\"}, \"name\": \"S000037200\", \"showlegend\": false, \"type\": \"scatter\", \"x\": [113359, 113359, 110846, 110846, 113359], \"y\": [-11, -20, -20, -11, -11]}, {\"fill\": \"toself\", \"fillcolor\": \"#B8AC77\", \"hoveron\": \"fills\", \"hovertemplate\": \"<b>ID:%{name}</b>\", \"legendgroup\": \"CDS\", \"line\": {\"color\": \"#B8AC77\", \"width\": 0.1}, \"marker\": {\"size\": 0.1, \"symbol\": \"diamond-tall\"}, \"name\": \"S000037124\", \"showlegend\": false, \"type\": \"scatter\", \"x\": [114615, 114615, 113614, 113614, 114615], \"y\": [-11, -20, -20, -11, -11]}, {\"fill\": \"toself\", \"fillcolor\": \"#B8AC77\", \"hoveron\": \"fills\", \"hovertemplate\": \"<b>ID:%{name}</b>\", \"legendgroup\": \"CDS\", \"line\": {\"color\": \"#B8AC77\", \"width\": 0.1}, \"marker\": {\"size\": 0.1, \"symbol\": \"diamond-tall\"}, \"name\": \"S000032033\", \"showlegend\": false, \"type\": \"scatter\", \"x\": [119541, 119541, 118564, 118564, 119541], \"y\": [-11, -20, -20, -11, -11]}, {\"fill\": \"toself\", \"fillcolor\": \"#B8AC77\", \"hoveron\": \"fills\", \"hovertemplate\": \"<b>ID:%{name}</b>\", \"legendgroup\": \"CDS\", \"line\": {\"color\": \"#B8AC77\", \"width\": 0.1}, \"marker\": {\"size\": 0.1, \"symbol\": \"diamond-tall\"}, \"name\": \"S000030333\", \"showlegend\": false, \"type\": \"scatter\", \"x\": [124492, 124492, 124307, 124307, 124492], \"y\": [-11, -20, -20, -11, -11]}, {\"fill\": \"toself\", \"fillcolor\": \"#B8AC77\", \"hoveron\": \"fills\", \"hovertemplate\": \"<b>ID:%{name}</b>\", \"legendgroup\": \"CDS\", \"line\": {\"color\": \"#B8AC77\", \"width\": 0.1}, \"marker\": {\"size\": 0.1, \"symbol\": \"diamond-tall\"}, \"name\": \"S000032719\", \"showlegend\": false, \"type\": \"scatter\", \"x\": [125069, 125069, 124755, 124755, 125069], \"y\": [-11, -20, -20, -11, -11]}, {\"fill\": \"toself\", \"fillcolor\": \"#B8AC77\", \"hoveron\": \"fills\", \"hovertemplate\": \"<b>ID:%{name}</b>\", \"legendgroup\": \"CDS\", \"line\": {\"color\": \"#B8AC77\", \"width\": 0.1}, \"marker\": {\"size\": 0.1, \"symbol\": \"diamond-tall\"}, \"name\": \"S000036247\", \"showlegend\": false, \"type\": \"scatter\", \"x\": [128102, 128102, 126903, 126903, 128102], \"y\": [-11, -20, -20, -11, -11]}, {\"fill\": \"toself\", \"fillcolor\": \"#B8AC77\", \"hoveron\": \"fills\", \"hovertemplate\": \"<b>ID:%{name}</b>\", \"legendgroup\": \"CDS\", \"line\": {\"color\": \"#B8AC77\", \"width\": 0.1}, \"marker\": {\"size\": 0.1, \"symbol\": \"diamond-tall\"}, \"name\": \"S000036146\", \"showlegend\": false, \"type\": \"scatter\", \"x\": [129019, 129019, 128252, 128252, 129019], \"y\": [-11, -20, -20, -11, -11]}, {\"fill\": \"toself\", \"fillcolor\": \"#B8AC77\", \"hoveron\": \"fills\", \"hovertemplate\": \"<b>ID:%{name}</b>\", \"legendgroup\": \"CDS\", \"line\": {\"color\": \"#B8AC77\", \"width\": 0.1}, \"marker\": {\"size\": 0.1, \"symbol\": \"diamond-tall\"}, \"name\": \"S000034958\", \"showlegend\": false, \"type\": \"scatter\", \"x\": [135665, 135665, 134184, 134184, 135665], \"y\": [-11, -20, -20, -11, -11]}, {\"fill\": \"toself\", \"fillcolor\": \"#B8AC77\", \"hoveron\": \"fills\", \"hovertemplate\": \"<b>ID:%{name}</b>\", \"legendgroup\": \"CDS\", \"line\": {\"color\": \"#B8AC77\", \"width\": 0.1}, \"marker\": {\"size\": 0.1, \"symbol\": \"diamond-tall\"}, \"name\": \"S000033112\", \"showlegend\": false, \"type\": \"scatter\", \"x\": [138345, 138345, 137698, 137698, 138345], \"y\": [-11, -20, -20, -11, -11]}, {\"fill\": \"toself\", \"fillcolor\": \"#B8AC77\", \"hoveron\": \"fills\", \"hovertemplate\": \"<b>ID:%{name}</b>\", \"legendgroup\": \"CDS\", \"line\": {\"color\": \"#B8AC77\", \"width\": 0.1}, \"marker\": {\"size\": 0.1, \"symbol\": \"diamond-tall\"}, \"name\": \"S000032096\", \"showlegend\": false, \"type\": \"scatter\", \"x\": [141431, 141431, 139503, 139503, 141431], \"y\": [-11, -20, -20, -11, -11]}, {\"fill\": \"toself\", \"fillcolor\": \"#B8AC77\", \"hoveron\": \"fills\", \"hovertemplate\": \"<b>ID:%{name}</b>\", \"legendgroup\": \"CDS\", \"line\": {\"color\": \"#B8AC77\", \"width\": 0.1}, \"marker\": {\"size\": 0.1, \"symbol\": \"diamond-tall\"}, \"name\": \"S000030735\", \"showlegend\": false, \"type\": \"scatter\", \"x\": [151006, 151006, 147594, 147594, 151006], \"y\": [-11, -20, -20, -11, -11]}, {\"fill\": \"toself\", \"fillcolor\": \"#B8AC77\", \"hoveron\": \"fills\", \"hovertemplate\": \"<b>ID:%{name}</b>\", \"legendgroup\": \"CDS\", \"line\": {\"color\": \"#B8AC77\", \"width\": 0.1}, \"marker\": {\"size\": 0.1, \"symbol\": \"diamond-tall\"}, \"name\": \"S000030734\", \"showlegend\": false, \"type\": \"scatter\", \"x\": [151166, 151166, 151097, 151097, 151166], \"y\": [-11, -20, -20, -11, -11]}, {\"fill\": \"toself\", \"fillcolor\": \"#B8AC77\", \"hoveron\": \"fills\", \"hovertemplate\": \"<b>ID:%{name}</b>\", \"legendgroup\": \"CDS\", \"line\": {\"color\": \"#B8AC77\", \"width\": 0.1}, \"marker\": {\"size\": 0.1, \"symbol\": \"diamond-tall\"}, \"name\": \"S000032940\", \"showlegend\": false, \"type\": \"scatter\", \"x\": [154724, 154724, 154065, 154065, 154724], \"y\": [-11, -20, -20, -11, -11]}, {\"fill\": \"toself\", \"fillcolor\": \"#B8AC77\", \"hoveron\": \"fills\", \"hovertemplate\": \"<b>ID:%{name}</b>\", \"legendgroup\": \"CDS\", \"line\": {\"color\": \"#B8AC77\", \"width\": 0.1}, \"marker\": {\"size\": 0.1, \"symbol\": \"diamond-tall\"}, \"name\": \"S000036676\", \"showlegend\": false, \"type\": \"scatter\", \"x\": [158619, 158619, 156754, 156754, 158619], \"y\": [-11, -20, -20, -11, -11]}, {\"fill\": \"toself\", \"fillcolor\": \"#B8AC77\", \"hoveron\": \"fills\", \"hovertemplate\": \"<b>ID:%{name}</b>\", \"legendgroup\": \"CDS\", \"line\": {\"color\": \"#B8AC77\", \"width\": 0.1}, \"marker\": {\"size\": 0.1, \"symbol\": \"diamond-tall\"}, \"name\": \"S000037508\", \"showlegend\": false, \"type\": \"scatter\", \"x\": [164187, 164187, 160597, 160597, 164187], \"y\": [-11, -20, -20, -11, -11]}, {\"fill\": \"toself\", \"fillcolor\": \"#B8AC77\", \"hoveron\": \"fills\", \"hovertemplate\": \"<b>ID:%{name}</b>\", \"legendgroup\": \"CDS\", \"line\": {\"color\": \"#B8AC77\", \"width\": 0.1}, \"marker\": {\"size\": 0.1, \"symbol\": \"diamond-tall\"}, \"name\": \"S000030210\", \"showlegend\": false, \"type\": \"scatter\", \"x\": [165866, 165866, 164544, 164544, 165866], \"y\": [-11, -20, -20, -11, -11]}, {\"fill\": \"toself\", \"fillcolor\": \"#B8AC77\", \"hoveron\": \"fills\", \"hovertemplate\": \"<b>ID:%{name}</b>\", \"legendgroup\": \"CDS\", \"line\": {\"color\": \"#B8AC77\", \"width\": 0.1}, \"marker\": {\"size\": 0.1, \"symbol\": \"diamond-tall\"}, \"name\": \"S000031457\", \"showlegend\": false, \"type\": \"scatter\", \"x\": [168871, 168871, 166742, 166742, 168871], \"y\": [-11, -20, -20, -11, -11]}, {\"fill\": \"toself\", \"fillcolor\": \"#B8AC77\", \"hoveron\": \"fills\", \"hovertemplate\": \"<b>ID:%{name}</b>\", \"legendgroup\": \"CDS\", \"line\": {\"color\": \"#B8AC77\", \"width\": 0.1}, \"marker\": {\"size\": 0.1, \"symbol\": \"diamond-tall\"}, \"name\": \"S000032711\", \"showlegend\": false, \"type\": \"scatter\", \"x\": [171703, 171703, 170396, 170396, 171703], \"y\": [-11, -20, -20, -11, -11]}, {\"fill\": \"toself\", \"fillcolor\": \"#B8AC77\", \"hoveron\": \"fills\", \"hovertemplate\": \"<b>ID:%{name}</b>\", \"legendgroup\": \"CDS\", \"line\": {\"color\": \"#B8AC77\", \"width\": 0.1}, \"marker\": {\"size\": 0.1, \"symbol\": \"diamond-tall\"}, \"name\": \"S000032794\", \"showlegend\": false, \"type\": \"scatter\", \"x\": [175135, 175135, 172211, 172211, 175135], \"y\": [-11, -20, -20, -11, -11]}, {\"fill\": \"toself\", \"fillcolor\": \"#B8AC77\", \"hoveron\": \"fills\", \"hovertemplate\": \"<b>ID:%{name}</b>\", \"legendgroup\": \"CDS\", \"line\": {\"color\": \"#B8AC77\", \"width\": 0.1}, \"marker\": {\"size\": 0.1, \"symbol\": \"diamond-tall\"}, \"name\": \"S000034578\", \"showlegend\": false, \"type\": \"scatter\", \"x\": [177023, 177023, 176856, 176856, 177023], \"y\": [-11, -20, -20, -11, -11]}, {\"fill\": \"toself\", \"fillcolor\": \"#B8AC77\", \"hoveron\": \"fills\", \"hovertemplate\": \"<b>ID:%{name}</b>\", \"legendgroup\": \"CDS\", \"line\": {\"color\": \"#B8AC77\", \"width\": 0.1}, \"marker\": {\"size\": 0.1, \"symbol\": \"diamond-tall\"}, \"name\": \"S000035643\", \"showlegend\": false, \"type\": \"scatter\", \"x\": [179820, 179820, 179281, 179281, 179820], \"y\": [-11, -20, -20, -11, -11]}, {\"fill\": \"toself\", \"fillcolor\": \"#B8AC77\", \"hoveron\": \"fills\", \"hovertemplate\": \"<b>ID:%{name}</b>\", \"legendgroup\": \"CDS\", \"line\": {\"color\": \"#B8AC77\", \"width\": 0.1}, \"marker\": {\"size\": 0.1, \"symbol\": \"diamond-tall\"}, \"name\": \"S000036694\", \"showlegend\": false, \"type\": \"scatter\", \"x\": [186853, 186853, 186512, 186512, 186853], \"y\": [-11, -20, -20, -11, -11]}, {\"fill\": \"toself\", \"fillcolor\": \"#B8AC77\", \"hoveron\": \"fills\", \"hovertemplate\": \"<b>ID:%{name}</b>\", \"legendgroup\": \"CDS\", \"line\": {\"color\": \"#B8AC77\", \"width\": 0.1}, \"marker\": {\"size\": 0.1, \"symbol\": \"diamond-tall\"}, \"name\": \"S000031375\", \"showlegend\": false, \"type\": \"scatter\", \"x\": [192417, 192417, 192337, 192337, 192417], \"y\": [-11, -20, -20, -11, -11]}, {\"fill\": \"toself\", \"fillcolor\": \"#B8AC77\", \"hoveron\": \"fills\", \"hovertemplate\": \"<b>ID:%{name}</b>\", \"legendgroup\": \"CDS\", \"line\": {\"color\": \"#B8AC77\", \"width\": 0.1}, \"marker\": {\"size\": 0.1, \"symbol\": \"diamond-tall\"}, \"name\": \"S000031684\", \"showlegend\": false, \"type\": \"scatter\", \"x\": [201787, 201787, 201467, 201467, 201787], \"y\": [-11, -20, -20, -11, -11]}, {\"fill\": \"toself\", \"fillcolor\": \"#B8AC77\", \"hoveron\": \"fills\", \"hovertemplate\": \"<b>ID:%{name}</b>\", \"legendgroup\": \"CDS\", \"line\": {\"color\": \"#B8AC77\", \"width\": 0.1}, \"marker\": {\"size\": 0.1, \"symbol\": \"diamond-tall\"}, \"name\": \"S000032661\", \"showlegend\": false, \"type\": \"scatter\", \"x\": [217492, 217492, 217157, 217157, 217492], \"y\": [-11, -20, -20, -11, -11]}, {\"fill\": \"toself\", \"fillcolor\": \"#B8AC77\", \"hoveron\": \"fills\", \"hovertemplate\": \"<b>ID:%{name}</b>\", \"legendgroup\": \"CDS\", \"line\": {\"color\": \"#B8AC77\", \"width\": 0.1}, \"marker\": {\"size\": 0.1, \"symbol\": \"diamond-tall\"}, \"name\": \"S000035758\", \"showlegend\": false, \"type\": \"scatter\", \"x\": [224304, 224304, 224011, 224011, 224304], \"y\": [-11, -20, -20, -11, -11]}, {\"fill\": \"toself\", \"fillcolor\": \"#B8AC77\", \"hoveron\": \"fills\", \"hovertemplate\": \"<b>ID:%{name}</b>\", \"legendgroup\": \"CDS\", \"line\": {\"color\": \"#B8AC77\", \"width\": 0.1}, \"marker\": {\"size\": 0.1, \"symbol\": \"diamond-tall\"}, \"name\": \"S000036733\", \"showlegend\": false, \"type\": \"scatter\", \"x\": [224862, 224862, 224563, 224563, 224862], \"y\": [-11, -20, -20, -11, -11]}, {\"fill\": \"toself\", \"fillcolor\": \"#B8AC77\", \"hoverinfo\": \"none\", \"line\": {\"color\": \"#B8AC77\", \"width\": 0.1}, \"marker\": {\"size\": 0.01}, \"name\": \"CDS\", \"type\": \"scatter\", \"x\": [0], \"y\": [0]}, {\"fill\": \"toself\", \"fillcolor\": \"black\", \"hoverinfo\": \"none\", \"line\": {\"color\": \"black\", \"width\": 0.1}, \"marker\": {\"size\": 0.01}, \"name\": \"centromere\", \"type\": \"scatter\", \"x\": [0], \"y\": [0]}, {\"fill\": \"toself\", \"fillcolor\": \"black\", \"hoverinfo\": \"none\", \"line\": {\"color\": \"black\", \"width\": 0.1}, \"marker\": {\"size\": 0.01}, \"name\": \"telomere\", \"type\": \"scatter\", \"x\": [0], \"y\": [0]}],                        {\"plot_bgcolor\": \"white\", \"template\": {\"data\": {\"bar\": [{\"error_x\": {\"color\": \"#2a3f5f\"}, \"error_y\": {\"color\": \"#2a3f5f\"}, \"marker\": {\"line\": {\"color\": \"#E5ECF6\", \"width\": 0.5}}, \"type\": \"bar\"}], \"barpolar\": [{\"marker\": {\"line\": {\"color\": \"#E5ECF6\", \"width\": 0.5}}, \"type\": \"barpolar\"}], \"carpet\": [{\"aaxis\": {\"endlinecolor\": \"#2a3f5f\", \"gridcolor\": \"white\", \"linecolor\": \"white\", \"minorgridcolor\": \"white\", \"startlinecolor\": \"#2a3f5f\"}, \"baxis\": {\"endlinecolor\": \"#2a3f5f\", \"gridcolor\": \"white\", \"linecolor\": \"white\", \"minorgridcolor\": \"white\", \"startlinecolor\": \"#2a3f5f\"}, \"type\": \"carpet\"}], \"choropleth\": [{\"colorbar\": {\"outlinewidth\": 0, \"ticks\": \"\"}, \"type\": \"choropleth\"}], \"contour\": [{\"colorbar\": {\"outlinewidth\": 0, \"ticks\": \"\"}, \"colorscale\": [[0.0, \"#0d0887\"], [0.1111111111111111, \"#46039f\"], [0.2222222222222222, \"#7201a8\"], [0.3333333333333333, \"#9c179e\"], [0.4444444444444444, \"#bd3786\"], [0.5555555555555556, \"#d8576b\"], [0.6666666666666666, \"#ed7953\"], [0.7777777777777778, \"#fb9f3a\"], [0.8888888888888888, \"#fdca26\"], [1.0, \"#f0f921\"]], \"type\": \"contour\"}], \"contourcarpet\": [{\"colorbar\": {\"outlinewidth\": 0, \"ticks\": \"\"}, \"type\": \"contourcarpet\"}], \"heatmap\": [{\"colorbar\": {\"outlinewidth\": 0, \"ticks\": \"\"}, \"colorscale\": [[0.0, \"#0d0887\"], [0.1111111111111111, \"#46039f\"], [0.2222222222222222, \"#7201a8\"], [0.3333333333333333, \"#9c179e\"], [0.4444444444444444, \"#bd3786\"], [0.5555555555555556, \"#d8576b\"], [0.6666666666666666, \"#ed7953\"], [0.7777777777777778, \"#fb9f3a\"], [0.8888888888888888, \"#fdca26\"], [1.0, \"#f0f921\"]], \"type\": \"heatmap\"}], \"heatmapgl\": [{\"colorbar\": {\"outlinewidth\": 0, \"ticks\": \"\"}, \"colorscale\": [[0.0, \"#0d0887\"], [0.1111111111111111, \"#46039f\"], [0.2222222222222222, \"#7201a8\"], [0.3333333333333333, \"#9c179e\"], [0.4444444444444444, \"#bd3786\"], [0.5555555555555556, \"#d8576b\"], [0.6666666666666666, \"#ed7953\"], [0.7777777777777778, \"#fb9f3a\"], [0.8888888888888888, \"#fdca26\"], [1.0, \"#f0f921\"]], \"type\": \"heatmapgl\"}], \"histogram\": [{\"marker\": {\"colorbar\": {\"outlinewidth\": 0, \"ticks\": \"\"}}, \"type\": \"histogram\"}], \"histogram2d\": [{\"colorbar\": {\"outlinewidth\": 0, \"ticks\": \"\"}, \"colorscale\": [[0.0, \"#0d0887\"], [0.1111111111111111, \"#46039f\"], [0.2222222222222222, \"#7201a8\"], [0.3333333333333333, \"#9c179e\"], [0.4444444444444444, \"#bd3786\"], [0.5555555555555556, \"#d8576b\"], [0.6666666666666666, \"#ed7953\"], [0.7777777777777778, \"#fb9f3a\"], [0.8888888888888888, \"#fdca26\"], [1.0, \"#f0f921\"]], \"type\": \"histogram2d\"}], \"histogram2dcontour\": [{\"colorbar\": {\"outlinewidth\": 0, \"ticks\": \"\"}, \"colorscale\": [[0.0, \"#0d0887\"], [0.1111111111111111, \"#46039f\"], [0.2222222222222222, \"#7201a8\"], [0.3333333333333333, \"#9c179e\"], [0.4444444444444444, \"#bd3786\"], [0.5555555555555556, \"#d8576b\"], [0.6666666666666666, \"#ed7953\"], [0.7777777777777778, \"#fb9f3a\"], [0.8888888888888888, \"#fdca26\"], [1.0, \"#f0f921\"]], \"type\": \"histogram2dcontour\"}], \"mesh3d\": [{\"colorbar\": {\"outlinewidth\": 0, \"ticks\": \"\"}, \"type\": \"mesh3d\"}], \"parcoords\": [{\"line\": {\"colorbar\": {\"outlinewidth\": 0, \"ticks\": \"\"}}, \"type\": \"parcoords\"}], \"pie\": [{\"automargin\": true, \"type\": \"pie\"}], \"scatter\": [{\"marker\": {\"colorbar\": {\"outlinewidth\": 0, \"ticks\": \"\"}}, \"type\": \"scatter\"}], \"scatter3d\": [{\"line\": {\"colorbar\": {\"outlinewidth\": 0, \"ticks\": \"\"}}, \"marker\": {\"colorbar\": {\"outlinewidth\": 0, \"ticks\": \"\"}}, \"type\": \"scatter3d\"}], \"scattercarpet\": [{\"marker\": {\"colorbar\": {\"outlinewidth\": 0, \"ticks\": \"\"}}, \"type\": \"scattercarpet\"}], \"scattergeo\": [{\"marker\": {\"colorbar\": {\"outlinewidth\": 0, \"ticks\": \"\"}}, \"type\": \"scattergeo\"}], \"scattergl\": [{\"marker\": {\"colorbar\": {\"outlinewidth\": 0, \"ticks\": \"\"}}, \"type\": \"scattergl\"}], \"scattermapbox\": [{\"marker\": {\"colorbar\": {\"outlinewidth\": 0, \"ticks\": \"\"}}, \"type\": \"scattermapbox\"}], \"scatterpolar\": [{\"marker\": {\"colorbar\": {\"outlinewidth\": 0, \"ticks\": \"\"}}, \"type\": \"scatterpolar\"}], \"scatterpolargl\": [{\"marker\": {\"colorbar\": {\"outlinewidth\": 0, \"ticks\": \"\"}}, \"type\": \"scatterpolargl\"}], \"scatterternary\": [{\"marker\": {\"colorbar\": {\"outlinewidth\": 0, \"ticks\": \"\"}}, \"type\": \"scatterternary\"}], \"surface\": [{\"colorbar\": {\"outlinewidth\": 0, \"ticks\": \"\"}, \"colorscale\": [[0.0, \"#0d0887\"], [0.1111111111111111, \"#46039f\"], [0.2222222222222222, \"#7201a8\"], [0.3333333333333333, \"#9c179e\"], [0.4444444444444444, \"#bd3786\"], [0.5555555555555556, \"#d8576b\"], [0.6666666666666666, \"#ed7953\"], [0.7777777777777778, \"#fb9f3a\"], [0.8888888888888888, \"#fdca26\"], [1.0, \"#f0f921\"]], \"type\": \"surface\"}], \"table\": [{\"cells\": {\"fill\": {\"color\": \"#EBF0F8\"}, \"line\": {\"color\": \"white\"}}, \"header\": {\"fill\": {\"color\": \"#C8D4E3\"}, \"line\": {\"color\": \"white\"}}, \"type\": \"table\"}]}, \"layout\": {\"annotationdefaults\": {\"arrowcolor\": \"#2a3f5f\", \"arrowhead\": 0, \"arrowwidth\": 1}, \"autotypenumbers\": \"strict\", \"coloraxis\": {\"colorbar\": {\"outlinewidth\": 0, \"ticks\": \"\"}}, \"colorscale\": {\"diverging\": [[0, \"#8e0152\"], [0.1, \"#c51b7d\"], [0.2, \"#de77ae\"], [0.3, \"#f1b6da\"], [0.4, \"#fde0ef\"], [0.5, \"#f7f7f7\"], [0.6, \"#e6f5d0\"], [0.7, \"#b8e186\"], [0.8, \"#7fbc41\"], [0.9, \"#4d9221\"], [1, \"#276419\"]], \"sequential\": [[0.0, \"#0d0887\"], [0.1111111111111111, \"#46039f\"], [0.2222222222222222, \"#7201a8\"], [0.3333333333333333, \"#9c179e\"], [0.4444444444444444, \"#bd3786\"], [0.5555555555555556, \"#d8576b\"], [0.6666666666666666, \"#ed7953\"], [0.7777777777777778, \"#fb9f3a\"], [0.8888888888888888, \"#fdca26\"], [1.0, \"#f0f921\"]], \"sequentialminus\": [[0.0, \"#0d0887\"], [0.1111111111111111, \"#46039f\"], [0.2222222222222222, \"#7201a8\"], [0.3333333333333333, \"#9c179e\"], [0.4444444444444444, \"#bd3786\"], [0.5555555555555556, \"#d8576b\"], [0.6666666666666666, \"#ed7953\"], [0.7777777777777778, \"#fb9f3a\"], [0.8888888888888888, \"#fdca26\"], [1.0, \"#f0f921\"]]}, \"colorway\": [\"#636efa\", \"#EF553B\", \"#00cc96\", \"#ab63fa\", \"#FFA15A\", \"#19d3f3\", \"#FF6692\", \"#B6E880\", \"#FF97FF\", \"#FECB52\"], \"font\": {\"color\": \"#2a3f5f\"}, \"geo\": {\"bgcolor\": \"white\", \"lakecolor\": \"white\", \"landcolor\": \"#E5ECF6\", \"showlakes\": true, \"showland\": true, \"subunitcolor\": \"white\"}, \"hoverlabel\": {\"align\": \"left\"}, \"hovermode\": \"closest\", \"mapbox\": {\"style\": \"light\"}, \"paper_bgcolor\": \"white\", \"plot_bgcolor\": \"#E5ECF6\", \"polar\": {\"angularaxis\": {\"gridcolor\": \"white\", \"linecolor\": \"white\", \"ticks\": \"\"}, \"bgcolor\": \"#E5ECF6\", \"radialaxis\": {\"gridcolor\": \"white\", \"linecolor\": \"white\", \"ticks\": \"\"}}, \"scene\": {\"xaxis\": {\"backgroundcolor\": \"#E5ECF6\", \"gridcolor\": \"white\", \"gridwidth\": 2, \"linecolor\": \"white\", \"showbackground\": true, \"ticks\": \"\", \"zerolinecolor\": \"white\"}, \"yaxis\": {\"backgroundcolor\": \"#E5ECF6\", \"gridcolor\": \"white\", \"gridwidth\": 2, \"linecolor\": \"white\", \"showbackground\": true, \"ticks\": \"\", \"zerolinecolor\": \"white\"}, \"zaxis\": {\"backgroundcolor\": \"#E5ECF6\", \"gridcolor\": \"white\", \"gridwidth\": 2, \"linecolor\": \"white\", \"showbackground\": true, \"ticks\": \"\", \"zerolinecolor\": \"white\"}}, \"shapedefaults\": {\"line\": {\"color\": \"#2a3f5f\"}}, \"ternary\": {\"aaxis\": {\"gridcolor\": \"white\", \"linecolor\": \"white\", \"ticks\": \"\"}, \"baxis\": {\"gridcolor\": \"white\", \"linecolor\": \"white\", \"ticks\": \"\"}, \"bgcolor\": \"#E5ECF6\", \"caxis\": {\"gridcolor\": \"white\", \"linecolor\": \"white\", \"ticks\": \"\"}}, \"title\": {\"x\": 0.05}, \"xaxis\": {\"automargin\": true, \"gridcolor\": \"white\", \"linecolor\": \"white\", \"ticks\": \"\", \"title\": {\"standoff\": 15}, \"zerolinecolor\": \"white\", \"zerolinewidth\": 2}, \"yaxis\": {\"automargin\": true, \"gridcolor\": \"white\", \"linecolor\": \"white\", \"ticks\": \"\", \"title\": {\"standoff\": 15}, \"zerolinecolor\": \"white\", \"zerolinewidth\": 2}}}, \"xaxis\": {\"range\": [-10000, 260000], \"showgrid\": false}, \"yaxis\": {\"range\": [-100, 100], \"showgrid\": false}},                        {\"responsive\": true}                    ).then(function(){\n",
       "                            \n",
       "var gd = document.getElementById('483166d4-ee50-4a26-adca-3e14d3905750');\n",
       "var x = new MutationObserver(function (mutations, observer) {{\n",
       "        var display = window.getComputedStyle(gd).display;\n",
       "        if (!display || display === 'none') {{\n",
       "            console.log([gd, 'removed!']);\n",
       "            Plotly.purge(gd);\n",
       "            observer.disconnect();\n",
       "        }}\n",
       "}});\n",
       "\n",
       "// Listen for the removal of the full notebook cells\n",
       "var notebookContainer = gd.closest('#notebook-container');\n",
       "if (notebookContainer) {{\n",
       "    x.observe(notebookContainer, {childList: true});\n",
       "}}\n",
       "\n",
       "// Listen for the clearing of the current output cell\n",
       "var outputEl = gd.closest('.output');\n",
       "if (outputEl) {{\n",
       "    x.observe(outputEl, {childList: true});\n",
       "}}\n",
       "\n",
       "                        })                };                });            </script>        </div>"
      ]
     },
     "metadata": {},
     "output_type": "display_data"
    }
   ],
   "source": [
    "#Get data\n",
    "chrom_1_sense = getChromInfo('../SCERE.db', \"1\", \n",
    "                             \"\"\"Primary_SGDID, Start_coordinate, Stop_coordinate, Feature_type, Feature_name, Description\"\"\")[0]\n",
    "\n",
    "chrom_1_antisense = getChromInfo('../SCERE.db', \"1\", \n",
    "                                 \"\"\"Primary_SGDID, Start_coordinate, Stop_coordinate, Feature_type, Feature_name, Description\"\"\")[1]\n",
    "\n",
    "#display(chrom_1_sense.head())\n",
    "\n",
    "#Figure's Layout\n",
    "layout = go.Layout(plot_bgcolor='white')\n",
    "fig = go.Figure(layout = layout)\n",
    "fig.update_layout(xaxis_showgrid=False, yaxis_showgrid=False)\n",
    "fig.update_xaxes(range=[-10000, 260000])\n",
    "fig.update_yaxes(range=[-100, 100])\n",
    "\n",
    "#Add chromosome\n",
    "AddChromosome(fig, 0, 230218, 0, -20, 'lightgrey', '1')\n",
    "\n",
    "# Add locus\n",
    "chrom_1_sense.apply(AddLocus, axis = 1, args =(fig,\n",
    "                                         0,\n",
    "                                         -10,\n",
    "                                         [\"Feature_type\",\"Feature_type\",\"Feature_type\"],\n",
    "                                         [\"CDS\",\"centromere\",\"telomere\"],\n",
    "                                         ['#B8AC77','black',\"black\"]))\n",
    "\n",
    "chrom_1_antisense.apply(AddLocus, axis = 1, args =(fig,\n",
    "                                            -11,\n",
    "                                            -20,\n",
    "                                            [\"Feature_type\",\"Feature_type\",\"Feature_type\"],\n",
    "                                            [\"CDS\",\"centromere\",\"telomere\"],\n",
    "                                            ['#B8AC77','black',\"black\"]))\n",
    "\n",
    "# Add legend\n",
    "AddLegend(fig,\n",
    "          [\"CDS\",\"centromere\",\"telomere\"],\n",
    "          ['#B8AC77','black',\"black\"])\n",
    "\n",
    "fig.show()"
   ]
  },
  {
   "cell_type": "code",
   "execution_count": null,
   "metadata": {},
   "outputs": [],
   "source": []
  }
 ],
 "metadata": {
  "kernelspec": {
   "display_name": "Python 3",
   "language": "python",
   "name": "python3"
  },
  "language_info": {
   "codemirror_mode": {
    "name": "ipython",
    "version": 3
   },
   "file_extension": ".py",
   "mimetype": "text/x-python",
   "name": "python",
   "nbconvert_exporter": "python",
   "pygments_lexer": "ipython3",
   "version": "3.8.2"
  }
 },
 "nbformat": 4,
 "nbformat_minor": 5
}
